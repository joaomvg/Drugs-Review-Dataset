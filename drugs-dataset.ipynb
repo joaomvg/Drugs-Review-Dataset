{
 "cells": [
  {
   "cell_type": "markdown",
   "metadata": {},
   "source": [
    "# Table of Contents"
   ]
  },
  {
   "cell_type": "markdown",
   "metadata": {},
   "source": [
    "1. [Load Libraries and Sagemaker](#Load-Libraries-&-Sagemaker-Session)\n",
    "2. [Load Saved Files](#Load-saved-files)\n",
    "3. [Download original files](#Download-original-files)\n",
    "4. [EDA](#EDA)\n",
    "    - [Data Cleaning and Preparation](#Data-cleaning-and-preparation)\n",
    "    - [Drugs names](#Drug-names)\n",
    "    - [Condition](#Condition)\n",
    "    - [Sentiment](#Sentiment)\n",
    "    - [Joint Probabilities and Mutual Information](#Joint-Probabilities-and-Mutual-Information)\n",
    "5. [Bag of Words: Cvectorizer and TfIdfVectorizer](#Bag-of-Words:-CVectorizer-and-TfIdfVectorizer)\n",
    "    - [Create Vocabulary](#Create-Vocabulary)\n",
    "    - [Cvectorizers](#Cvectorizers)\n",
    "    - [TfIdfVectorizers](#TfIdfVectorizer)\n",
    "6. [LSTM model data preparation](#LSTM-model-data-preparation)\n",
    "7. [Models Log File](#Models-Log-File)\n",
    "8. [Condition=f(drug)](#Condition=f(drug))\n",
    "    - [NB](#NB)\n",
    "    - [Decision Tree](#Decision-Tree)\n",
    "    - [Random Forest Classifier](#Random-Forest-Classifier)\n",
    "    - [Linear SVC](#Linear-SVC)\n",
    "    - [Set Analysis](#Set-analysis)\n",
    "9. [Condition=f(review)](#Condition=f(review))\n",
    "    - [NB](#NB-model)\n",
    "    - [Random Forest](#Random-Forest)\n",
    "    - [XGboost](#XGboost)\n",
    "    - [FeedFoward-NN Pytorch](#FeedFoward-NN-Pytorch)\n",
    "10. [Sentiment=f(review)](#Sentiment=f(review))\n",
    "    - [NB model](#Naive-Bayes)\n",
    "    - [LSVC](#LSVC)\n",
    "    - [Random Forest](#Random-Forest-Clf.)\n",
    "    - [FeedFowardNN Pytorch](#FeedFowardNN-Pytorch)\n",
    "    - [LSTM Pytorch](#LSTM-Pytorch)"
   ]
  },
  {
   "cell_type": "markdown",
   "metadata": {},
   "source": [
    "# Load Libraries & Sagemaker Session"
   ]
  },
  {
   "cell_type": "code",
   "execution_count": 1,
   "metadata": {},
   "outputs": [],
   "source": [
    "import pandas as pd\n",
    "import nltk\n",
    "from nltk.corpus import stopwords\n",
    "from nltk.stem.porter import *\n",
    "import re\n",
    "from bs4 import BeautifulSoup\n",
    "import pickle\n",
    "import os\n",
    "import itertools\n",
    "from sys import getsizeof\n",
    "from progressbar import progressbar\n",
    "import numpy as np\n",
    "import json \n",
    "from scipy import sparse\n",
    "\n",
    "import matplotlib.pyplot as plt"
   ]
  },
  {
   "cell_type": "code",
   "execution_count": 2,
   "metadata": {},
   "outputs": [],
   "source": [
    "import seaborn as sns\n",
    "sns.set()"
   ]
  },
  {
   "cell_type": "markdown",
   "metadata": {},
   "source": [
    "Parallel processing"
   ]
  },
  {
   "cell_type": "code",
   "execution_count": null,
   "metadata": {},
   "outputs": [],
   "source": [
    "import multiprocessing as mp"
   ]
  },
  {
   "cell_type": "markdown",
   "metadata": {},
   "source": [
    "SKLearn libs + Counter + XGboost"
   ]
  },
  {
   "cell_type": "code",
   "execution_count": 3,
   "metadata": {},
   "outputs": [],
   "source": [
    "from sklearn.metrics import accuracy_score\n",
    "from sklearn.model_selection import train_test_split, cross_val_score\n",
    "\n",
    "from sklearn.naive_bayes import MultinomialNB\n",
    "from sklearn.ensemble import RandomForestClassifier\n",
    "from sklearn.svm import LinearSVC\n",
    "from sklearn.tree import DecisionTreeClassifier\n",
    "from sklearn.preprocessing import OneHotEncoder\n",
    "\n",
    "import xgboost as xgb\n",
    "\n",
    "from sklearn.metrics.cluster import normalized_mutual_info_score\n",
    "from sklearn.feature_extraction.text import CountVectorizer, TfidfVectorizer,TfidfTransformer\n",
    "\n",
    "from collections import Counter"
   ]
  },
  {
   "cell_type": "markdown",
   "metadata": {},
   "source": [
    "Pytorch libs"
   ]
  },
  {
   "cell_type": "code",
   "execution_count": 3,
   "metadata": {},
   "outputs": [],
   "source": [
    "import torch\n",
    "import torch.nn as nn\n",
    "import torch.nn.functional as F\n",
    "import torch.optim as optim"
   ]
  },
  {
   "cell_type": "markdown",
   "metadata": {},
   "source": [
    "S3 and Sagemaker"
   ]
  },
  {
   "cell_type": "code",
   "execution_count": 4,
   "metadata": {},
   "outputs": [],
   "source": [
    "import logging\n",
    "import boto3\n",
    "from botocore.exceptions import ClientError\n",
    "import sagemaker"
   ]
  },
  {
   "cell_type": "code",
   "execution_count": 5,
   "metadata": {},
   "outputs": [],
   "source": [
    "session = boto3.Session(profile_name='default')\n",
    "sagemaker_session = sagemaker.Session(boto_session=session)\n",
    "\n",
    "bucket = sagemaker_session.default_bucket()\n",
    "role = sagemaker.get_execution_role(sagemaker_session=sagemaker_session)"
   ]
  },
  {
   "cell_type": "markdown",
   "metadata": {},
   "source": [
    "# Load saved files"
   ]
  },
  {
   "cell_type": "markdown",
   "metadata": {},
   "source": [
    "Since several files are created throughout the analysis, some of them using a lot of memory, I decided to save them and then load the file if needed. "
   ]
  },
  {
   "cell_type": "markdown",
   "metadata": {},
   "source": [
    "Load clean dataframe ('full_data.csv'). This is the result of cleaning original files and joining train and test data."
   ]
  },
  {
   "cell_type": "code",
   "execution_count": 4,
   "metadata": {},
   "outputs": [],
   "source": [
    "data=pd.read_csv('full_data.csv',index_col=0)"
   ]
  },
  {
   "cell_type": "markdown",
   "metadata": {},
   "source": [
    "Load word-count object ('word_count.pkl'). Contains the full vocabulary and corresponding word (tokenized version) counts."
   ]
  },
  {
   "cell_type": "code",
   "execution_count": null,
   "metadata": {},
   "outputs": [],
   "source": [
    "word_count=pickle.load(open('word_count.pkl','rb'))"
   ]
  },
  {
   "cell_type": "markdown",
   "metadata": {},
   "source": [
    "Load drug_per_condition object. It is a Pandas.Series object containing all the different conditions and corresponding drug names in a form of a list."
   ]
  },
  {
   "cell_type": "code",
   "execution_count": 4,
   "metadata": {},
   "outputs": [],
   "source": [
    "drug_per_condition=pickle.load(open('drug_per_condition.pkl','rb'))"
   ]
  },
  {
   "cell_type": "markdown",
   "metadata": {},
   "source": [
    "Vocabulary size for each file. It retrieves the dimension of the vocabulary given the file name."
   ]
  },
  {
   "cell_type": "code",
   "execution_count": 1,
   "metadata": {},
   "outputs": [],
   "source": [
    "vocab_file={'reviews_cv5k.pkl':5000,\n",
    "           'reviews_cv10k.pkl':10000,\n",
    "           'reviews_cv20k.pkl':20000,\n",
    "           'reviews_cv50k.pkl':48319,\n",
    "           'reviews_tv5k.pkl':5000,\n",
    "           'reviews_tv10k.pkl':10000,\n",
    "           'reviews_tv20k.pkl':20000,\n",
    "           'reviews_tv50k.pkl':48319,\n",
    "           'reviews_seq_csr50k.pkl':48319,\n",
    "           'reviews_seq_csr10k.pkl':10000}"
   ]
  },
  {
   "cell_type": "markdown",
   "metadata": {},
   "source": [
    "**Load Reviews in csr_matrix format. Count-vectorizers**"
   ]
  },
  {
   "cell_type": "code",
   "execution_count": 4,
   "metadata": {},
   "outputs": [],
   "source": [
    "#for a vocabulary with 5000 words\n",
    "reviews_cv5k=pickle.load(open('reviews_cv5k.pkl','rb'))"
   ]
  },
  {
   "cell_type": "code",
   "execution_count": null,
   "metadata": {},
   "outputs": [],
   "source": [
    "#for a vocabulary with 10000 words\n",
    "reviews_cv10k=pickle.load(open('reviews_cv10k.pkl','rb'))"
   ]
  },
  {
   "cell_type": "code",
   "execution_count": null,
   "metadata": {},
   "outputs": [],
   "source": [
    "#for a vocabulary with 20000\n",
    "reviews_cv20k=pickle.load(open('reviews_cv20k.pkl','rb'))"
   ]
  },
  {
   "cell_type": "code",
   "execution_count": 22,
   "metadata": {},
   "outputs": [],
   "source": [
    "#for the full vocabulary\n",
    "reviews_cv50k=pickle.load(open('reviews_cv50k.pkl','rb'))"
   ]
  },
  {
   "cell_type": "code",
   "execution_count": 23,
   "metadata": {},
   "outputs": [
    {
     "data": {
      "text/plain": [
       "48319"
      ]
     },
     "execution_count": 23,
     "metadata": {},
     "output_type": "execute_result"
    }
   ],
   "source": [
    "reviews_cv50k.shape[1]"
   ]
  },
  {
   "cell_type": "markdown",
   "metadata": {},
   "source": [
    "**TfIdf vectorizers**"
   ]
  },
  {
   "cell_type": "code",
   "execution_count": null,
   "metadata": {},
   "outputs": [],
   "source": [
    "#for a vocabulary with 5000 words\n",
    "reviews_tv5k=pickle.load(open('reviews_tv5k.pkl','rb'))"
   ]
  },
  {
   "cell_type": "code",
   "execution_count": 16,
   "metadata": {},
   "outputs": [],
   "source": [
    "#for a vocabulary with 10000 words\n",
    "reviews_tv10k=pickle.load(open('reviews_tv10k.pkl','rb'))"
   ]
  },
  {
   "cell_type": "code",
   "execution_count": null,
   "metadata": {},
   "outputs": [],
   "source": [
    "#for a vocabulary with 20000\n",
    "reviews_tv20k=pickle.load(open('reviews_tv20k.pkl','rb'))"
   ]
  },
  {
   "cell_type": "code",
   "execution_count": 5,
   "metadata": {},
   "outputs": [],
   "source": [
    "#for the full vocabulary\n",
    "reviews_tv50k=pickle.load(open('reviews_tv50k.pkl','rb'))"
   ]
  },
  {
   "cell_type": "markdown",
   "metadata": {},
   "source": [
    "**Reviews to list**: it is a list of lists. Each entry contains the tokenized version of a review keeping the order of words. This is used to transform the review into a sequence of integers which we feed to the LSTM. Since we are testing multiple vocabularies this data is very useful."
   ]
  },
  {
   "cell_type": "code",
   "execution_count": null,
   "metadata": {},
   "outputs": [],
   "source": [
    "review_to_list=pickle.load(open('review_to_list.pkl','rb'))"
   ]
  },
  {
   "cell_type": "markdown",
   "metadata": {},
   "source": [
    "**LSTM files**: this is the transformed version of the reviews into arrays of integers using the full vocabulary (\"reviews_seq_csr50k\") and a shorter version of the vocabulary (\"reviews_seq_csr10k\"). We use csr_matrix format for better use of space and memory. When we send to training in the remote instance the sparse matrices are transformed into dense format. If loaded into your computer be aware that a large protion of memory will be used."
   ]
  },
  {
   "cell_type": "code",
   "execution_count": 6,
   "metadata": {},
   "outputs": [],
   "source": [
    "#for the full vocabulary\n",
    "reviews_seq_csr50k=pickle.load(open('reviews_seq_csr50k.pkl','rb'))"
   ]
  },
  {
   "cell_type": "code",
   "execution_count": null,
   "metadata": {},
   "outputs": [],
   "source": [
    "#for a vocabulary with 10000 words\n",
    "reviews_seq_csr10=pickle.load(open('reviews_seq_csr10k.pkl','rb'))"
   ]
  },
  {
   "cell_type": "markdown",
   "metadata": {},
   "source": [
    "# Download original files"
   ]
  },
  {
   "cell_type": "markdown",
   "metadata": {},
   "source": [
    "Download from UCI repo"
   ]
  },
  {
   "cell_type": "code",
   "execution_count": null,
   "metadata": {},
   "outputs": [],
   "source": [
    "!wget https://archive.ics.uci.edu/ml/machine-learning-databases/00462/drugsCom_raw.zip"
   ]
  },
  {
   "cell_type": "code",
   "execution_count": null,
   "metadata": {},
   "outputs": [],
   "source": [
    "!unzip drugsCom_raw.zip"
   ]
  },
  {
   "cell_type": "markdown",
   "metadata": {},
   "source": [
    "Load original files as a train and test dataframes"
   ]
  },
  {
   "cell_type": "code",
   "execution_count": null,
   "metadata": {},
   "outputs": [],
   "source": [
    "\"\"\"\n",
    "reads the original tsv files\n",
    "\"\"\"\n",
    "def read_data():\n",
    "    data_train = pd.read_csv('drugsComTrain_raw.tsv', sep='\\t',index_col=0)\n",
    "    data_test = pd.read_csv('drugsComTest_raw.tsv', sep='\\t',index_col=0)\n",
    "\n",
    "    return data_train, data_test\n",
    "\n",
    "data_train,data_test=read_data()"
   ]
  },
  {
   "cell_type": "code",
   "execution_count": null,
   "metadata": {},
   "outputs": [],
   "source": [
    "data_train.info()"
   ]
  },
  {
   "cell_type": "code",
   "execution_count": null,
   "metadata": {},
   "outputs": [],
   "source": [
    "data_test.info()"
   ]
  },
  {
   "cell_type": "markdown",
   "metadata": {},
   "source": [
    "# EDA"
   ]
  },
  {
   "cell_type": "markdown",
   "metadata": {},
   "source": [
    "## Data cleaning and preparation"
   ]
  },
  {
   "cell_type": "markdown",
   "metadata": {},
   "source": [
    "Clean data, remove rows with Nan values and rows with wrongly assigned conditions. Some patient conditions were not correctly assigned. They have html tags, so I use this to remove them from the dataset. "
   ]
  },
  {
   "cell_type": "code",
   "execution_count": null,
   "metadata": {},
   "outputs": [],
   "source": [
    "\"\"\"\n",
    "removes rows with Nan values, cleans the reviews from html tags and deletes wrongly assigned conditions.\n",
    "Some conditions have names that do not correspond to real patient conditions.\n",
    "\"\"\"\n",
    "def clean_train_test():\n",
    "    \n",
    "    train_df= data_train.dropna()\n",
    "    test_df = data_test.dropna()\n",
    "\n",
    "    def resub(review):\n",
    "        review = BeautifulSoup(review,'lxml').text #remove html tags including the \"&#039\"\n",
    "        return review\n",
    "\n",
    "    train_df.review = train_df.review.apply(resub)\n",
    "    test_df.review = test_df.review.apply(resub)\n",
    "\n",
    "    train_df = train_df[~train_df.condition.str.contains('</span>')]\n",
    "    test_df = test_df[~test_df.condition.str.contains('</span>')]\n",
    "\n",
    "    return train_df, test_df"
   ]
  },
  {
   "cell_type": "code",
   "execution_count": null,
   "metadata": {},
   "outputs": [],
   "source": [
    "train_df,test_df=clean_train_test()"
   ]
  },
  {
   "cell_type": "code",
   "execution_count": null,
   "metadata": {},
   "outputs": [],
   "source": [
    "train_df.head()"
   ]
  },
  {
   "cell_type": "markdown",
   "metadata": {},
   "source": [
    "Join Train and Test dataframes"
   ]
  },
  {
   "cell_type": "code",
   "execution_count": null,
   "metadata": {},
   "outputs": [],
   "source": [
    "data=pd.concat([train_df,test_df])"
   ]
  },
  {
   "cell_type": "code",
   "execution_count": null,
   "metadata": {},
   "outputs": [],
   "source": [
    "data.info()"
   ]
  },
  {
   "cell_type": "code",
   "execution_count": null,
   "metadata": {},
   "outputs": [],
   "source": [
    "#save data\n",
    "data.to_csv('full_data.csv')"
   ]
  },
  {
   "cell_type": "markdown",
   "metadata": {},
   "source": [
    "## Drug names"
   ]
  },
  {
   "cell_type": "code",
   "execution_count": 5,
   "metadata": {},
   "outputs": [],
   "source": [
    "drug_names=data.drugName.value_counts()"
   ]
  },
  {
   "cell_type": "code",
   "execution_count": 6,
   "metadata": {},
   "outputs": [
    {
     "data": {
      "text/plain": [
       "Levonorgestrel                         4896\n",
       "Etonogestrel                           4402\n",
       "Ethinyl estradiol / norethindrone      3619\n",
       "Nexplanon                              2883\n",
       "Ethinyl estradiol / norgestimate       2682\n",
       "                                       ... \n",
       "Topical Anesthetic Dental Gel             1\n",
       "Zetran                                    1\n",
       "Motrin Infant Drops                       1\n",
       "Ibudone                                   1\n",
       "Gramicidin / neomycin / polymyxin b       1\n",
       "Name: drugName, Length: 3654, dtype: int64"
      ]
     },
     "execution_count": 6,
     "metadata": {},
     "output_type": "execute_result"
    }
   ],
   "source": [
    "drug_names"
   ]
  },
  {
   "cell_type": "markdown",
   "metadata": {},
   "source": [
    "Drugs per condition"
   ]
  },
  {
   "cell_type": "code",
   "execution_count": 7,
   "metadata": {},
   "outputs": [],
   "source": [
    "drug_per_condition=data.groupby(['condition'])['drugName'].apply(lambda x: [el for el in x])"
   ]
  },
  {
   "cell_type": "code",
   "execution_count": 8,
   "metadata": {},
   "outputs": [
    {
     "data": {
      "text/plain": [
       "condition\n",
       "ADHD                           [Guanfacine, Daytrana, Intuniv, Focalin, Vyvan...\n",
       "AIDS Related Wasting           [Somatropin, Dronabinol, Marinol, Dronabinol, ...\n",
       "AV Heart Block                                                     [Epinephrine]\n",
       "Abdominal Distension                                   [Urecholine, Bethanechol]\n",
       "Abnormal Uterine Bleeding      [Provera, Medroxyprogesterone, Medroxyprogeste...\n",
       "                                                     ...                        \n",
       "unctional Gastric Disorde                                          [Simethicone]\n",
       "ungal Infection Prophylaxis                                       [Itraconazole]\n",
       "ungal Pneumonia                                                    [Fluconazole]\n",
       "von Willebrand's Disease       [Stimate, Stimate, Antihemophilic factor / von...\n",
       "zen Shoulde                    [Diclofenac, Indocin, Naproxen, Naproxen, Dicl...\n",
       "Name: drugName, Length: 836, dtype: object"
      ]
     },
     "execution_count": 8,
     "metadata": {},
     "output_type": "execute_result"
    }
   ],
   "source": [
    "drug_per_condition"
   ]
  },
  {
   "cell_type": "markdown",
   "metadata": {},
   "source": [
    "Save with Pickle"
   ]
  },
  {
   "cell_type": "code",
   "execution_count": null,
   "metadata": {},
   "outputs": [],
   "source": [
    "pickle.dump(drug_per_condition,open('drug_per_condition.pkl','wb'))"
   ]
  },
  {
   "cell_type": "markdown",
   "metadata": {},
   "source": [
    "## Condition"
   ]
  },
  {
   "cell_type": "code",
   "execution_count": 5,
   "metadata": {},
   "outputs": [
    {
     "name": "stdout",
     "output_type": "stream",
     "text": [
      "836\n"
     ]
    }
   ],
   "source": [
    "num_classes=len(set(data.condition))\n",
    "print(num_classes)"
   ]
  },
  {
   "cell_type": "code",
   "execution_count": 6,
   "metadata": {},
   "outputs": [
    {
     "data": {
      "text/plain": [
       "Birth Control                         18.070692\n",
       "Depression                             5.718907\n",
       "Pain                                   3.876388\n",
       "Anxiety                                3.672813\n",
       "Acne                                   3.495566\n",
       "                                        ...    \n",
       "Short Stature                          0.000470\n",
       "Paragonimus westermani, Lung Fluke     0.000470\n",
       "Rat-bite Feve                          0.000470\n",
       "Thyroid Suppression Test               0.000470\n",
       "Neoplastic Diseases                    0.000470\n",
       "Name: condition, Length: 836, dtype: float64"
      ]
     },
     "execution_count": 6,
     "metadata": {},
     "output_type": "execute_result"
    }
   ],
   "source": [
    "condition_dstrb=data.condition.value_counts()/data.shape[0]*100\n",
    "condition_dstrb"
   ]
  },
  {
   "cell_type": "code",
   "execution_count": 27,
   "metadata": {},
   "outputs": [
    {
     "data": {
      "image/png": "[encoded data removed]",
      "text/plain": [
       "<Figure size 1296x432 with 1 Axes>"
      ]
     },
     "metadata": {},
     "output_type": "display_data"
    }
   ],
   "source": [
    "plt.figure(figsize=(18,6))\n",
    "condition_dstrb[:50].plot(kind='bar')\n",
    "plt.savefig('condition_plot.jpg')\n",
    "plt.show()"
   ]
  },
  {
   "cell_type": "markdown",
   "metadata": {},
   "source": [
    "The dataset is very unbalanced. One can see that there are several conditions that appear very sporadically. "
   ]
  },
  {
   "cell_type": "code",
   "execution_count": 28,
   "metadata": {},
   "outputs": [],
   "source": [
    "\"\"\"\n",
    "Creates table with cumulative frequency for conditions appearing within the intervals shown below.\n",
    "\"\"\"\n",
    "intervals=[(0,2.5),(2.5,5),(5,10),(10,50),(50,100)]\n",
    "\n",
    "values=[]\n",
    "cnts=[]\n",
    "for interval in intervals:\n",
    "    value=condition_dstrb[(condition_dstrb>interval[0]) & (condition_dstrb<=interval[1]) ].sum()\n",
    "    cnt=condition_dstrb[(condition_dstrb>interval[0]) & (condition_dstrb<=interval[1]) ].count()\n",
    "    values.append(round(value,1))\n",
    "    cnts.append(cnt)"
   ]
  },
  {
   "cell_type": "code",
   "execution_count": 29,
   "metadata": {},
   "outputs": [
    {
     "data": {
      "text/plain": [
       "<=2.5%       62.5\n",
       "[2.5%,5%]    13.7\n",
       "[5%,10%]      5.7\n",
       "[10%,50%]    18.1\n",
       ">50%          0.0\n",
       "dtype: float64"
      ]
     },
     "execution_count": 29,
     "metadata": {},
     "output_type": "execute_result"
    }
   ],
   "source": [
    "intvals=[\"<=2.5%\",\"[2.5%,5%]\",\"[5%,10%]\",\"[10%,50%]\",\">50%\"]\n",
    "pd.Series(values,index=intvals)"
   ]
  },
  {
   "cell_type": "markdown",
   "metadata": {},
   "source": [
    "Aggregate conditions that appear less than a certain threshold: 0.1%, 0.05% and 0.01%, into a bigger class named \"other\"."
   ]
  },
  {
   "cell_type": "code",
   "execution_count": null,
   "metadata": {},
   "outputs": [],
   "source": [
    "cond_aux=pd.DataFrame.from_dict({\"condition\":condition_dstrb.index,\"percentage\":condition_dstrb.values})"
   ]
  },
  {
   "cell_type": "code",
   "execution_count": null,
   "metadata": {},
   "outputs": [],
   "source": [
    "threshold=0.1\n",
    "def change(row):\n",
    "    if row[1]<=threshold:\n",
    "        row[0]='other'\n",
    "        return row\n",
    "    else:\n",
    "        return row"
   ]
  },
  {
   "cell_type": "code",
   "execution_count": null,
   "metadata": {},
   "outputs": [],
   "source": [
    "cond_01=cond_aux.apply(change,axis=1)\n",
    "threshold=0.05\n",
    "cond_005=cond_aux.apply(change,axis=1)\n",
    "threshold=0.01\n",
    "cond_001=cond_aux.apply(change,axis=1)"
   ]
  },
  {
   "cell_type": "code",
   "execution_count": null,
   "metadata": {},
   "outputs": [],
   "source": [
    "cond_01=cond_01.groupby('condition')['percentage'].sum().sort_values(ascending=False)"
   ]
  },
  {
   "cell_type": "code",
   "execution_count": null,
   "metadata": {},
   "outputs": [],
   "source": [
    "cond005=cond_005.groupby('condition')['percentage'].sum().sort_values(ascending=False)"
   ]
  },
  {
   "cell_type": "code",
   "execution_count": null,
   "metadata": {},
   "outputs": [],
   "source": [
    "cond001=cond_001.groupby('condition')['percentage'].sum().sort_values(ascending=False)"
   ]
  },
  {
   "cell_type": "markdown",
   "metadata": {},
   "source": [
    "Create new columns for the different aggregations. Join conditions with frequency less than 0.1%, 0.05% and 0.01% into a new category called \"other\"."
   ]
  },
  {
   "cell_type": "code",
   "execution_count": null,
   "metadata": {},
   "outputs": [],
   "source": [
    "\"\"\"\n",
    "reduce number of conditions using pvalue threshold\n",
    "\"\"\"\n",
    "def reduce_conditions(pvalue):\n",
    "    cond = condition_dstrb > pvalue\n",
    "\n",
    "    def g(condition):\n",
    "        if cond[condition]:\n",
    "            return condition\n",
    "        else:\n",
    "            return 'other'\n",
    "\n",
    "    data['condition-'+str(pvalue)] = data['condition'].apply(g)"
   ]
  },
  {
   "cell_type": "code",
   "execution_count": null,
   "metadata": {},
   "outputs": [],
   "source": [
    "pvalues=[0.1,0.05,0.01]\n",
    "for pvalue in pvalues:\n",
    "    reduce_conditions(pvalue)"
   ]
  },
  {
   "cell_type": "markdown",
   "metadata": {},
   "source": [
    "## Sentiment"
   ]
  },
  {
   "cell_type": "code",
   "execution_count": 30,
   "metadata": {},
   "outputs": [],
   "source": [
    "ratings=set(data.rating)"
   ]
  },
  {
   "cell_type": "code",
   "execution_count": 31,
   "metadata": {},
   "outputs": [
    {
     "data": {
      "text/plain": [
       "(1.0, 10.0)"
      ]
     },
     "execution_count": 31,
     "metadata": {},
     "output_type": "execute_result"
    }
   ],
   "source": [
    "min(ratings), max(ratings)"
   ]
  },
  {
   "cell_type": "code",
   "execution_count": 32,
   "metadata": {},
   "outputs": [
    {
     "data": {
      "text/plain": [
       "0.0"
      ]
     },
     "execution_count": 32,
     "metadata": {},
     "output_type": "execute_result"
    }
   ],
   "source": [
    "#check that ratings are integers\n",
    "(data.rating.values-data.rating.values.astype(int)).sum()"
   ]
  },
  {
   "cell_type": "code",
   "execution_count": 33,
   "metadata": {},
   "outputs": [
    {
     "data": {
      "image/png": "[encoded data removed]",
      "text/plain": [
       "<Figure size 432x288 with 1 Axes>"
      ]
     },
     "metadata": {},
     "output_type": "display_data"
    }
   ],
   "source": [
    "plt.hist(data.rating,bins=10,density=True)\n",
    "plt.xlabel('Rating')\n",
    "plt.ylabel('Frequency')\n",
    "plt.title('Rating distribution')\n",
    "plt.show()"
   ]
  },
  {
   "cell_type": "code",
   "execution_count": 34,
   "metadata": {},
   "outputs": [],
   "source": [
    "rating_distrib=data.rating.value_counts()/data.shape[0]*100"
   ]
  },
  {
   "cell_type": "markdown",
   "metadata": {},
   "source": [
    "Create sentiment: negative <5.0, neutral==5.0, positive >5.0"
   ]
  },
  {
   "cell_type": "code",
   "execution_count": null,
   "metadata": {},
   "outputs": [],
   "source": [
    "\"\"\"\n",
    "Create positive, neutral and negative sentiments\n",
    "\"\"\"\n",
    "data['sentiment']=data.rating\n",
    "\n",
    "def sentiment(rating):\n",
    "    if rating>5.0:\n",
    "        return 'positive'\n",
    "    if rating==5.0:\n",
    "        return 'neutral'\n",
    "    if rating<5.0:\n",
    "        return 'negative'\n",
    "    \n",
    "data['sentiment']=data['sentiment'].apply(sentiment)"
   ]
  },
  {
   "cell_type": "code",
   "execution_count": null,
   "metadata": {},
   "outputs": [],
   "source": [
    "data.head()"
   ]
  },
  {
   "cell_type": "code",
   "execution_count": 36,
   "metadata": {},
   "outputs": [
    {
     "data": {
      "text/plain": [
       "positive    70.135121\n",
       "negative    24.891160\n",
       "neutral      4.973719\n",
       "Name: sentiment, dtype: float64"
      ]
     },
     "execution_count": 36,
     "metadata": {},
     "output_type": "execute_result"
    }
   ],
   "source": [
    "sentiment_dstrb=data.sentiment.value_counts()/data.shape[0]*100\n",
    "sentiment_dstrb"
   ]
  },
  {
   "cell_type": "code",
   "execution_count": 37,
   "metadata": {},
   "outputs": [
    {
     "data": {
      "image/png": "[encoded data removed]",
      "text/plain": [
       "<Figure size 432x288 with 1 Axes>"
      ]
     },
     "metadata": {},
     "output_type": "display_data"
    }
   ],
   "source": [
    "plt.hist(data.sentiment.sort_values(),bins=3)\n",
    "plt.xlabel('Sentiment')\n",
    "plt.ylabel('Frequency')\n",
    "plt.title('Sentiment distribution')\n",
    "plt.show()"
   ]
  },
  {
   "cell_type": "markdown",
   "metadata": {},
   "source": [
    "## Joint Probabilities and Mutual Information"
   ]
  },
  {
   "cell_type": "markdown",
   "metadata": {},
   "source": [
    "The mutual information gives us an average value of $\\ln\\left(\\frac{P(x,y)}{P(x)P(y)}\\right)$. So if we exponentiate this we have an estimate for the ratio $\\frac{P(x,y)}{P(x)P(y)}$. Closer this value is to 1, less is the correlation."
   ]
  },
  {
   "cell_type": "code",
   "execution_count": null,
   "metadata": {},
   "outputs": [],
   "source": [
    "# Number of words in each review \n",
    "reviews_lens=[len(review) for review in review_to_list]"
   ]
  },
  {
   "cell_type": "code",
   "execution_count": null,
   "metadata": {},
   "outputs": [],
   "source": [
    "\"\"\"\n",
    "create list by keeping the most commond word of each review\n",
    "\"\"\"\n",
    "most_common_word=[]\n",
    "for row in reviews_seq_csr:\n",
    "    try:\n",
    "        word=Counter(row.data[1:]).most_common(1)[0][0]\n",
    "        most_common_word.append(word)\n",
    "    except:\n",
    "        most_common_word.append(0)\n",
    "most_common_word=np.array(most_common_word)"
   ]
  },
  {
   "cell_type": "markdown",
   "metadata": {},
   "source": [
    "Calculate mutual information between the different variables"
   ]
  },
  {
   "cell_type": "code",
   "execution_count": null,
   "metadata": {},
   "outputs": [],
   "source": [
    "\"\"\"\n",
    "Calculate matrix of mutual information scores (normalized)\n",
    "\"\"\"\n",
    "\n",
    "cols=['drugName','condition','review_len','mstcmn_word','usefulCount','sentiment','rating']\n",
    "items=['data.drugName','data.condition','reviews_lens','most_common_word','data.usefulCount','data.sentiment','data.rating']\n",
    "\n",
    "mut_info={}\n",
    "for name,item1 in zip(cols,items):\n",
    "    mut_info[name]=[]\n",
    "    for item2 in items:\n",
    "        mut_info[name].append(normalized_mutual_info_score(eval(item1),eval(item2)))"
   ]
  },
  {
   "cell_type": "code",
   "execution_count": null,
   "metadata": {},
   "outputs": [],
   "source": [
    "mutual_info_df=pd.DataFrame.from_dict(mut_info)\n",
    "mutual_info_df.index=cols"
   ]
  },
  {
   "cell_type": "code",
   "execution_count": null,
   "metadata": {},
   "outputs": [],
   "source": [
    "mutual_info_df"
   ]
  },
  {
   "cell_type": "markdown",
   "metadata": {},
   "source": [
    "# Bag of Words: CVectorizer and TfIdfVectorizer"
   ]
  },
  {
   "cell_type": "markdown",
   "metadata": {},
   "source": [
    "## Create Vocabulary "
   ]
  },
  {
   "cell_type": "code",
   "execution_count": null,
   "metadata": {},
   "outputs": [],
   "source": [
    "#Tokenizer function. Remove stop-words, and use Porter Stemmer algorithm\n",
    "porter_stemmer = PorterStemmer()\n",
    "nltk.download('stopwords')\n",
    "def tknizer(str_input):\n",
    "    words = re.sub(r\"[^A-Za-z0-9\\-]\", \" \", str_input).lower().split()\n",
    "    words = [porter_stemmer.stem(word) for word in words if word not in stopwords.words('english')]\n",
    "    return words"
   ]
  },
  {
   "cell_type": "markdown",
   "metadata": {},
   "source": [
    "**Use multiprocessing** to tokenize reviews and create dictionary. This speeds-up considerably the calculation and allows to build very large dictionaries."
   ]
  },
  {
   "cell_type": "code",
   "execution_count": null,
   "metadata": {},
   "outputs": [],
   "source": [
    "mp.cpu_count()"
   ]
  },
  {
   "cell_type": "code",
   "execution_count": null,
   "metadata": {},
   "outputs": [],
   "source": [
    "#this function is used to feed the multprocessing.map() function\n",
    "def revs_to_list(review):\n",
    "    rev_tknized=tknizer(review)\n",
    "    return rev_tknized"
   ]
  },
  {
   "cell_type": "markdown",
   "metadata": {},
   "source": [
    "Create list of tokenized reviews"
   ]
  },
  {
   "cell_type": "code",
   "execution_count": null,
   "metadata": {},
   "outputs": [],
   "source": [
    "reviews=data.review.values"
   ]
  },
  {
   "cell_type": "code",
   "execution_count": null,
   "metadata": {},
   "outputs": [],
   "source": [
    "#parallelizes tokenization of the reviews\n",
    "with mp.Pool(mp.cpu_count()) as pool:\n",
    "    review_to_list=pool.map(revs_to_list,reviews)"
   ]
  },
  {
   "cell_type": "code",
   "execution_count": null,
   "metadata": {},
   "outputs": [],
   "source": [
    "pickle.dump(review_to_list,open('review_to_list.pkl','wb'))"
   ]
  },
  {
   "cell_type": "markdown",
   "metadata": {},
   "source": [
    "Create dictionary. In order to use multiprocessing, we create a function that returns a Counter() for each review_list."
   ]
  },
  {
   "cell_type": "code",
   "execution_count": null,
   "metadata": {},
   "outputs": [],
   "source": [
    "def cnt_words(lst):\n",
    "    m=Counter(lst)\n",
    "    return m"
   ]
  },
  {
   "cell_type": "code",
   "execution_count": null,
   "metadata": {},
   "outputs": [],
   "source": [
    "#apply the Counter in parallel to each review\n",
    "with mp.Pool(mp.cpu_count()) as pool:\n",
    "    word_cnts=pool.map(cnt_words,result)"
   ]
  },
  {
   "cell_type": "markdown",
   "metadata": {},
   "source": [
    "We create batches that we feed to the various cpus. At end we only need to run a simple loop to finalize. All process takes less than a minute to finalize (compare to around 1 hour using just a for loop)."
   ]
  },
  {
   "cell_type": "code",
   "execution_count": null,
   "metadata": {},
   "outputs": [],
   "source": [
    "def batch_update(batch):\n",
    "    a=batch[0]\n",
    "    for b in batch[1:]:\n",
    "        a.update(b)\n",
    "    return a"
   ]
  },
  {
   "cell_type": "code",
   "execution_count": null,
   "metadata": {},
   "outputs": [],
   "source": [
    "batch_size=10000 #choose batch size\n",
    "L=len(word_cnts)\n",
    "batches=[word_cnts[i:i+batch_size] for i in range(0,L,batch_size)]"
   ]
  },
  {
   "cell_type": "code",
   "execution_count": null,
   "metadata": {},
   "outputs": [],
   "source": [
    "#feed batches to multiprocessing\n",
    "with mp.Pool(mp.cpu_count()) as pool:\n",
    "    word_batches=pool.map(batch_update,batches)"
   ]
  },
  {
   "cell_type": "code",
   "execution_count": null,
   "metadata": {},
   "outputs": [],
   "source": [
    "word_count=word_batches[0]\n",
    "for a in word_batches[1:]:\n",
    "    word_count.update(a)"
   ]
  },
  {
   "cell_type": "code",
   "execution_count": null,
   "metadata": {},
   "outputs": [],
   "source": [
    "pickle.dump(word_count,open('word_count.pkl','wb'))"
   ]
  },
  {
   "cell_type": "markdown",
   "metadata": {},
   "source": [
    "## Cvectorizers"
   ]
  },
  {
   "cell_type": "markdown",
   "metadata": {},
   "source": [
    "Now that we have the full vocabulary and word counts, we consider vocabularies of dimension 5000,10000 and 20000. I create a function to vectorize arrays of words into sparse matrices. I use multiprocessing to parallelize the process."
   ]
  },
  {
   "cell_type": "markdown",
   "metadata": {},
   "source": [
    "### D=5k"
   ]
  },
  {
   "cell_type": "code",
   "execution_count": null,
   "metadata": {},
   "outputs": [],
   "source": [
    "d=5000"
   ]
  },
  {
   "cell_type": "code",
   "execution_count": null,
   "metadata": {},
   "outputs": [],
   "source": [
    "#create vocabulary\n",
    "vocab5k=word_count.most_common(5000)\n",
    "vocab5k={word[0]:i for i,word in enumerate(vocab5k)}"
   ]
  },
  {
   "cell_type": "code",
   "execution_count": null,
   "metadata": {},
   "outputs": [],
   "source": [
    "VOCAB=vocab5k"
   ]
  },
  {
   "cell_type": "code",
   "execution_count": null,
   "metadata": {},
   "outputs": [],
   "source": [
    "\"\"\"\n",
    "transforms list of words to sparse matrix of word counts\n",
    "\"\"\"\n",
    "def to_csr(review_list):\n",
    "    m=Counter(review_list)\n",
    "    indices=[]\n",
    "    values=[]\n",
    "    for word,cnt in m.items():\n",
    "        try:\n",
    "            indices.append(VOCAB[word])\n",
    "            values.append(cnt)\n",
    "        except:\n",
    "            continue\n",
    "    A=csr_matrix((values,([0]*len(indices),indices)),shape=(1,len(VOCAB)),dtype=int)\n",
    "   \n",
    "    return A"
   ]
  },
  {
   "cell_type": "code",
   "execution_count": null,
   "metadata": {},
   "outputs": [],
   "source": [
    "with mp.Pool(mp.cpu_count()) as pool:\n",
    "    reviews_csr_row=pool.map(to_csr,review_to_list)"
   ]
  },
  {
   "cell_type": "code",
   "execution_count": null,
   "metadata": {},
   "outputs": [],
   "source": [
    "reviews_cv5k=vstack(reviews_csr_row)"
   ]
  },
  {
   "cell_type": "code",
   "execution_count": null,
   "metadata": {},
   "outputs": [],
   "source": [
    "reviews_cv5k"
   ]
  },
  {
   "cell_type": "code",
   "execution_count": null,
   "metadata": {},
   "outputs": [],
   "source": [
    "pickle.dump(reviews_cv5k,open('reviews_cv5k.pkl','wb'))"
   ]
  },
  {
   "cell_type": "markdown",
   "metadata": {},
   "source": [
    "**Check how many reviews are mapped to zero vectors**"
   ]
  },
  {
   "cell_type": "code",
   "execution_count": null,
   "metadata": {},
   "outputs": [],
   "source": [
    "nnz_elems_5k=[row.getnnz() for row in reviews_cv5k]"
   ]
  },
  {
   "cell_type": "code",
   "execution_count": null,
   "metadata": {},
   "outputs": [],
   "source": [
    "max(nnz_elems_5k)"
   ]
  },
  {
   "cell_type": "code",
   "execution_count": null,
   "metadata": {},
   "outputs": [],
   "source": [
    "min(nnz_elems_5k)"
   ]
  },
  {
   "cell_type": "code",
   "execution_count": null,
   "metadata": {},
   "outputs": [],
   "source": [
    "import matplotlib.pyplot as plt"
   ]
  },
  {
   "cell_type": "code",
   "execution_count": null,
   "metadata": {},
   "outputs": [],
   "source": [
    "plt.hist(nnz_elems_5k,bins=100,density=True)\n",
    "plt.show()"
   ]
  },
  {
   "cell_type": "code",
   "execution_count": null,
   "metadata": {},
   "outputs": [],
   "source": [
    "nnz=Counter(nnz_elems_5k)"
   ]
  },
  {
   "cell_type": "code",
   "execution_count": null,
   "metadata": {},
   "outputs": [],
   "source": [
    "#number of rows with zero elements\n",
    "nnz[0]"
   ]
  },
  {
   "cell_type": "markdown",
   "metadata": {},
   "source": [
    "### D=10k"
   ]
  },
  {
   "cell_type": "code",
   "execution_count": null,
   "metadata": {},
   "outputs": [],
   "source": [
    "d=10000"
   ]
  },
  {
   "cell_type": "code",
   "execution_count": null,
   "metadata": {},
   "outputs": [],
   "source": [
    "vocab10k=word_count.most_common(d)\n",
    "vocab10k={word[0]:i for i,word in enumerate(vocab10k)}"
   ]
  },
  {
   "cell_type": "code",
   "execution_count": null,
   "metadata": {},
   "outputs": [],
   "source": [
    "# need to assign this variable so the function to_csr() works correctly \n",
    "VOCAB=vocab10k"
   ]
  },
  {
   "cell_type": "code",
   "execution_count": null,
   "metadata": {},
   "outputs": [],
   "source": [
    "with mp.Pool(mp.cpu_count()) as pool:\n",
    "    reviews_csr_row=pool.map(to_csr,review_to_list)"
   ]
  },
  {
   "cell_type": "code",
   "execution_count": null,
   "metadata": {},
   "outputs": [],
   "source": [
    "reviews_cv10k=vstack(reviews_csr_row)"
   ]
  },
  {
   "cell_type": "code",
   "execution_count": null,
   "metadata": {},
   "outputs": [],
   "source": [
    "pickle.dump(reviews_cv10k,open('reviews_cv10k.pkl','wb'))"
   ]
  },
  {
   "cell_type": "code",
   "execution_count": null,
   "metadata": {},
   "outputs": [],
   "source": [
    "nnz_elems_10k=[row.getnnz() for row in reviews_cv10k]"
   ]
  },
  {
   "cell_type": "code",
   "execution_count": null,
   "metadata": {},
   "outputs": [],
   "source": [
    "nnz_10k=Counter(nnz_elems_10k)"
   ]
  },
  {
   "cell_type": "code",
   "execution_count": null,
   "metadata": {},
   "outputs": [],
   "source": [
    "#number of rows with zero elements\n",
    "nnz_10k[0]"
   ]
  },
  {
   "cell_type": "markdown",
   "metadata": {},
   "source": [
    "### D=20k"
   ]
  },
  {
   "cell_type": "code",
   "execution_count": null,
   "metadata": {},
   "outputs": [],
   "source": [
    "d=20000"
   ]
  },
  {
   "cell_type": "code",
   "execution_count": null,
   "metadata": {},
   "outputs": [],
   "source": [
    "vocab20k=word_count.most_common(d)\n",
    "vocab20k={word[0]:i for i,word in enumerate(vocab20k)}"
   ]
  },
  {
   "cell_type": "code",
   "execution_count": null,
   "metadata": {},
   "outputs": [],
   "source": [
    "# need to assign this variable so the function to_csr() works correctly\n",
    "VOCAB=vocab20k"
   ]
  },
  {
   "cell_type": "code",
   "execution_count": null,
   "metadata": {},
   "outputs": [],
   "source": [
    "with mp.Pool(mp.cpu_count()) as pool:\n",
    "    reviews_csr_row=pool.map(to_csr,review_to_list)"
   ]
  },
  {
   "cell_type": "code",
   "execution_count": null,
   "metadata": {},
   "outputs": [],
   "source": [
    "reviews_cv20k=vstack(reviews_csr_row)"
   ]
  },
  {
   "cell_type": "code",
   "execution_count": null,
   "metadata": {},
   "outputs": [],
   "source": [
    "pickle.dump(reviews_cv20k,open('reviews_cv20k.pkl','wb'))"
   ]
  },
  {
   "cell_type": "code",
   "execution_count": null,
   "metadata": {},
   "outputs": [],
   "source": [
    "nnz_elems_20k=[row.getnnz() for row in reviews_cv20k]"
   ]
  },
  {
   "cell_type": "code",
   "execution_count": null,
   "metadata": {},
   "outputs": [],
   "source": [
    "nnz_20k=Counter(nnz_elems_20k)"
   ]
  },
  {
   "cell_type": "code",
   "execution_count": null,
   "metadata": {},
   "outputs": [],
   "source": [
    "nnz_20k[0]"
   ]
  },
  {
   "cell_type": "markdown",
   "metadata": {},
   "source": [
    "### D=full (~50k)"
   ]
  },
  {
   "cell_type": "code",
   "execution_count": null,
   "metadata": {},
   "outputs": [],
   "source": [
    "#vocabulary length\n",
    "d=len(word_count)\n",
    "print(d)"
   ]
  },
  {
   "cell_type": "code",
   "execution_count": null,
   "metadata": {},
   "outputs": [],
   "source": [
    "vocab50k=word_count.most_common() #all vocabulary\n",
    "vocab50k={word[0]:i for i,word in enumerate(vocab50k)}"
   ]
  },
  {
   "cell_type": "code",
   "execution_count": null,
   "metadata": {},
   "outputs": [],
   "source": [
    "# need to assign this variable so the function to_csr() works correctly\n",
    "VOCAB=vocab50k"
   ]
  },
  {
   "cell_type": "code",
   "execution_count": null,
   "metadata": {},
   "outputs": [],
   "source": [
    "with mp.Pool(mp.cpu_count()) as pool:\n",
    "    reviews_csr_row=pool.map(to_csr,review_to_list)"
   ]
  },
  {
   "cell_type": "code",
   "execution_count": null,
   "metadata": {},
   "outputs": [],
   "source": [
    "reviews_cv50k=vstack(reviews_csr_row)"
   ]
  },
  {
   "cell_type": "code",
   "execution_count": null,
   "metadata": {},
   "outputs": [],
   "source": [
    "pickle.dump(reviews_cv50k,open('reviews_cv50k.pkl','wb'))"
   ]
  },
  {
   "cell_type": "code",
   "execution_count": null,
   "metadata": {},
   "outputs": [],
   "source": [
    "nnz_elems_50k=[row.getnnz() for row in reviews_cv50k]"
   ]
  },
  {
   "cell_type": "code",
   "execution_count": null,
   "metadata": {},
   "outputs": [],
   "source": [
    "nnz_50k=Counter(nnz_elems_50k)"
   ]
  },
  {
   "cell_type": "code",
   "execution_count": null,
   "metadata": {},
   "outputs": [],
   "source": [
    "nnz_50k[0]"
   ]
  },
  {
   "cell_type": "markdown",
   "metadata": {},
   "source": [
    "## TfIdfVectorizers"
   ]
  },
  {
   "cell_type": "markdown",
   "metadata": {},
   "source": [
    "We can use the Tfidf-Transformer to transform the sparse counting matrix to a Tfidf-sparse matrix."
   ]
  },
  {
   "cell_type": "code",
   "execution_count": null,
   "metadata": {},
   "outputs": [],
   "source": [
    "tfidf_transf=TfidfTransformer()"
   ]
  },
  {
   "cell_type": "code",
   "execution_count": null,
   "metadata": {},
   "outputs": [],
   "source": [
    "reviews_tv5k=tfidf_transf.fit_transform(reviews_cv5k)"
   ]
  },
  {
   "cell_type": "code",
   "execution_count": null,
   "metadata": {},
   "outputs": [],
   "source": [
    "reviews_tv10k=tfidf_transf.fit_transform(reviews_cv10k)"
   ]
  },
  {
   "cell_type": "code",
   "execution_count": null,
   "metadata": {},
   "outputs": [],
   "source": [
    "reviews_tv20k=tfidf_transf.fit_transform(reviews_cv20k)"
   ]
  },
  {
   "cell_type": "code",
   "execution_count": null,
   "metadata": {},
   "outputs": [],
   "source": [
    "reviews_tv50k=tfidf_transf.fit_transform(reviews_cv50k)"
   ]
  },
  {
   "cell_type": "code",
   "execution_count": null,
   "metadata": {},
   "outputs": [],
   "source": [
    "files=['reviews_tv5k','reviews_tv10k','reviews_tv20k','reviews_tv50k']\n",
    "for file in files:\n",
    "    pickle.dump(eval(file),open(file+'.pkl','wb'))"
   ]
  },
  {
   "cell_type": "markdown",
   "metadata": {},
   "source": [
    "# LSTM model data preparation"
   ]
  },
  {
   "cell_type": "markdown",
   "metadata": {},
   "source": [
    "In this section I prepare the data for the LSTM pytorch model. I use already prepared file \"review_to_list\", which contains the tokenized version of the reviews in a list of lists. I have only considered vocabularies of sizes 10k and the full vocabulary. The training of the LSTM is more expensive so I decided to simplify the analysis."
   ]
  },
  {
   "cell_type": "code",
   "execution_count": null,
   "metadata": {},
   "outputs": [],
   "source": [
    "#load list of tokenized reviews\n",
    "review_to_list=pickle.load(open('review_to_list.pkl','rb'))"
   ]
  },
  {
   "cell_type": "code",
   "execution_count": null,
   "metadata": {},
   "outputs": [],
   "source": [
    "review_to_list[0]"
   ]
  },
  {
   "cell_type": "markdown",
   "metadata": {},
   "source": [
    "Load full vocabulary"
   ]
  },
  {
   "cell_type": "code",
   "execution_count": null,
   "metadata": {},
   "outputs": [],
   "source": [
    "word_count=pickle.load(open('word_count.pkl','rb'))\n",
    "print(dict_len=len(word_count))"
   ]
  },
  {
   "cell_type": "markdown",
   "metadata": {},
   "source": [
    "## D=10k"
   ]
  },
  {
   "cell_type": "markdown",
   "metadata": {},
   "source": [
    "Use the 10000 most common words."
   ]
  },
  {
   "cell_type": "code",
   "execution_count": null,
   "metadata": {},
   "outputs": [],
   "source": [
    "#size of dictionary\n",
    "vocab_size=10000\n",
    "word_dic={word[0]:i+1 for i,word in enumerate(word_count.most_common(vocab_size))}\n",
    "print(len(word_dic))"
   ]
  },
  {
   "cell_type": "markdown",
   "metadata": {},
   "source": [
    "Convert sequence of words into sequence of integers using word_dic mapping"
   ]
  },
  {
   "cell_type": "code",
   "execution_count": null,
   "metadata": {},
   "outputs": [],
   "source": [
    "lens=[len(lst) for lst in review_to_list]\n",
    "pad=max(lens)# create pad\n",
    "print(pad)\n",
    "print(min(lens))\n",
    "print(len(lens))"
   ]
  },
  {
   "cell_type": "code",
   "execution_count": null,
   "metadata": {},
   "outputs": [],
   "source": [
    "# create function to feed to multiprocessing. Returns csr_matrix format for each review\n",
    "def seq_to_seq(sequence):\n",
    "    seq=np.zeros(pad+1,int)\n",
    "    seq[0]=min(len(sequence),pad)\n",
    "    \n",
    "    for i,word in enumerate(sequence[:pad]):\n",
    "        try:\n",
    "            seq[i+1]=word_dic[word]\n",
    "        except:\n",
    "            #thats because word is not in dic\n",
    "            continue\n",
    "    \n",
    "    return sparse.csr_matrix(seq)"
   ]
  },
  {
   "cell_type": "code",
   "execution_count": null,
   "metadata": {},
   "outputs": [],
   "source": [
    "with mp.Pool(mp.cpu_count()) as pool:\n",
    "    reviews_seq=pool.map(seq_to_seq,[seq for seq in review_to_list])"
   ]
  },
  {
   "cell_type": "code",
   "execution_count": null,
   "metadata": {},
   "outputs": [],
   "source": [
    "#stack all the sparse rows into a larger sparse matrix\n",
    "reviews_seq10k=sparse.vstack(reviews_seq)"
   ]
  },
  {
   "cell_type": "code",
   "execution_count": null,
   "metadata": {},
   "outputs": [],
   "source": [
    "pickle.dump(reviews_seq10k,open('reviews_seq_csr10k.pkl','wb'))"
   ]
  },
  {
   "cell_type": "markdown",
   "metadata": {},
   "source": [
    "## D~50k"
   ]
  },
  {
   "cell_type": "markdown",
   "metadata": {},
   "source": [
    "**Use full vocabulary. Carefull with amount of memory used!**"
   ]
  },
  {
   "cell_type": "code",
   "execution_count": null,
   "metadata": {},
   "outputs": [],
   "source": [
    "#size of dictionary\n",
    "word_dic={word[0]:i+1 for i,word in enumerate(word_count.most_common())}\n",
    "print(len(word_dic))"
   ]
  },
  {
   "cell_type": "markdown",
   "metadata": {},
   "source": [
    "Convert sequence of words into sequence of integers using word_dic mapping"
   ]
  },
  {
   "cell_type": "code",
   "execution_count": null,
   "metadata": {},
   "outputs": [],
   "source": [
    "lens=[len(lst) for lst in review_to_list]\n",
    "pad=max(lens)# create pad\n",
    "print(pad)\n",
    "print(min(lens))\n",
    "print(len(lens))"
   ]
  },
  {
   "cell_type": "code",
   "execution_count": null,
   "metadata": {},
   "outputs": [],
   "source": [
    "# create function to feed to multiprocessing. Returns csr_matrix format for each review\n",
    "def seq_to_seq(sequence):\n",
    "    seq=np.zeros(pad+1,int)\n",
    "    seq[0]=min(len(sequence),pad)\n",
    "    \n",
    "    for i,word in enumerate(sequence[:pad]):\n",
    "        try:\n",
    "            seq[i+1]=word_dic[word]\n",
    "        except:\n",
    "            #thats because word is not in dic\n",
    "            continue\n",
    "    \n",
    "    return sparse.csr_matrix(seq)"
   ]
  },
  {
   "cell_type": "code",
   "execution_count": null,
   "metadata": {},
   "outputs": [],
   "source": [
    "with mp.Pool(mp.cpu_count()) as pool:\n",
    "    reviews_seq=pool.map(seq_to_seq,[seq for seq in review_to_list])"
   ]
  },
  {
   "cell_type": "code",
   "execution_count": null,
   "metadata": {},
   "outputs": [],
   "source": [
    "#stack all the sparse rows into a larger sparse matrix\n",
    "reviews_seq50k=sparse.vstack(reviews_seq)"
   ]
  },
  {
   "cell_type": "code",
   "execution_count": null,
   "metadata": {},
   "outputs": [],
   "source": [
    "pickle.dump(reviews_seq50k,open('reviews_seq_csr50k.pkl','wb'))"
   ]
  },
  {
   "cell_type": "markdown",
   "metadata": {},
   "source": [
    "# Models Log File"
   ]
  },
  {
   "cell_type": "markdown",
   "metadata": {},
   "source": [
    "We study several functions:\n",
    "* **condition=f(drug)**: condition as a function of drug name;\n",
    "* **condition=f(review)**: condition as a function of the review;\n",
    "* **sentiment=f(review)**: sentiment as a function of the review;"
   ]
  },
  {
   "cell_type": "markdown",
   "metadata": {},
   "source": [
    "To keep track of model accuracies and parameters, I have created the following class which creates logs for the machine learning models. That is, it keeps track of the model name, input and target data, as well as hyperparameters, train and test accuracy. The data is stored in a csv file \"model_logs.csv\". When the objst is intialized it loads automatically the model_logs.csv, if it exists one."
   ]
  },
  {
   "cell_type": "code",
   "execution_count": 6,
   "metadata": {},
   "outputs": [],
   "source": [
    "class model_logs():\n",
    "    \"\"\"\n",
    "    __init__(): either loads a saved log file or creates an empty one\n",
    "    add_SKLmodel(): add train and test data for a SKlearn model. It calculates train and test accuracy and adds it to the log dataframe\n",
    "    add_row(): add information in the form of a string: \"model_name/data_X,/data_y/params dictionary/train accuracy/test accuracy\"\n",
    "    delete(): deletes all the stored data and creates an empty dataframe\n",
    "    remove_row(): removes row given index of the dataframe\n",
    "    save_data(): saves the dataframe to a csv file\n",
    "    \"\"\"\n",
    "    \n",
    "    def __init__(self,model_name=None,data_X=None,data_y=None):\n",
    "        \n",
    "        self.model_name=model_name\n",
    "        self.data_X_name=data_X\n",
    "        self.data_y_name=data_y\n",
    "        \n",
    "        print(\"X data: \", self.data_X_name)\n",
    "        print(\"Y data: \",self.data_y_name)\n",
    "        print(\"model name: \",self.model_name)\n",
    "        \n",
    "        try:\n",
    "            self.log_data=pd.read_csv('model_logs.csv',index_col=0)\n",
    "            self.log_data.reset_index(drop=True,inplace=True)\n",
    "        except:\n",
    "            #create empty dataframe\n",
    "            print(\"No saved data available. Created empty log-data.\")\n",
    "            self.log_data=pd.DataFrame.from_dict({'name':[],'data_X':[],'data_y':[],'params':[],'train acc':[],'test acc':''})\n",
    "            \n",
    "    def add_SKLmodel(self,model,*args):\n",
    "        if self.model_name==None or self.data_X_name==None or self.data_y_name==None:\n",
    "            print(\"Some data is empty.\")\n",
    "            print(\"Model name: \",self.model_name)\n",
    "            print(\"Data X: \",self.data_X_name)\n",
    "            print(\"Data y: \",self.data_y_name)\n",
    "        else:\n",
    "            x_train,x_test,y_train,y_test=args\n",
    "            preds_train = model.predict(x_train)\n",
    "            acc_train = accuracy_score(preds_train, y_train)\n",
    "            preds_test = model.predict(x_test)\n",
    "            acc_test = accuracy_score(preds_test, y_test)\n",
    "\n",
    "            dic=[self.model_name,self.data_X_name,self.data_y_name,json.dumps(model.get_params()),acc_train,acc_test]\n",
    "            l=len(self.log_data)\n",
    "            self.log_data.loc[l]=dic\n",
    "\n",
    "            print('Train error: ', acc_train, '\\nTest error: ', acc_test)\n",
    "    \n",
    "    def add_row(self,string):\n",
    "        \"\"\" string: 'model_name/ data_X/ data_y/params/ train_acc/ test_acc' \"\"\"\n",
    "        description=string.split('/')\n",
    "        self.model_name=description[0]\n",
    "        self.data_X_name=description[1]\n",
    "        self.data_y_name=description[2]\n",
    "        params=description[3]\n",
    "        train_acc=description[4]\n",
    "        test_acc=description[5]\n",
    "        \n",
    "        dic=[self.model_name,self.data_X_name,self.data_y_name,params,train_acc,test_acc]\n",
    "        l=len(self.log_data)\n",
    "        self.log_data.loc[l]=dic\n",
    "        \n",
    "    def delete(self):\n",
    "        self.log_data=pd.DataFrame.from_dict({'name':[],'data_X':[],'data_y':[],'params':[],'train acc':[],'test acc':''})\n",
    "        \n",
    "    def remove_row(self,row):\n",
    "        self.log_data=self.log_data.drop([row])\n",
    "        \n",
    "    def save_data(self):\n",
    "        self.log_data.to_csv('model_logs.csv')"
   ]
  },
  {
   "cell_type": "code",
   "execution_count": 7,
   "metadata": {},
   "outputs": [
    {
     "name": "stdout",
     "output_type": "stream",
     "text": [
      "X data:  None\n",
      "Y data:  None\n",
      "model name:  None\n"
     ]
    }
   ],
   "source": [
    "logs=model_logs()"
   ]
  },
  {
   "cell_type": "code",
   "execution_count": 8,
   "metadata": {},
   "outputs": [
    {
     "data": {
      "text/html": [
       "<div>\n",
       "<style scoped>\n",
       "    .dataframe tbody tr th:only-of-type {\n",
       "        vertical-align: middle;\n",
       "    }\n",
       "\n",
       "    .dataframe tbody tr th {\n",
       "        vertical-align: top;\n",
       "    }\n",
       "\n",
       "    .dataframe thead th {\n",
       "        text-align: right;\n",
       "    }\n",
       "</style>\n",
       "<table border=\"1\" class=\"dataframe\">\n",
       "  <thead>\n",
       "    <tr style=\"text-align: right;\">\n",
       "      <th></th>\n",
       "      <th>name</th>\n",
       "      <th>data_X</th>\n",
       "      <th>data_y</th>\n",
       "      <th>params</th>\n",
       "      <th>train acc</th>\n",
       "      <th>test acc</th>\n",
       "    </tr>\n",
       "  </thead>\n",
       "  <tbody>\n",
       "    <tr>\n",
       "      <th>0</th>\n",
       "      <td>random forest</td>\n",
       "      <td>reviews_cv5k</td>\n",
       "      <td>condition-0.05</td>\n",
       "      <td>{\"n_estimators\": 20, \"max_depth\": 500, \"max_fe...</td>\n",
       "      <td>0.992542</td>\n",
       "      <td>0.811025</td>\n",
       "    </tr>\n",
       "    <tr>\n",
       "      <th>1</th>\n",
       "      <td>random forest</td>\n",
       "      <td>reviews_cv5k</td>\n",
       "      <td>condition-0.05</td>\n",
       "      <td>{\"n_estimators\": 20, \"max_depth\": 700, \"max_fe...</td>\n",
       "      <td>0.993212</td>\n",
       "      <td>0.809121</td>\n",
       "    </tr>\n",
       "    <tr>\n",
       "      <th>2</th>\n",
       "      <td>random forest</td>\n",
       "      <td>reviews_cv5k</td>\n",
       "      <td>condition-0.05</td>\n",
       "      <td>{\"n_estimators\": 20, \"max_depth\": 300, \"max_fe...</td>\n",
       "      <td>0.978444</td>\n",
       "      <td>0.800259</td>\n",
       "    </tr>\n",
       "    <tr>\n",
       "      <th>3</th>\n",
       "      <td>random forest</td>\n",
       "      <td>reviews_cv5k</td>\n",
       "      <td>condition-0.05</td>\n",
       "      <td>{\"n_estimators\": 30, \"max_depth\": 300, \"max_fe...</td>\n",
       "      <td>0.981065</td>\n",
       "      <td>0.807029</td>\n",
       "    </tr>\n",
       "    <tr>\n",
       "      <th>4</th>\n",
       "      <td>NB</td>\n",
       "      <td>drugnames</td>\n",
       "      <td>condition-0.01</td>\n",
       "      <td>{\"alpha\": 1.0}</td>\n",
       "      <td>0.679175</td>\n",
       "      <td>0.674330</td>\n",
       "    </tr>\n",
       "    <tr>\n",
       "      <th>5</th>\n",
       "      <td>NB</td>\n",
       "      <td>drugnames</td>\n",
       "      <td>condition-0.01</td>\n",
       "      <td>{\"alpha\": 0.5}</td>\n",
       "      <td>0.697117</td>\n",
       "      <td>0.691114</td>\n",
       "    </tr>\n",
       "    <tr>\n",
       "      <th>6</th>\n",
       "      <td>NB</td>\n",
       "      <td>drugnames</td>\n",
       "      <td>condition-0.01</td>\n",
       "      <td>{\"alpha\": 0.01}</td>\n",
       "      <td>0.723874</td>\n",
       "      <td>0.713235</td>\n",
       "    </tr>\n",
       "    <tr>\n",
       "      <th>7</th>\n",
       "      <td>NB</td>\n",
       "      <td>drugnames</td>\n",
       "      <td>condition-0.01</td>\n",
       "      <td>{\"alpha\": 0.001}</td>\n",
       "      <td>0.724339</td>\n",
       "      <td>0.713893</td>\n",
       "    </tr>\n",
       "    <tr>\n",
       "      <th>8</th>\n",
       "      <td>Decision tree</td>\n",
       "      <td>drugnames</td>\n",
       "      <td>condition-0.01</td>\n",
       "      <td>{\"criterion\": \"gini\", \"max_depth\": 6000, \"max_...</td>\n",
       "      <td>0.724344</td>\n",
       "      <td>0.714504</td>\n",
       "    </tr>\n",
       "    <tr>\n",
       "      <th>9</th>\n",
       "      <td>random forest</td>\n",
       "      <td>drugnames</td>\n",
       "      <td>condition-0.01</td>\n",
       "      <td>{\"n_estimators\": 50, \"criterion\": \"entropy\", \"...</td>\n",
       "      <td>0.724297</td>\n",
       "      <td>0.714386</td>\n",
       "    </tr>\n",
       "    <tr>\n",
       "      <th>10</th>\n",
       "      <td>LSVC</td>\n",
       "      <td>drugnames</td>\n",
       "      <td>condition-0.01</td>\n",
       "      <td>{\"tol\":0.001}</td>\n",
       "      <td>0.724344</td>\n",
       "      <td>0.714622</td>\n",
       "    </tr>\n",
       "    <tr>\n",
       "      <th>11</th>\n",
       "      <td>NB</td>\n",
       "      <td>reviews_cv5k</td>\n",
       "      <td>condition-0.01</td>\n",
       "      <td>{\"alpha\": 1.0}</td>\n",
       "      <td>0.721859</td>\n",
       "      <td>0.665115</td>\n",
       "    </tr>\n",
       "    <tr>\n",
       "      <th>12</th>\n",
       "      <td>NB</td>\n",
       "      <td>reviews_cv5k</td>\n",
       "      <td>condition-0.01</td>\n",
       "      <td>{\"alpha\": 0.1}</td>\n",
       "      <td>0.784189</td>\n",
       "      <td>0.704020</td>\n",
       "    </tr>\n",
       "    <tr>\n",
       "      <th>13</th>\n",
       "      <td>NB</td>\n",
       "      <td>reviews_cv5k</td>\n",
       "      <td>condition-0.01</td>\n",
       "      <td>{\"alpha\": 0.01}</td>\n",
       "      <td>0.801126</td>\n",
       "      <td>0.709191</td>\n",
       "    </tr>\n",
       "    <tr>\n",
       "      <th>14</th>\n",
       "      <td>NB</td>\n",
       "      <td>reviews_cv5k</td>\n",
       "      <td>condition-0.01</td>\n",
       "      <td>{\"alpha\": 0.001}</td>\n",
       "      <td>0.808067</td>\n",
       "      <td>0.707616</td>\n",
       "    </tr>\n",
       "    <tr>\n",
       "      <th>15</th>\n",
       "      <td>random forest</td>\n",
       "      <td>reviews_cv5k</td>\n",
       "      <td>condition-0.01</td>\n",
       "      <td>{\"n_estimators\": 30, \"max_depth\": 500, \"max_fe...</td>\n",
       "      <td>0.992930</td>\n",
       "      <td>0.813141</td>\n",
       "    </tr>\n",
       "    <tr>\n",
       "      <th>16</th>\n",
       "      <td>NB</td>\n",
       "      <td>reviews_cv5k</td>\n",
       "      <td>sentiment</td>\n",
       "      <td>{\"alpha\": 0.001}</td>\n",
       "      <td>0.741887</td>\n",
       "      <td>0.734861</td>\n",
       "    </tr>\n",
       "    <tr>\n",
       "      <th>17</th>\n",
       "      <td>NB</td>\n",
       "      <td>reviews_cv5k</td>\n",
       "      <td>sentiment</td>\n",
       "      <td>{\"alpha\": 0.01}</td>\n",
       "      <td>0.741910</td>\n",
       "      <td>0.734838</td>\n",
       "    </tr>\n",
       "    <tr>\n",
       "      <th>18</th>\n",
       "      <td>LSVC</td>\n",
       "      <td>reviews_cv5k</td>\n",
       "      <td>sentiment</td>\n",
       "      <td>{\"tol\": 0.001}</td>\n",
       "      <td>0.818210</td>\n",
       "      <td>0.804607</td>\n",
       "    </tr>\n",
       "    <tr>\n",
       "      <th>19</th>\n",
       "      <td>LSVC</td>\n",
       "      <td>reviews_cv5k</td>\n",
       "      <td>sentiment</td>\n",
       "      <td>{\"tol\": 0.001, \"dual\": false}</td>\n",
       "      <td>0.818216</td>\n",
       "      <td>0.804631</td>\n",
       "    </tr>\n",
       "    <tr>\n",
       "      <th>20</th>\n",
       "      <td>LSVC</td>\n",
       "      <td>reviews_cv5k</td>\n",
       "      <td>sentiment</td>\n",
       "      <td>{\"C\": 10, \"tol\": 0.001, \"dual\": false}</td>\n",
       "      <td>0.818187</td>\n",
       "      <td>0.804466</td>\n",
       "    </tr>\n",
       "    <tr>\n",
       "      <th>21</th>\n",
       "      <td>NB</td>\n",
       "      <td>reviews_cv20k</td>\n",
       "      <td>sentiment</td>\n",
       "      <td>{\"alpha\": 0.01}</td>\n",
       "      <td>0.772288</td>\n",
       "      <td>0.750470</td>\n",
       "    </tr>\n",
       "    <tr>\n",
       "      <th>22</th>\n",
       "      <td>NB</td>\n",
       "      <td>reviews_cv20k</td>\n",
       "      <td>sentiment</td>\n",
       "      <td>{\"alpha\": 0.001}</td>\n",
       "      <td>0.774709</td>\n",
       "      <td>0.751316</td>\n",
       "    </tr>\n",
       "    <tr>\n",
       "      <th>23</th>\n",
       "      <td>LSVC</td>\n",
       "      <td>reviews_cv20k</td>\n",
       "      <td>sentiment</td>\n",
       "      <td>{\"C\": 1.0, \"tol\": 0.001, \"dual\": false}</td>\n",
       "      <td>0.865437</td>\n",
       "      <td>0.819746</td>\n",
       "    </tr>\n",
       "    <tr>\n",
       "      <th>24</th>\n",
       "      <td>NB</td>\n",
       "      <td>reviews_tv5k</td>\n",
       "      <td>sentiment</td>\n",
       "      <td>{\"alpha\": 0.001}</td>\n",
       "      <td>0.761463</td>\n",
       "      <td>0.757804</td>\n",
       "    </tr>\n",
       "    <tr>\n",
       "      <th>25</th>\n",
       "      <td>LSVC</td>\n",
       "      <td>reviews_tv5k</td>\n",
       "      <td>sentiment</td>\n",
       "      <td>{\"C\": 1.0, \"tol\": 0.001, \"dual\": false}</td>\n",
       "      <td>0.823881</td>\n",
       "      <td>0.810461</td>\n",
       "    </tr>\n",
       "    <tr>\n",
       "      <th>26</th>\n",
       "      <td>NB</td>\n",
       "      <td>reviews_tv20k</td>\n",
       "      <td>sentiment</td>\n",
       "      <td>{\"alpha\": 0.001}</td>\n",
       "      <td>0.783601</td>\n",
       "      <td>0.767630</td>\n",
       "    </tr>\n",
       "    <tr>\n",
       "      <th>27</th>\n",
       "      <td>LSVC</td>\n",
       "      <td>reviews_tv20k</td>\n",
       "      <td>sentiment</td>\n",
       "      <td>{\"C\": 1.0, \"tol\": 0.001, \"dual\": false}</td>\n",
       "      <td>0.848658</td>\n",
       "      <td>0.819629</td>\n",
       "    </tr>\n",
       "    <tr>\n",
       "      <th>28</th>\n",
       "      <td>LSVC</td>\n",
       "      <td>reviews_tv20k</td>\n",
       "      <td>sentiment</td>\n",
       "      <td>{\"C\": 100.0, \"tol\": 0.001, \"dual\": false}</td>\n",
       "      <td>0.870379</td>\n",
       "      <td>0.818077</td>\n",
       "    </tr>\n",
       "    <tr>\n",
       "      <th>29</th>\n",
       "      <td>NB</td>\n",
       "      <td>reviews_tv50k</td>\n",
       "      <td>sentiment</td>\n",
       "      <td>{\"alpha\": 0.001}</td>\n",
       "      <td>0.813420</td>\n",
       "      <td>0.784720</td>\n",
       "    </tr>\n",
       "    <tr>\n",
       "      <th>30</th>\n",
       "      <td>LSVC</td>\n",
       "      <td>reviews_tv50k</td>\n",
       "      <td>sentiment</td>\n",
       "      <td>{\"C\": 100.0, \"tol\": 0.001, \"dual\": false}</td>\n",
       "      <td>0.894398</td>\n",
       "      <td>0.832887</td>\n",
       "    </tr>\n",
       "    <tr>\n",
       "      <th>31</th>\n",
       "      <td>LSVC</td>\n",
       "      <td>reviews_tv50k</td>\n",
       "      <td>sentiment</td>\n",
       "      <td>{\"C\": 1.0, \"tol\": 0.001, \"dual\": false}</td>\n",
       "      <td>0.861488</td>\n",
       "      <td>0.825740</td>\n",
       "    </tr>\n",
       "    <tr>\n",
       "      <th>32</th>\n",
       "      <td>LSVC</td>\n",
       "      <td>reviews_tv50k</td>\n",
       "      <td>sentiment</td>\n",
       "      <td>{\"C\": 1.0, \"tol\": 0.0001, \"dual\": false}</td>\n",
       "      <td>0.861687</td>\n",
       "      <td>0.825693</td>\n",
       "    </tr>\n",
       "    <tr>\n",
       "      <th>33</th>\n",
       "      <td>LSVC</td>\n",
       "      <td>reviews_tv50k</td>\n",
       "      <td>sentiment</td>\n",
       "      <td>{\"C\": 1000.0, \"tol\": 0.0001, \"dual\": false}</td>\n",
       "      <td>0.895885</td>\n",
       "      <td>0.831124</td>\n",
       "    </tr>\n",
       "    <tr>\n",
       "      <th>34</th>\n",
       "      <td>random forest</td>\n",
       "      <td>reviews_tv50k</td>\n",
       "      <td>sentiment</td>\n",
       "      <td>{\"n_estimators\": 10, \"max_depth\": 500, \"max_fe...</td>\n",
       "      <td>0.995645</td>\n",
       "      <td>0.902609</td>\n",
       "    </tr>\n",
       "    <tr>\n",
       "      <th>35</th>\n",
       "      <td>random forest</td>\n",
       "      <td>reviews_tv50k</td>\n",
       "      <td>sentiment</td>\n",
       "      <td>{\"n_estimators\": 20, \"max_depth\": 500, \"max_fe...</td>\n",
       "      <td>0.998114</td>\n",
       "      <td>0.909262</td>\n",
       "    </tr>\n",
       "    <tr>\n",
       "      <th>36</th>\n",
       "      <td>random forest</td>\n",
       "      <td>reviews_tv50k</td>\n",
       "      <td>sentiment</td>\n",
       "      <td>{\"n_estimators\": 20, \"max_depth\": 300, \"max_fe...</td>\n",
       "      <td>0.995675</td>\n",
       "      <td>0.906841</td>\n",
       "    </tr>\n",
       "    <tr>\n",
       "      <th>37</th>\n",
       "      <td>random forest</td>\n",
       "      <td>reviews_tv50k</td>\n",
       "      <td>sentiment</td>\n",
       "      <td>{\"n_estimators\": 20, \"max_depth\": 300, \"max_fe...</td>\n",
       "      <td>0.992666</td>\n",
       "      <td>0.900000</td>\n",
       "    </tr>\n",
       "    <tr>\n",
       "      <th>38</th>\n",
       "      <td>random forest</td>\n",
       "      <td>reviews_tv50k</td>\n",
       "      <td>sentiment</td>\n",
       "      <td>{\"n_estimators\": 30, \"max_depth\": 300, \"max_fe...</td>\n",
       "      <td>0.993577</td>\n",
       "      <td>0.900917</td>\n",
       "    </tr>\n",
       "    <tr>\n",
       "      <th>39</th>\n",
       "      <td>random forest</td>\n",
       "      <td>reviews_tv50k</td>\n",
       "      <td>sentiment</td>\n",
       "      <td>{\"n_estimators\": 30, \"max_depth\": 500, \"max_fe...</td>\n",
       "      <td>0.998519</td>\n",
       "      <td>0.908674</td>\n",
       "    </tr>\n",
       "    <tr>\n",
       "      <th>40</th>\n",
       "      <td>random forest</td>\n",
       "      <td>reviews_tv50k</td>\n",
       "      <td>sentiment</td>\n",
       "      <td>{\"bootstrap\": true, \"ccp_alpha\": 0.0, \"class_w...</td>\n",
       "      <td>0.988752</td>\n",
       "      <td>0.897062</td>\n",
       "    </tr>\n",
       "    <tr>\n",
       "      <th>41</th>\n",
       "      <td>random forest</td>\n",
       "      <td>reviews_tv50k</td>\n",
       "      <td>sentiment</td>\n",
       "      <td>{\"bootstrap\": true, \"ccp_alpha\": 0.0, \"class_w...</td>\n",
       "      <td>0.990039</td>\n",
       "      <td>0.899060</td>\n",
       "    </tr>\n",
       "    <tr>\n",
       "      <th>42</th>\n",
       "      <td>random forest</td>\n",
       "      <td>reviews_tv50k</td>\n",
       "      <td>sentiment</td>\n",
       "      <td>{\"bootstrap\": true, \"ccp_alpha\": 0.0, \"class_w...</td>\n",
       "      <td>0.996562</td>\n",
       "      <td>0.905383</td>\n",
       "    </tr>\n",
       "    <tr>\n",
       "      <th>43</th>\n",
       "      <td>LSTM Pytorch</td>\n",
       "      <td>review 50k sequence</td>\n",
       "      <td>sentiment</td>\n",
       "      <td>{\"epochs\": 10, \"embedding_dim\": 100, \"hidden_d...</td>\n",
       "      <td>NaN</td>\n",
       "      <td>0.853816</td>\n",
       "    </tr>\n",
       "    <tr>\n",
       "      <th>44</th>\n",
       "      <td>LSTM Pytorch</td>\n",
       "      <td>reviews_csr10k</td>\n",
       "      <td>sentiment</td>\n",
       "      <td>{\"epochs\":10, \"embedding_dim\": 100, \"hidden_di...</td>\n",
       "      <td>NaN</td>\n",
       "      <td>0.851967</td>\n",
       "    </tr>\n",
       "    <tr>\n",
       "      <th>45</th>\n",
       "      <td>FFN Pytorch</td>\n",
       "      <td>reviews_tv50k</td>\n",
       "      <td>sentiment</td>\n",
       "      <td>{\"epochs\":20, hidden_dim\": 200, \"vocab_size\": ...</td>\n",
       "      <td>NaN</td>\n",
       "      <td>0.900580</td>\n",
       "    </tr>\n",
       "    <tr>\n",
       "      <th>46</th>\n",
       "      <td>FFN Pytorch</td>\n",
       "      <td>reviews_tv50k</td>\n",
       "      <td>condition-0.05</td>\n",
       "      <td>{\"epochs\": 20, \"hidden_dim\": 200, \"vocab_size\"...</td>\n",
       "      <td>NaN</td>\n",
       "      <td>0.826869</td>\n",
       "    </tr>\n",
       "    <tr>\n",
       "      <th>47</th>\n",
       "      <td>FFN Pytorch</td>\n",
       "      <td>reviews_tv5k</td>\n",
       "      <td>condition-0.05</td>\n",
       "      <td>{\"epochs\": 20, \"hidden_dim\": 200, \"vocab_size\"...</td>\n",
       "      <td>NaN</td>\n",
       "      <td>0.777551</td>\n",
       "    </tr>\n",
       "    <tr>\n",
       "      <th>48</th>\n",
       "      <td>FFN Pytorch</td>\n",
       "      <td>reviews_tv50k</td>\n",
       "      <td>condition-0.05</td>\n",
       "      <td>{\"epochs\": 20, \"hidden1_dim\": 200, \"hidden2_di...</td>\n",
       "      <td>NaN</td>\n",
       "      <td>0.831218</td>\n",
       "    </tr>\n",
       "    <tr>\n",
       "      <th>49</th>\n",
       "      <td>LSTM Pytorch</td>\n",
       "      <td>reviews_csr50k</td>\n",
       "      <td>sentiment</td>\n",
       "      <td>{\"epochs\": 20, \"embedding_dim\": 100, \"hidden_d...</td>\n",
       "      <td>NaN</td>\n",
       "      <td>0.890143</td>\n",
       "    </tr>\n",
       "    <tr>\n",
       "      <th>50</th>\n",
       "      <td>FFN Pytorch</td>\n",
       "      <td>reviews_tv10k</td>\n",
       "      <td>sentiment</td>\n",
       "      <td>{\"epochs\": 30, \"hidden1_dim\": 200, \"hidden2_di...</td>\n",
       "      <td>0.999160</td>\n",
       "      <td>0.907789</td>\n",
       "    </tr>\n",
       "  </tbody>\n",
       "</table>\n",
       "</div>"
      ],
      "text/plain": [
       "             name               data_X          data_y  \\\n",
       "0   random forest         reviews_cv5k  condition-0.05   \n",
       "1   random forest         reviews_cv5k  condition-0.05   \n",
       "2   random forest         reviews_cv5k  condition-0.05   \n",
       "3   random forest         reviews_cv5k  condition-0.05   \n",
       "4              NB            drugnames  condition-0.01   \n",
       "5              NB            drugnames  condition-0.01   \n",
       "6              NB            drugnames  condition-0.01   \n",
       "7              NB            drugnames  condition-0.01   \n",
       "8   Decision tree            drugnames  condition-0.01   \n",
       "9   random forest            drugnames  condition-0.01   \n",
       "10           LSVC            drugnames  condition-0.01   \n",
       "11             NB         reviews_cv5k  condition-0.01   \n",
       "12             NB         reviews_cv5k  condition-0.01   \n",
       "13             NB         reviews_cv5k  condition-0.01   \n",
       "14             NB         reviews_cv5k  condition-0.01   \n",
       "15  random forest         reviews_cv5k  condition-0.01   \n",
       "16             NB         reviews_cv5k       sentiment   \n",
       "17             NB         reviews_cv5k       sentiment   \n",
       "18           LSVC         reviews_cv5k       sentiment   \n",
       "19           LSVC         reviews_cv5k       sentiment   \n",
       "20           LSVC         reviews_cv5k       sentiment   \n",
       "21             NB        reviews_cv20k       sentiment   \n",
       "22             NB        reviews_cv20k       sentiment   \n",
       "23           LSVC        reviews_cv20k       sentiment   \n",
       "24             NB         reviews_tv5k       sentiment   \n",
       "25           LSVC         reviews_tv5k       sentiment   \n",
       "26             NB        reviews_tv20k       sentiment   \n",
       "27           LSVC        reviews_tv20k       sentiment   \n",
       "28           LSVC        reviews_tv20k       sentiment   \n",
       "29             NB        reviews_tv50k       sentiment   \n",
       "30           LSVC        reviews_tv50k       sentiment   \n",
       "31           LSVC        reviews_tv50k       sentiment   \n",
       "32           LSVC        reviews_tv50k       sentiment   \n",
       "33           LSVC        reviews_tv50k       sentiment   \n",
       "34  random forest        reviews_tv50k       sentiment   \n",
       "35  random forest        reviews_tv50k       sentiment   \n",
       "36  random forest        reviews_tv50k       sentiment   \n",
       "37  random forest        reviews_tv50k       sentiment   \n",
       "38  random forest        reviews_tv50k       sentiment   \n",
       "39  random forest        reviews_tv50k       sentiment   \n",
       "40  random forest        reviews_tv50k       sentiment   \n",
       "41  random forest        reviews_tv50k       sentiment   \n",
       "42  random forest        reviews_tv50k       sentiment   \n",
       "43   LSTM Pytorch  review 50k sequence       sentiment   \n",
       "44   LSTM Pytorch       reviews_csr10k       sentiment   \n",
       "45    FFN Pytorch        reviews_tv50k       sentiment   \n",
       "46    FFN Pytorch        reviews_tv50k  condition-0.05   \n",
       "47    FFN Pytorch         reviews_tv5k  condition-0.05   \n",
       "48    FFN Pytorch        reviews_tv50k  condition-0.05   \n",
       "49   LSTM Pytorch       reviews_csr50k       sentiment   \n",
       "50    FFN Pytorch        reviews_tv10k       sentiment   \n",
       "\n",
       "                                               params  train acc  test acc  \n",
       "0   {\"n_estimators\": 20, \"max_depth\": 500, \"max_fe...   0.992542  0.811025  \n",
       "1   {\"n_estimators\": 20, \"max_depth\": 700, \"max_fe...   0.993212  0.809121  \n",
       "2   {\"n_estimators\": 20, \"max_depth\": 300, \"max_fe...   0.978444  0.800259  \n",
       "3   {\"n_estimators\": 30, \"max_depth\": 300, \"max_fe...   0.981065  0.807029  \n",
       "4                                      {\"alpha\": 1.0}   0.679175  0.674330  \n",
       "5                                      {\"alpha\": 0.5}   0.697117  0.691114  \n",
       "6                                     {\"alpha\": 0.01}   0.723874  0.713235  \n",
       "7                                    {\"alpha\": 0.001}   0.724339  0.713893  \n",
       "8   {\"criterion\": \"gini\", \"max_depth\": 6000, \"max_...   0.724344  0.714504  \n",
       "9   {\"n_estimators\": 50, \"criterion\": \"entropy\", \"...   0.724297  0.714386  \n",
       "10                                      {\"tol\":0.001}   0.724344  0.714622  \n",
       "11                                     {\"alpha\": 1.0}   0.721859  0.665115  \n",
       "12                                     {\"alpha\": 0.1}   0.784189  0.704020  \n",
       "13                                    {\"alpha\": 0.01}   0.801126  0.709191  \n",
       "14                                   {\"alpha\": 0.001}   0.808067  0.707616  \n",
       "15  {\"n_estimators\": 30, \"max_depth\": 500, \"max_fe...   0.992930  0.813141  \n",
       "16                                   {\"alpha\": 0.001}   0.741887  0.734861  \n",
       "17                                    {\"alpha\": 0.01}   0.741910  0.734838  \n",
       "18                                     {\"tol\": 0.001}   0.818210  0.804607  \n",
       "19                      {\"tol\": 0.001, \"dual\": false}   0.818216  0.804631  \n",
       "20             {\"C\": 10, \"tol\": 0.001, \"dual\": false}   0.818187  0.804466  \n",
       "21                                    {\"alpha\": 0.01}   0.772288  0.750470  \n",
       "22                                   {\"alpha\": 0.001}   0.774709  0.751316  \n",
       "23            {\"C\": 1.0, \"tol\": 0.001, \"dual\": false}   0.865437  0.819746  \n",
       "24                                   {\"alpha\": 0.001}   0.761463  0.757804  \n",
       "25            {\"C\": 1.0, \"tol\": 0.001, \"dual\": false}   0.823881  0.810461  \n",
       "26                                   {\"alpha\": 0.001}   0.783601  0.767630  \n",
       "27            {\"C\": 1.0, \"tol\": 0.001, \"dual\": false}   0.848658  0.819629  \n",
       "28          {\"C\": 100.0, \"tol\": 0.001, \"dual\": false}   0.870379  0.818077  \n",
       "29                                   {\"alpha\": 0.001}   0.813420  0.784720  \n",
       "30          {\"C\": 100.0, \"tol\": 0.001, \"dual\": false}   0.894398  0.832887  \n",
       "31            {\"C\": 1.0, \"tol\": 0.001, \"dual\": false}   0.861488  0.825740  \n",
       "32           {\"C\": 1.0, \"tol\": 0.0001, \"dual\": false}   0.861687  0.825693  \n",
       "33        {\"C\": 1000.0, \"tol\": 0.0001, \"dual\": false}   0.895885  0.831124  \n",
       "34  {\"n_estimators\": 10, \"max_depth\": 500, \"max_fe...   0.995645  0.902609  \n",
       "35  {\"n_estimators\": 20, \"max_depth\": 500, \"max_fe...   0.998114  0.909262  \n",
       "36  {\"n_estimators\": 20, \"max_depth\": 300, \"max_fe...   0.995675  0.906841  \n",
       "37  {\"n_estimators\": 20, \"max_depth\": 300, \"max_fe...   0.992666  0.900000  \n",
       "38  {\"n_estimators\": 30, \"max_depth\": 300, \"max_fe...   0.993577  0.900917  \n",
       "39  {\"n_estimators\": 30, \"max_depth\": 500, \"max_fe...   0.998519  0.908674  \n",
       "40  {\"bootstrap\": true, \"ccp_alpha\": 0.0, \"class_w...   0.988752  0.897062  \n",
       "41  {\"bootstrap\": true, \"ccp_alpha\": 0.0, \"class_w...   0.990039  0.899060  \n",
       "42  {\"bootstrap\": true, \"ccp_alpha\": 0.0, \"class_w...   0.996562  0.905383  \n",
       "43  {\"epochs\": 10, \"embedding_dim\": 100, \"hidden_d...        NaN  0.853816  \n",
       "44  {\"epochs\":10, \"embedding_dim\": 100, \"hidden_di...        NaN  0.851967  \n",
       "45  {\"epochs\":20, hidden_dim\": 200, \"vocab_size\": ...        NaN  0.900580  \n",
       "46  {\"epochs\": 20, \"hidden_dim\": 200, \"vocab_size\"...        NaN  0.826869  \n",
       "47  {\"epochs\": 20, \"hidden_dim\": 200, \"vocab_size\"...        NaN  0.777551  \n",
       "48  {\"epochs\": 20, \"hidden1_dim\": 200, \"hidden2_di...        NaN  0.831218  \n",
       "49  {\"epochs\": 20, \"embedding_dim\": 100, \"hidden_d...        NaN  0.890143  \n",
       "50  {\"epochs\": 30, \"hidden1_dim\": 200, \"hidden2_di...   0.999160  0.907789  "
      ]
     },
     "execution_count": 8,
     "metadata": {},
     "output_type": "execute_result"
    }
   ],
   "source": [
    "logs.log_data"
   ]
  },
  {
   "cell_type": "markdown",
   "metadata": {},
   "source": [
    "# Condition=f(drug)"
   ]
  },
  {
   "cell_type": "code",
   "execution_count": null,
   "metadata": {},
   "outputs": [],
   "source": [
    "drug_per_condition"
   ]
  },
  {
   "cell_type": "markdown",
   "metadata": {},
   "source": [
    "One-hot encode features (drug names)"
   ]
  },
  {
   "cell_type": "code",
   "execution_count": null,
   "metadata": {},
   "outputs": [],
   "source": [
    "enc = OneHotEncoder(handle_unknown='ignore')"
   ]
  },
  {
   "cell_type": "code",
   "execution_count": null,
   "metadata": {},
   "outputs": [],
   "source": [
    "X=data['drugName'].values\n",
    "X=enc.fit_transform(X.reshape(-1,1))"
   ]
  },
  {
   "cell_type": "code",
   "execution_count": null,
   "metadata": {},
   "outputs": [],
   "source": [
    "x_train,x_test,y_train,y_test=train_test_split(X,data['condition-0.01'].values,test_size=0.2,random_state=42)"
   ]
  },
  {
   "cell_type": "markdown",
   "metadata": {},
   "source": [
    "## NB"
   ]
  },
  {
   "cell_type": "markdown",
   "metadata": {},
   "source": [
    "Multinomial Naive-Bayes"
   ]
  },
  {
   "cell_type": "code",
   "execution_count": null,
   "metadata": {},
   "outputs": [],
   "source": [
    "params={'alpha':0.001}\n",
    "NB=MultinomialNB(**params)"
   ]
  },
  {
   "cell_type": "code",
   "execution_count": null,
   "metadata": {},
   "outputs": [],
   "source": [
    "NB.fit(x_train,y_train)"
   ]
  },
  {
   "cell_type": "code",
   "execution_count": null,
   "metadata": {},
   "outputs": [],
   "source": [
    "logs.model_name='NB'\n",
    "logs.data_X_name='drugnames'\n",
    "logs.data_y_name='condition-0.01'\n",
    "logs.add_SKLmodel(NB,x_train,x_test,y_train,y_test)"
   ]
  },
  {
   "cell_type": "markdown",
   "metadata": {},
   "source": [
    "## Decision Tree"
   ]
  },
  {
   "cell_type": "code",
   "execution_count": null,
   "metadata": {},
   "outputs": [],
   "source": [
    "params={'criterion':'gini', 'max_depth':6000,'max_features':3654,'random_state':100}"
   ]
  },
  {
   "cell_type": "code",
   "execution_count": null,
   "metadata": {},
   "outputs": [],
   "source": [
    "Dtc=DecisionTreeClassifier(**params)"
   ]
  },
  {
   "cell_type": "code",
   "execution_count": null,
   "metadata": {},
   "outputs": [],
   "source": [
    "Dtc.fit(x_train,y_train)"
   ]
  },
  {
   "cell_type": "code",
   "execution_count": null,
   "metadata": {},
   "outputs": [],
   "source": [
    "logs.model_name='Decision Tree'\n",
    "logs.data_X_name='drugnames'\n",
    "logs.data_y_name='condition-0.01'\n",
    "logs.add_SKLmodel(Dtc,x_train,x_test,y_train,y_test)"
   ]
  },
  {
   "cell_type": "markdown",
   "metadata": {},
   "source": [
    "## Random Forest Classifier"
   ]
  },
  {
   "cell_type": "code",
   "execution_count": null,
   "metadata": {},
   "outputs": [],
   "source": [
    "params={'n_estimators':50,'criterion':'entropy', 'max_depth':3000,'max_features':2000,'random_state':100,'verbose':1,'n_jobs':-1}\n",
    "RFmodel=RandomForestClassifier(**params)"
   ]
  },
  {
   "cell_type": "code",
   "execution_count": null,
   "metadata": {},
   "outputs": [],
   "source": [
    "RFmodel.fit(x_train,y_train)"
   ]
  },
  {
   "cell_type": "code",
   "execution_count": null,
   "metadata": {},
   "outputs": [],
   "source": [
    "logs.model_name='random forest'\n",
    "logs.data_X_name='drugnames'\n",
    "logs.data_y_name='condition-0.01'\n",
    "logs.add_SKLmodel(RFmodel,x_train,x_test,y_train,y_test)"
   ]
  },
  {
   "cell_type": "markdown",
   "metadata": {},
   "source": [
    "## Linear SVC"
   ]
  },
  {
   "cell_type": "code",
   "execution_count": null,
   "metadata": {},
   "outputs": [],
   "source": [
    "lsvc=LinearSVC(random_state=50, tol=0.001)"
   ]
  },
  {
   "cell_type": "code",
   "execution_count": null,
   "metadata": {},
   "outputs": [],
   "source": [
    "lsvc.fit(x_train,y_train)"
   ]
  },
  {
   "cell_type": "code",
   "execution_count": null,
   "metadata": {},
   "outputs": [],
   "source": [
    "logs.model_name='LSVC'\n",
    "logs.data_X_name='drugnames'\n",
    "logs.data_y_name='condition-0.01'\n",
    "logs.add_SKLmodel(lsvc,x_train,x_test,y_train,y_test)"
   ]
  },
  {
   "cell_type": "markdown",
   "metadata": {},
   "source": [
    "## Set analysis"
   ]
  },
  {
   "cell_type": "markdown",
   "metadata": {},
   "source": [
    "To understand in more detail the relationship between "
   ]
  },
  {
   "cell_type": "code",
   "execution_count": null,
   "metadata": {},
   "outputs": [],
   "source": [
    "drug_per_condition=pickle.load(open('drug_per_condition.pkl','rb'))"
   ]
  },
  {
   "cell_type": "code",
   "execution_count": null,
   "metadata": {},
   "outputs": [],
   "source": [
    "drug_per_condition"
   ]
  },
  {
   "cell_type": "markdown",
   "metadata": {},
   "source": [
    "We iterate over each condition and list of drugs used. The following code keeps the drug names which appear only for a particular drug, allowing to unequivocally identify the condition. "
   ]
  },
  {
   "cell_type": "code",
   "execution_count": null,
   "metadata": {},
   "outputs": [],
   "source": [
    "A=set()\n",
    "for index, lst in drug_per_condition.items():\n",
    "    B=set(lst)\n",
    "    A=A^B"
   ]
  },
  {
   "cell_type": "code",
   "execution_count": null,
   "metadata": {},
   "outputs": [],
   "source": [
    "B=set(data.drugName.values)"
   ]
  },
  {
   "cell_type": "code",
   "execution_count": null,
   "metadata": {},
   "outputs": [],
   "source": [
    "len(A)/len(B)*100"
   ]
  },
  {
   "cell_type": "markdown",
   "metadata": {},
   "source": [
    "We see that the percentage is approximately equal to the train/test accuracy found previously."
   ]
  },
  {
   "cell_type": "markdown",
   "metadata": {},
   "source": [
    "# Condition=f(review)"
   ]
  },
  {
   "cell_type": "code",
   "execution_count": null,
   "metadata": {},
   "outputs": [],
   "source": [
    "x_train,x_test,y_train,y_test=train_test_split(reviews_cv5k,data['condition-0.01'].values,test_size=0.2,random_state=42)"
   ]
  },
  {
   "cell_type": "markdown",
   "metadata": {},
   "source": [
    "## NB model"
   ]
  },
  {
   "cell_type": "code",
   "execution_count": null,
   "metadata": {},
   "outputs": [],
   "source": [
    "params={'alpha':0.001}\n",
    "NB=MultinomialNB(**params)"
   ]
  },
  {
   "cell_type": "code",
   "execution_count": null,
   "metadata": {},
   "outputs": [],
   "source": [
    "NB.fit(x_train,y_train)"
   ]
  },
  {
   "cell_type": "code",
   "execution_count": null,
   "metadata": {},
   "outputs": [],
   "source": [
    "logs.model_name='NB'\n",
    "logs.data_X_name='reviews_cv5k'\n",
    "logs.data_y_name='condition-0.01'\n",
    "logs.add_SKLmodel(NB,x_train,x_test,y_train,y_test)"
   ]
  },
  {
   "cell_type": "markdown",
   "metadata": {},
   "source": [
    "## Random Forest"
   ]
  },
  {
   "cell_type": "code",
   "execution_count": null,
   "metadata": {},
   "outputs": [],
   "source": [
    "params={'n_estimators':30,'max_depth':500,'max_features':'auto','random_state':100,'verbose':1,'n_jobs':-1}\n",
    "RFmodel=RandomForestClassifier(**params)"
   ]
  },
  {
   "cell_type": "code",
   "execution_count": null,
   "metadata": {},
   "outputs": [],
   "source": [
    "cross_val_score(RFmodel,reviews_cv10k,data['condition-0.05'].values,cv=5,scoring='accuracy',n_jobs=-1)"
   ]
  },
  {
   "cell_type": "code",
   "execution_count": null,
   "metadata": {},
   "outputs": [],
   "source": [
    "RFmodel.fit(x_train,y_train)"
   ]
  },
  {
   "cell_type": "code",
   "execution_count": null,
   "metadata": {},
   "outputs": [],
   "source": [
    "logs.model_name='Nrandom forest'\n",
    "logs.data_X_name='reviews_cv5k'\n",
    "logs.data_y_name='condition-0.01'\n",
    "logs.add_SKLmodel(RFmodel,x_train,x_test,y_train,y_test)"
   ]
  },
  {
   "cell_type": "markdown",
   "metadata": {},
   "source": [
    "## XGboost"
   ]
  },
  {
   "cell_type": "code",
   "execution_count": null,
   "metadata": {},
   "outputs": [],
   "source": [
    "params={'n_estimators':100,'max_depth':10, 'learning_rate':0.1, 'objective':'multi:softmax' ,'verbosity':1,'n_jobs':-1}"
   ]
  },
  {
   "cell_type": "code",
   "execution_count": null,
   "metadata": {},
   "outputs": [],
   "source": [
    "xgbc=xgb.XGBClassifier(**params)"
   ]
  },
  {
   "cell_type": "code",
   "execution_count": null,
   "metadata": {},
   "outputs": [],
   "source": [
    "xgbc.fit()"
   ]
  },
  {
   "cell_type": "markdown",
   "metadata": {},
   "source": [
    "## FeedFoward-NN Pytorch"
   ]
  },
  {
   "cell_type": "markdown",
   "metadata": {},
   "source": [
    "### Train data preparation"
   ]
  },
  {
   "cell_type": "markdown",
   "metadata": {},
   "source": [
    "These functions are used to transform the input and target data into Torch tensors"
   ]
  },
  {
   "cell_type": "code",
   "execution_count": 6,
   "metadata": {},
   "outputs": [],
   "source": [
    "def csr_to_torch_float(csr):\n",
    "    coo=csr.tocoo()\n",
    "    values = coo.data\n",
    "    indices = np.vstack((coo.row, coo.col))\n",
    "    i = torch.LongTensor(indices)\n",
    "    v = torch.FloatTensor(values)\n",
    "    shape =coo.shape\n",
    "    tensor=torch.sparse.FloatTensor(i, v, torch.Size(shape))\n",
    "    \n",
    "    return tensor"
   ]
  },
  {
   "cell_type": "code",
   "execution_count": 7,
   "metadata": {},
   "outputs": [],
   "source": [
    "def y_torch(train_y):\n",
    "    classes=list(set(train_y))\n",
    "    classes=sorted(classes)\n",
    "    dic={target:i for i,target in enumerate(classes)}\n",
    "\n",
    "    y=np.array([dic[target] for target in train_y])\n",
    "\n",
    "    return torch.from_numpy(y).squeeze()"
   ]
  },
  {
   "cell_type": "markdown",
   "metadata": {},
   "source": [
    "Upload Data to S3"
   ]
  },
  {
   "cell_type": "code",
   "execution_count": 8,
   "metadata": {},
   "outputs": [],
   "source": [
    "prefix='ffn_train-reviews_cv5k'\n",
    "data_dir='./data_s3/train'"
   ]
  },
  {
   "cell_type": "code",
   "execution_count": 13,
   "metadata": {},
   "outputs": [],
   "source": [
    "# In this case I use the reviews count-vectorizer with a vocabulary of size=5000\n",
    "x_train,x_test,y_train,y_test=train_test_split(reviews_cv5k,data['condition-0.05'].values,test_size=0.2,random_state=224)"
   ]
  },
  {
   "cell_type": "code",
   "execution_count": 14,
   "metadata": {},
   "outputs": [],
   "source": [
    "pickle.dump(x_train,open('data_s3/train/x_train.pkl','wb'))\n",
    "pickle.dump(y_train,open('data_s3/train/y_train.pkl','wb'))\n",
    "pickle.dump(x_test,open('data_s3/test/x_test.pkl','wb'))\n",
    "pickle.dump(y_test,open('data_s3/test/y_test.pkl','wb'))"
   ]
  },
  {
   "cell_type": "code",
   "execution_count": 15,
   "metadata": {},
   "outputs": [],
   "source": [
    "input_data = sagemaker_session.upload_data(path=data_dir, bucket=bucket, key_prefix=prefix)"
   ]
  },
  {
   "cell_type": "markdown",
   "metadata": {},
   "source": [
    "### **1-hidden-layer Model**"
   ]
  },
  {
   "cell_type": "code",
   "execution_count": 16,
   "metadata": {},
   "outputs": [],
   "source": [
    "class Classifier1L(nn.Module): #one hidden layer\n",
    "    \n",
    "    def __init__(self,vocab_size,hidden_dim,output_dim,drop_rate=0.3):\n",
    "        \n",
    "        super(Classifier1L, self).__init__()\n",
    "        \n",
    "        self.fc1=nn.Linear(vocab_size,hidden_dim)\n",
    "        self.fc2=nn.Linear(hidden_dim,output_dim)\n",
    "        self.drop=nn.Dropout(drop_rate)\n",
    "        #Use Cross-Entropy loss requires not calculating probability from the network directly. The output of the last layer is fed to the loss function directly\n",
    "        \n",
    "    def forward(self,x): \n",
    "        out=self.fc1(x)   \n",
    "        out=F.relu(out)\n",
    "        out=self.drop(out)\n",
    "        out=self.fc2(out)\n",
    "\n",
    "        return out"
   ]
  },
  {
   "cell_type": "markdown",
   "metadata": {},
   "source": [
    "**Send to train in remote instance**"
   ]
  },
  {
   "cell_type": "code",
   "execution_count": 17,
   "metadata": {},
   "outputs": [],
   "source": [
    "output_dim=len(set(y_train))"
   ]
  },
  {
   "cell_type": "code",
   "execution_count": 18,
   "metadata": {},
   "outputs": [
    {
     "data": {
      "text/plain": [
       "182"
      ]
     },
     "execution_count": 18,
     "metadata": {},
     "output_type": "execute_result"
    }
   ],
   "source": [
    "output_dim"
   ]
  },
  {
   "cell_type": "code",
   "execution_count": 19,
   "metadata": {},
   "outputs": [
    {
     "data": {
      "text/plain": [
       "182"
      ]
     },
     "execution_count": 19,
     "metadata": {},
     "output_type": "execute_result"
    }
   ],
   "source": [
    "len(set(y_test))"
   ]
  },
  {
   "cell_type": "code",
   "execution_count": 4,
   "metadata": {},
   "outputs": [
    {
     "name": "stdout",
     "output_type": "stream",
     "text": [
      "5000\n"
     ]
    }
   ],
   "source": [
    "vocab_size=vocab_file['reviews_cv5k.pkl']\n",
    "print(vocab_size)"
   ]
  },
  {
   "cell_type": "code",
   "execution_count": 21,
   "metadata": {},
   "outputs": [],
   "source": [
    "from sagemaker.pytorch import PyTorch\n",
    "\n",
    "estimator = PyTorch(entry_point=\"ffn_train.py\",\n",
    "                    source_dir=\"ffn_training/\",# where the training scripts are stored\n",
    "                    role=role,\n",
    "                    framework_version='1.0',\n",
    "                    train_instance_count=1,\n",
    "                    train_instance_type='ml.p2.xlarge',\n",
    "                    sagemaker_session=sagemaker_session,\n",
    "                    hyperparameters={\n",
    "                        'epochs': 30,\n",
    "                        'vocab_size':vocab_size,\n",
    "                        'hidden_dim': 200,\n",
    "                        'output_dim':output_dim,\n",
    "                        'drop_rate':0.3\n",
    "                    })"
   ]
  },
  {
   "cell_type": "code",
   "execution_count": 22,
   "metadata": {},
   "outputs": [
    {
     "data": {
      "text/plain": [
       "'s3://sagemaker-us-east-2-113516067754/ffn_train-reviews_cv5k'"
      ]
     },
     "execution_count": 22,
     "metadata": {},
     "output_type": "execute_result"
    }
   ],
   "source": [
    "input_data"
   ]
  },
  {
   "cell_type": "code",
   "execution_count": 24,
   "metadata": {},
   "outputs": [
    {
     "name": "stderr",
     "output_type": "stream",
     "text": [
      "'create_image_uri' will be deprecated in favor of 'ImageURIProvider' class in SageMaker Python SDK v2.\n",
      "'s3_input' class will be renamed to 'TrainingInput' in SageMaker Python SDK v2.\n",
      "'create_image_uri' will be deprecated in favor of 'ImageURIProvider' class in SageMaker Python SDK v2.\n"
     ]
    },
    {
     "name": "stdout",
     "output_type": "stream",
     "text": [
      "2020-07-22 12:24:34 Starting - Starting the training job...\n",
      "2020-07-22 12:24:36 Starting - Launching requested ML instances......\n",
      "2020-07-22 12:26:07 Starting - Preparing the instances for training.........\n",
      "2020-07-22 12:27:23 Downloading - Downloading input data...\n",
      "2020-07-22 12:27:48 Training - Downloading the training image...\n",
      "2020-07-22 12:28:39 Training - Training image download completed. Training in progress.\u001b[34mbash: cannot set terminal process group (-1): Inappropriate ioctl for device\u001b[0m\n",
      "\u001b[34mbash: no job control in this shell\u001b[0m\n",
      "\u001b[34m2020-07-22 12:28:41,076 sagemaker-containers INFO     Imported framework sagemaker_pytorch_container.training\u001b[0m\n",
      "\u001b[34m2020-07-22 12:28:41,103 sagemaker_pytorch_container.training INFO     Block until all host DNS lookups succeed.\u001b[0m\n",
      "\u001b[34m2020-07-22 12:28:41,104 sagemaker_pytorch_container.training INFO     Invoking user training script.\u001b[0m\n",
      "\u001b[34m2020-07-22 12:28:41,380 sagemaker-containers INFO     Module ffn_train does not provide a setup.py. \u001b[0m\n",
      "\u001b[34mGenerating setup.py\u001b[0m\n",
      "\u001b[34m2020-07-22 12:28:41,380 sagemaker-containers INFO     Generating setup.cfg\u001b[0m\n",
      "\u001b[34m2020-07-22 12:28:41,381 sagemaker-containers INFO     Generating MANIFEST.in\u001b[0m\n",
      "\u001b[34m2020-07-22 12:28:41,381 sagemaker-containers INFO     Installing module with the following command:\u001b[0m\n",
      "\u001b[34m/usr/bin/python -m pip install -U . -r requirements.txt\u001b[0m\n",
      "\u001b[34mProcessing /opt/ml/code\u001b[0m\n",
      "\u001b[34mCollecting pandas (from -r requirements.txt (line 1))\n",
      "  Downloading https://files.pythonhosted.org/packages/c0/95/cb9820560a2713384ef49060b0087dfa2591c6db6f240215c2bce1f4211c/pandas-1.0.5-cp36-cp36m-manylinux1_x86_64.whl (10.1MB)\u001b[0m\n",
      "\u001b[34mCollecting numpy (from -r requirements.txt (line 2))\u001b[0m\n",
      "\u001b[34m  Downloading https://files.pythonhosted.org/packages/22/e7/4b2bdddb99f5f631d8c1de259897c2b7d65dcfcc1e0a6fd17a7f62923500/numpy-1.19.1-cp36-cp36m-manylinux1_x86_64.whl (13.4MB)\u001b[0m\n",
      "\u001b[34mCollecting nltk (from -r requirements.txt (line 3))\n",
      "  Downloading https://files.pythonhosted.org/packages/92/75/ce35194d8e3022203cca0d2f896dbb88689f9b3fce8e9f9cff942913519d/nltk-3.5.zip (1.4MB)\u001b[0m\n",
      "\u001b[34mRequirement already satisfied, skipping upgrade: python-dateutil>=2.6.1 in /usr/local/lib/python3.6/dist-packages (from pandas->-r requirements.txt (line 1)) (2.8.0)\u001b[0m\n",
      "\u001b[34mRequirement already satisfied, skipping upgrade: pytz>=2017.2 in /usr/local/lib/python3.6/dist-packages (from pandas->-r requirements.txt (line 1)) (2019.1)\u001b[0m\n",
      "\u001b[34mRequirement already satisfied, skipping upgrade: click in /usr/local/lib/python3.6/dist-packages (from nltk->-r requirements.txt (line 3)) (7.0)\u001b[0m\n",
      "\u001b[34mCollecting joblib (from nltk->-r requirements.txt (line 3))\n",
      "  Downloading https://files.pythonhosted.org/packages/51/dd/0e015051b4a27ec5a58b02ab774059f3289a94b0906f880a3f9507e74f38/joblib-0.16.0-py3-none-any.whl (300kB)\u001b[0m\n",
      "\u001b[34mCollecting regex (from nltk->-r requirements.txt (line 3))\u001b[0m\n",
      "\u001b[34m  Downloading https://files.pythonhosted.org/packages/3e/eb/85f375a102e95cde14a184ee985a35e1a20c4ceb3fe7f57fa128a9326283/regex-2020.7.14-cp36-cp36m-manylinux1_x86_64.whl (660kB)\u001b[0m\n",
      "\u001b[34mRequirement already satisfied, skipping upgrade: tqdm in /usr/local/lib/python3.6/dist-packages (from nltk->-r requirements.txt (line 3)) (4.32.1)\u001b[0m\n",
      "\u001b[34mRequirement already satisfied, skipping upgrade: six>=1.5 in /usr/local/lib/python3.6/dist-packages (from python-dateutil>=2.6.1->pandas->-r requirements.txt (line 1)) (1.12.0)\u001b[0m\n",
      "\u001b[34mBuilding wheels for collected packages: nltk, ffn-train\n",
      "  Running setup.py bdist_wheel for nltk: started\u001b[0m\n",
      "\u001b[34m  Running setup.py bdist_wheel for nltk: finished with status 'done'\n",
      "  Stored in directory: /root/.cache/pip/wheels/ae/8c/3f/b1fe0ba04555b08b57ab52ab7f86023639a526d8bc8d384306\n",
      "  Running setup.py bdist_wheel for ffn-train: started\n",
      "  Running setup.py bdist_wheel for ffn-train: finished with status 'done'\n",
      "  Stored in directory: /tmp/pip-ephem-wheel-cache-dgzq5a56/wheels/35/24/16/37574d11bf9bde50616c67372a334f94fa8356bc7164af8ca3\u001b[0m\n",
      "\u001b[34mSuccessfully built nltk ffn-train\u001b[0m\n",
      "\u001b[34mInstalling collected packages: numpy, pandas, joblib, regex, nltk, ffn-train\n",
      "  Found existing installation: numpy 1.16.4\u001b[0m\n",
      "\u001b[34m    Uninstalling numpy-1.16.4:\u001b[0m\n",
      "\u001b[34m      Successfully uninstalled numpy-1.16.4\u001b[0m\n",
      "\u001b[34m  Found existing installation: pandas 0.24.2\u001b[0m\n",
      "\u001b[34m    Uninstalling pandas-0.24.2:\u001b[0m\n",
      "\u001b[34m      Successfully uninstalled pandas-0.24.2\u001b[0m\n",
      "\u001b[34mSuccessfully installed ffn-train-1.0.0 joblib-0.16.0 nltk-3.5 numpy-1.19.1 pandas-1.0.5 regex-2020.7.14\u001b[0m\n",
      "\u001b[34mYou are using pip version 18.1, however version 20.2b1 is available.\u001b[0m\n",
      "\u001b[34mYou should consider upgrading via the 'pip install --upgrade pip' command.\u001b[0m\n",
      "\u001b[34m2020-07-22 12:28:57,329 sagemaker-containers INFO     Invoking user script\n",
      "\u001b[0m\n",
      "\u001b[34mTraining Env:\n",
      "\u001b[0m\n",
      "\u001b[34m{\n",
      "    \"additional_framework_parameters\": {},\n",
      "    \"channel_input_dirs\": {\n",
      "        \"training\": \"/opt/ml/input/data/training\"\n",
      "    },\n",
      "    \"current_host\": \"algo-1\",\n",
      "    \"framework_module\": \"sagemaker_pytorch_container.training:main\",\n",
      "    \"hosts\": [\n",
      "        \"algo-1\"\n",
      "    ],\n",
      "    \"hyperparameters\": {\n",
      "        \"drop_rate\": 0.3,\n",
      "        \"hidden_dim\": 200,\n",
      "        \"vocab_size\": 5000,\n",
      "        \"epochs\": 30,\n",
      "        \"output_dim\": 182\n",
      "    },\n",
      "    \"input_config_dir\": \"/opt/ml/input/config\",\n",
      "    \"input_data_config\": {\n",
      "        \"training\": {\n",
      "            \"TrainingInputMode\": \"File\",\n",
      "            \"S3DistributionType\": \"FullyReplicated\",\n",
      "            \"RecordWrapperType\": \"None\"\n",
      "        }\n",
      "    },\n",
      "    \"input_dir\": \"/opt/ml/input\",\n",
      "    \"is_master\": true,\n",
      "    \"job_name\": \"sagemaker-pytorch-2020-07-22-12-24-33-789\",\n",
      "    \"log_level\": 20,\n",
      "    \"master_hostname\": \"algo-1\",\n",
      "    \"model_dir\": \"/opt/ml/model\",\n",
      "    \"module_dir\": \"s3://sagemaker-us-east-2-113516067754/sagemaker-pytorch-2020-07-22-12-24-33-789/source/sourcedir.tar.gz\",\n",
      "    \"module_name\": \"ffn_train\",\n",
      "    \"network_interface_name\": \"eth0\",\n",
      "    \"num_cpus\": 4,\n",
      "    \"num_gpus\": 1,\n",
      "    \"output_data_dir\": \"/opt/ml/output/data\",\n",
      "    \"output_dir\": \"/opt/ml/output\",\n",
      "    \"output_intermediate_dir\": \"/opt/ml/output/intermediate\",\n",
      "    \"resource_config\": {\n",
      "        \"current_host\": \"algo-1\",\n",
      "        \"hosts\": [\n",
      "            \"algo-1\"\n",
      "        ],\n",
      "        \"network_interface_name\": \"eth0\"\n",
      "    },\n",
      "    \"user_entry_point\": \"ffn_train.py\"\u001b[0m\n",
      "\u001b[34m}\n",
      "\u001b[0m\n",
      "\u001b[34mEnvironment variables:\n",
      "\u001b[0m\n",
      "\u001b[34mSM_HOSTS=[\"algo-1\"]\u001b[0m\n",
      "\u001b[34mSM_NETWORK_INTERFACE_NAME=eth0\u001b[0m\n",
      "\u001b[34mSM_HPS={\"drop_rate\":0.3,\"epochs\":30,\"hidden_dim\":200,\"output_dim\":182,\"vocab_size\":5000}\u001b[0m\n",
      "\u001b[34mSM_USER_ENTRY_POINT=ffn_train.py\u001b[0m\n",
      "\u001b[34mSM_FRAMEWORK_PARAMS={}\u001b[0m\n",
      "\u001b[34mSM_RESOURCE_CONFIG={\"current_host\":\"algo-1\",\"hosts\":[\"algo-1\"],\"network_interface_name\":\"eth0\"}\u001b[0m\n",
      "\u001b[34mSM_INPUT_DATA_CONFIG={\"training\":{\"RecordWrapperType\":\"None\",\"S3DistributionType\":\"FullyReplicated\",\"TrainingInputMode\":\"File\"}}\u001b[0m\n",
      "\u001b[34mSM_OUTPUT_DATA_DIR=/opt/ml/output/data\u001b[0m\n",
      "\u001b[34mSM_CHANNELS=[\"training\"]\u001b[0m\n",
      "\u001b[34mSM_CURRENT_HOST=algo-1\u001b[0m\n",
      "\u001b[34mSM_MODULE_NAME=ffn_train\u001b[0m\n",
      "\u001b[34mSM_LOG_LEVEL=20\u001b[0m\n",
      "\u001b[34mSM_FRAMEWORK_MODULE=sagemaker_pytorch_container.training:main\u001b[0m\n",
      "\u001b[34mSM_INPUT_DIR=/opt/ml/input\u001b[0m\n",
      "\u001b[34mSM_INPUT_CONFIG_DIR=/opt/ml/input/config\u001b[0m\n",
      "\u001b[34mSM_OUTPUT_DIR=/opt/ml/output\u001b[0m\n",
      "\u001b[34mSM_NUM_CPUS=4\u001b[0m\n",
      "\u001b[34mSM_NUM_GPUS=1\u001b[0m\n",
      "\u001b[34mSM_MODEL_DIR=/opt/ml/model\u001b[0m\n",
      "\u001b[34mSM_MODULE_DIR=s3://sagemaker-us-east-2-113516067754/sagemaker-pytorch-2020-07-22-12-24-33-789/source/sourcedir.tar.gz\u001b[0m\n",
      "\u001b[34mSM_TRAINING_ENV={\"additional_framework_parameters\":{},\"channel_input_dirs\":{\"training\":\"/opt/ml/input/data/training\"},\"current_host\":\"algo-1\",\"framework_module\":\"sagemaker_pytorch_container.training:main\",\"hosts\":[\"algo-1\"],\"hyperparameters\":{\"drop_rate\":0.3,\"epochs\":30,\"hidden_dim\":200,\"output_dim\":182,\"vocab_size\":5000},\"input_config_dir\":\"/opt/ml/input/config\",\"input_data_config\":{\"training\":{\"RecordWrapperType\":\"None\",\"S3DistributionType\":\"FullyReplicated\",\"TrainingInputMode\":\"File\"}},\"input_dir\":\"/opt/ml/input\",\"is_master\":true,\"job_name\":\"sagemaker-pytorch-2020-07-22-12-24-33-789\",\"log_level\":20,\"master_hostname\":\"algo-1\",\"model_dir\":\"/opt/ml/model\",\"module_dir\":\"s3://sagemaker-us-east-2-113516067754/sagemaker-pytorch-2020-07-22-12-24-33-789/source/sourcedir.tar.gz\",\"module_name\":\"ffn_train\",\"network_interface_name\":\"eth0\",\"num_cpus\":4,\"num_gpus\":1,\"output_data_dir\":\"/opt/ml/output/data\",\"output_dir\":\"/opt/ml/output\",\"output_intermediate_dir\":\"/opt/ml/output/intermediate\",\"resource_config\":{\"current_host\":\"algo-1\",\"hosts\":[\"algo-1\"],\"network_interface_name\":\"eth0\"},\"user_entry_point\":\"ffn_train.py\"}\u001b[0m\n",
      "\u001b[34mSM_USER_ARGS=[\"--drop_rate\",\"0.3\",\"--epochs\",\"30\",\"--hidden_dim\",\"200\",\"--output_dim\",\"182\",\"--vocab_size\",\"5000\"]\u001b[0m\n",
      "\u001b[34mSM_OUTPUT_INTERMEDIATE_DIR=/opt/ml/output/intermediate\u001b[0m\n",
      "\u001b[34mSM_CHANNEL_TRAINING=/opt/ml/input/data/training\u001b[0m\n",
      "\u001b[34mSM_HP_DROP_RATE=0.3\u001b[0m\n",
      "\u001b[34mSM_HP_HIDDEN_DIM=200\u001b[0m\n",
      "\u001b[34mSM_HP_VOCAB_SIZE=5000\u001b[0m\n",
      "\u001b[34mSM_HP_EPOCHS=30\u001b[0m\n",
      "\u001b[34mSM_HP_OUTPUT_DIM=182\u001b[0m\n",
      "\u001b[34mPYTHONPATH=/usr/local/bin:/usr/lib/python36.zip:/usr/lib/python3.6:/usr/lib/python3.6/lib-dynload:/usr/local/lib/python3.6/dist-packages:/usr/lib/python3/dist-packages\n",
      "\u001b[0m\n",
      "\u001b[34mInvoking script with the following command:\n",
      "\u001b[0m\n",
      "\u001b[34m/usr/bin/python -m ffn_train --drop_rate 0.3 --epochs 30 --hidden_dim 200 --output_dim 182 --vocab_size 5000\n",
      "\n",
      "\u001b[0m\n",
      "\u001b[34mUsing device cuda.\u001b[0m\n",
      "\u001b[34mGet train data loader.\u001b[0m\n",
      "\u001b[34mTrain data loaded.\u001b[0m\n",
      "\u001b[34mModel loaded with hidden_dim 200, vocab_size 5000, output_dim 182, dropout rate 0.3\u001b[0m\n",
      "\u001b[34mEpoch: 1, Loss: 2.3943715152797758\u001b[0m\n",
      "\u001b[34mEpoch: 2, Loss: 1.357777318438968\u001b[0m\n",
      "\u001b[34mEpoch: 3, Loss: 1.1234004425930906\u001b[0m\n",
      "\u001b[34mEpoch: 4, Loss: 0.987059267433556\u001b[0m\n",
      "\u001b[34mEpoch: 5, Loss: 0.8887074795571176\u001b[0m\n",
      "\u001b[34mEpoch: 6, Loss: 0.8071193752346096\u001b[0m\n",
      "\u001b[34mEpoch: 7, Loss: 0.7395443550280264\u001b[0m\n",
      "\u001b[34mEpoch: 8, Loss: 0.6811137672838148\u001b[0m\n",
      "\u001b[34mEpoch: 9, Loss: 0.6305991987566332\u001b[0m\n",
      "\u001b[34mEpoch: 10, Loss: 0.5871091489498321\u001b[0m\n",
      "\u001b[34mEpoch: 11, Loss: 0.5465993033694075\u001b[0m\n",
      "\u001b[34mEpoch: 12, Loss: 0.510893762738139\u001b[0m\n",
      "\u001b[34mEpoch: 13, Loss: 0.4813704866099286\u001b[0m\n",
      "\u001b[34mEpoch: 14, Loss: 0.45404956415966824\u001b[0m\n",
      "\u001b[34mEpoch: 15, Loss: 0.4287516182517862\u001b[0m\n",
      "\u001b[34mEpoch: 16, Loss: 0.4072338982566341\u001b[0m\n",
      "\u001b[34mEpoch: 17, Loss: 0.3865747513982269\u001b[0m\n",
      "\u001b[34mEpoch: 18, Loss: 0.36668624292622815\u001b[0m\n",
      "\u001b[34mEpoch: 19, Loss: 0.35061449747722784\u001b[0m\n",
      "\u001b[34mEpoch: 20, Loss: 0.33470528270747213\u001b[0m\n",
      "\u001b[34mEpoch: 21, Loss: 0.32198945896045583\u001b[0m\n",
      "\u001b[34mEpoch: 22, Loss: 0.31002601596328233\u001b[0m\n",
      "\u001b[34mEpoch: 23, Loss: 0.298904113270141\u001b[0m\n",
      "\u001b[34mEpoch: 24, Loss: 0.2844159079117102\u001b[0m\n",
      "\u001b[34mEpoch: 25, Loss: 0.2756912359693745\u001b[0m\n",
      "\u001b[34mEpoch: 26, Loss: 0.26644570742909973\u001b[0m\n",
      "\u001b[34mEpoch: 27, Loss: 0.2581401035502866\u001b[0m\n",
      "\u001b[34mEpoch: 28, Loss: 0.24859619599294375\u001b[0m\n",
      "\u001b[34mEpoch: 29, Loss: 0.2423470228149726\u001b[0m\n",
      "\u001b[34mEpoch: 30, Loss: 0.23327459620910365\u001b[0m\n",
      "\u001b[34m2020-07-22 12:30:44,699 sagemaker-containers INFO     Reporting training SUCCESS\u001b[0m\n",
      "\n",
      "2020-07-22 12:30:46 Uploading - Uploading generated training model\n",
      "2020-07-22 12:31:19 Completed - Training job completed\n",
      "Training seconds: 236\n",
      "Billable seconds: 236\n"
     ]
    }
   ],
   "source": [
    "estimator.fit({'training': input_data})"
   ]
  },
  {
   "cell_type": "markdown",
   "metadata": {},
   "source": [
    "**Validation**"
   ]
  },
  {
   "cell_type": "markdown",
   "metadata": {},
   "source": [
    "Rather then deploying the model, I download the model artifacts directly from S3."
   ]
  },
  {
   "cell_type": "code",
   "execution_count": null,
   "metadata": {},
   "outputs": [],
   "source": [
    "s3 = boto3.client('s3')\n",
    "s3.download_file(bucket,'sagemaker-pytorch-2020-07-19-20-57-52-787/output/model.tar.gz','model.tar.gz')"
   ]
  },
  {
   "cell_type": "code",
   "execution_count": 25,
   "metadata": {},
   "outputs": [
    {
     "name": "stdout",
     "output_type": "stream",
     "text": [
      "{'epochs': 30, 'hidden_dim': 200, 'vocab_size': 5000, 'output_dim': 182, 'drop_rate': 0.3}\n"
     ]
    }
   ],
   "source": [
    "with open('ffn_model_artifacts/model_info.pth','rb') as f:\n",
    "    model_info=torch.load(f)\n",
    "print(model_info)"
   ]
  },
  {
   "cell_type": "code",
   "execution_count": 26,
   "metadata": {},
   "outputs": [],
   "source": [
    "# Prepare validation data\n",
    "x_test_torch=csr_to_torch_float(x_test)\n",
    "y_test_torch=y_torch(y_test)\n",
    "\n",
    "val_ds = torch.utils.data.TensorDataset(x_test_torch.to_dense(), y_test_torch)\n",
    "val_dl=torch.utils.data.DataLoader(val_ds, batch_size=100)"
   ]
  },
  {
   "cell_type": "code",
   "execution_count": 27,
   "metadata": {},
   "outputs": [],
   "source": [
    "#function to calculate accuracy of Pytorch model\n",
    "def acc_pytorch(model,loader):\n",
    "    model.eval()\n",
    "    with torch.no_grad():\n",
    "        accu=0\n",
    "        for batch in loader:\n",
    "            val_X,val_y=batch\n",
    "            val_X=val_X.to(device)\n",
    "            val_y=val_y.to(device)\n",
    "            x=model(val_X)\n",
    "            probs=F.softmax(x,dim=1)\n",
    "            preds=probs.argmax(dim=1)\n",
    "            accu+=(preds==val_y).sum().item()\n",
    "    \n",
    "    accu=accu/len(loader.dataset)*100\n",
    "    return accu"
   ]
  },
  {
   "cell_type": "code",
   "execution_count": 29,
   "metadata": {},
   "outputs": [],
   "source": [
    "#Load model info and state\n",
    "\n",
    "device = torch.device(\"cuda\" if torch.cuda.is_available() else \"cpu\")\n",
    "model=Classifier1L(model_info['vocab_size'],model_info['hidden_dim'], model_info['output_dim'],model_info['drop_rate']).to(device)\n",
    "\n",
    "with open('ffn_model_artifacts/model.pth','rb') as f:\n",
    "    model.load_state_dict(torch.load(f))"
   ]
  },
  {
   "cell_type": "code",
   "execution_count": 31,
   "metadata": {},
   "outputs": [
    {
     "data": {
      "text/plain": [
       "83.28396803008933"
      ]
     },
     "execution_count": 31,
     "metadata": {},
     "output_type": "execute_result"
    }
   ],
   "source": [
    "acc_pytorch(model,val_dl)"
   ]
  },
  {
   "cell_type": "markdown",
   "metadata": {},
   "source": [
    "**Train accuracy**"
   ]
  },
  {
   "cell_type": "markdown",
   "metadata": {},
   "source": [
    "**Note**: calculating train accuracy can be quite expensive in terms of memory. I did it tonly for small vocabularies."
   ]
  },
  {
   "cell_type": "code",
   "execution_count": 32,
   "metadata": {},
   "outputs": [],
   "source": [
    "# Prepare train data\n",
    "x_train_torch=csr_to_torch_float(x_train)\n",
    "y_train_torch=y_torch(y_train)\n",
    "\n",
    "train_ds = torch.utils.data.TensorDataset(x_train_torch.to_dense(), y_train_torch)\n",
    "train_dl=torch.utils.data.DataLoader(train_ds, batch_size=100)"
   ]
  },
  {
   "cell_type": "code",
   "execution_count": 33,
   "metadata": {},
   "outputs": [
    {
     "data": {
      "text/plain": [
       "96.98750572996862"
      ]
     },
     "execution_count": 33,
     "metadata": {},
     "output_type": "execute_result"
    }
   ],
   "source": [
    "acc_pytorch(model,train_dl)"
   ]
  },
  {
   "cell_type": "code",
   "execution_count": 38,
   "metadata": {},
   "outputs": [],
   "source": [
    "logs.add_row('FFN Pytorch/reviews_cv5k/condition-0.05/{}/0.9698750572996862/0.8328396803008933'.format(json.dumps(model_info)))"
   ]
  },
  {
   "cell_type": "code",
   "execution_count": null,
   "metadata": {},
   "outputs": [],
   "source": [
    "logs.save_data()"
   ]
  },
  {
   "cell_type": "markdown",
   "metadata": {},
   "source": [
    "### **2-hidden-layer Model**"
   ]
  },
  {
   "cell_type": "markdown",
   "metadata": {},
   "source": [
    "Model class with two layers"
   ]
  },
  {
   "cell_type": "code",
   "execution_count": null,
   "metadata": {},
   "outputs": [],
   "source": [
    "class Classifier2L(nn.Module): #one hidden layer\n",
    "    \n",
    "    def __init__(self,vocab_size,hidden1_dim,hidden2_dim,output_dim,drop_rate=0.3):\n",
    "        \n",
    "        super(Classifier2L, self).__init__()\n",
    "        \n",
    "        self.fc1=nn.Linear(vocab_size,hidden1_dim)\n",
    "        self.fc2=nn.Linear(hidden1_dim,hidden2_dim)\n",
    "        self.fc3=nn.Linear(hidden2_dim,output_dim)\n",
    "        self.drop=nn.Dropout(drop_rate)\n",
    "        #Use Cross-Entropy loss requires not calculating probability from the network directly. The output of the last layer is fed to the loss function directly\n",
    "        \n",
    "    def forward(self,x): \n",
    "        out=self.fc1(x)   \n",
    "        out=F.relu(out)\n",
    "        out=self.drop(out)\n",
    "        out=self.fc2(out)\n",
    "        out=F.relu(out)\n",
    "        out=self.drop(out)\n",
    "        out=self.fc3(out)\n",
    "\n",
    "        return out"
   ]
  },
  {
   "cell_type": "markdown",
   "metadata": {},
   "source": [
    "**Send to train in remote instance**"
   ]
  },
  {
   "cell_type": "code",
   "execution_count": null,
   "metadata": {},
   "outputs": [],
   "source": [
    "output_dim=len(set(y_train))"
   ]
  },
  {
   "cell_type": "code",
   "execution_count": null,
   "metadata": {},
   "outputs": [],
   "source": [
    "output_dim"
   ]
  },
  {
   "cell_type": "code",
   "execution_count": null,
   "metadata": {},
   "outputs": [],
   "source": [
    "len(set(y_test))"
   ]
  },
  {
   "cell_type": "code",
   "execution_count": 5,
   "metadata": {},
   "outputs": [
    {
     "name": "stdout",
     "output_type": "stream",
     "text": [
      "5000\n"
     ]
    }
   ],
   "source": [
    "vocab_size=vocab_file['reviews_cv5k.pkl']\n",
    "print(vocab_size)"
   ]
  },
  {
   "cell_type": "code",
   "execution_count": null,
   "metadata": {},
   "outputs": [],
   "source": [
    "from sagemaker.pytorch import PyTorch\n",
    "\n",
    "estimator = PyTorch(entry_point=\"ffn2layer_train.py\", #the training script is slightly different\n",
    "                    source_dir=\"ffn_training/\",\n",
    "                    role=role,\n",
    "                    framework_version='1.0',\n",
    "                    train_instance_count=1,\n",
    "                    train_instance_type='ml.p2.xlarge',\n",
    "                    sagemaker_session=sagemaker_session,\n",
    "                    hyperparameters={\n",
    "                        'epochs': 20,\n",
    "                        'vocab_size':vocab_size,\n",
    "                        'hidden1_dim': 200,\n",
    "                        'hidden2_dim':200,\n",
    "                        'output_dim':output_dim,\n",
    "                        'drop_rate':0.3\n",
    "                    })"
   ]
  },
  {
   "cell_type": "code",
   "execution_count": null,
   "metadata": {},
   "outputs": [],
   "source": [
    "input_data"
   ]
  },
  {
   "cell_type": "code",
   "execution_count": null,
   "metadata": {},
   "outputs": [],
   "source": [
    "estimator.fit({'training': input_data})"
   ]
  },
  {
   "cell_type": "markdown",
   "metadata": {},
   "source": [
    "**Validation**"
   ]
  },
  {
   "cell_type": "markdown",
   "metadata": {},
   "source": [
    "Download the model artifacts rather than deploying"
   ]
  },
  {
   "cell_type": "code",
   "execution_count": null,
   "metadata": {},
   "outputs": [],
   "source": [
    "s3 = boto3.client('s3')\n",
    "s3.download_file(bucket,'sagemaker-pytorch-2020-07-19-20-57-52-787/output/model.tar.gz','model.tar.gz')"
   ]
  },
  {
   "cell_type": "code",
   "execution_count": null,
   "metadata": {},
   "outputs": [],
   "source": [
    "with open('ffn_model_artifacts/model_info.pth','rb') as f:\n",
    "    model_info=torch.load(f)\n",
    "print(model_info)"
   ]
  },
  {
   "cell_type": "code",
   "execution_count": null,
   "metadata": {},
   "outputs": [],
   "source": [
    "# Prepare test data\n",
    "x_test_torch=csr_to_torch_float(x_test)\n",
    "y_test_torch=y_torch(y_test)\n",
    "\n",
    "val_ds = torch.utils.data.TensorDataset(x_test_torch.to_dense(), y_test_torch)\n",
    "val_dl=torch.utils.data.DataLoader(val_ds, batch_size=100)"
   ]
  },
  {
   "cell_type": "code",
   "execution_count": null,
   "metadata": {},
   "outputs": [],
   "source": [
    "device = torch.device(\"cuda\" if torch.cuda.is_available() else \"cpu\")\n",
    "model=Classifier2L(model_info['vocab_size'],model_info['hidden1_dim'],model_info['hidden2_dim'], model_info['output_dim'],model_info['drop_rate']).to(device)\n",
    "\n",
    "with open('ffn_model_artifacts/model.pth','rb') as f:\n",
    "    model.load_state_dict(torch.load(f))"
   ]
  },
  {
   "cell_type": "code",
   "execution_count": null,
   "metadata": {},
   "outputs": [],
   "source": [
    "try:\n",
    "    acc_pytorch(model,val_dl)\n",
    "except:\n",
    "    print('Define function acc_pytorch() in section \"FeedFoward-NN Pytorch\"' )"
   ]
  },
  {
   "cell_type": "markdown",
   "metadata": {},
   "source": [
    "### Training script"
   ]
  },
  {
   "cell_type": "code",
   "execution_count": null,
   "metadata": {},
   "outputs": [],
   "source": [
    "def train(model, train_loader, epochs, criterion, optimizer, device):\n",
    "    \n",
    "    for epoch in range(1, epochs + 1):\n",
    "        model.train() # Make sure that the model is in training mode.\n",
    "\n",
    "        total_loss = 0\n",
    "\n",
    "        for batch in train_loader:\n",
    "            # get data\n",
    "            batch_x, batch_y = batch\n",
    "            \n",
    "            batch_x = batch_x.to(device)\n",
    "            batch_y = batch_y.to(device)\n",
    "            \n",
    "            optimizer.zero_grad()\n",
    "\n",
    "            # get predictions from model\n",
    "            y_pred = model(batch_x)\n",
    "        \n",
    "            # perform backprop\n",
    "            loss = criterion(y_pred, batch_y)\n",
    "            loss.backward()\n",
    "            optimizer.step()\n",
    "            \n",
    "            total_loss += loss.data.item()\n",
    "\n",
    "        print(\"Epoch: {}, Loss: {}\".format(epoch, total_loss / len(train_loader)))"
   ]
  },
  {
   "cell_type": "markdown",
   "metadata": {},
   "source": [
    "# Sentiment=f(review)"
   ]
  },
  {
   "cell_type": "code",
   "execution_count": null,
   "metadata": {},
   "outputs": [],
   "source": [
    "x_train,x_test,y_train,y_test=train_test_split(reviews_tv50k,data['sentiment'].values,test_size=0.2,random_state=699)"
   ]
  },
  {
   "cell_type": "markdown",
   "metadata": {},
   "source": [
    "## Naive Bayes"
   ]
  },
  {
   "cell_type": "code",
   "execution_count": null,
   "metadata": {},
   "outputs": [],
   "source": [
    "params={'alpha':0.001}\n",
    "NB=MultinomialNB(**params)"
   ]
  },
  {
   "cell_type": "code",
   "execution_count": null,
   "metadata": {},
   "outputs": [],
   "source": [
    "NB.fit(x_train,y_train)"
   ]
  },
  {
   "cell_type": "code",
   "execution_count": null,
   "metadata": {},
   "outputs": [],
   "source": [
    "logs.model_name='NB'\n",
    "logs.data_X_name='reviews_tv50k'\n",
    "logs.data_y_name='sentiment'\n",
    "logs.add_SKLmodel(NB,x_train,x_test,y_train,y_test)"
   ]
  },
  {
   "cell_type": "markdown",
   "metadata": {},
   "source": [
    "## LSVC"
   ]
  },
  {
   "cell_type": "code",
   "execution_count": null,
   "metadata": {},
   "outputs": [],
   "source": [
    "params={'C':1000.0,'tol':0.0001,'dual':False}\n",
    "lsvc=LinearSVC(random_state=23,**params)"
   ]
  },
  {
   "cell_type": "code",
   "execution_count": null,
   "metadata": {},
   "outputs": [],
   "source": [
    "lsvc.fit(x_train,y_train)"
   ]
  },
  {
   "cell_type": "code",
   "execution_count": null,
   "metadata": {},
   "outputs": [],
   "source": [
    "logs.model_name='LSVC'\n",
    "logs.data_X_name='reviews_tv50k'\n",
    "logs.data_y_name='sentiment'\n",
    "logs.add_SKLmodel(lsvc,x_train,x_test,y_train,y_test)"
   ]
  },
  {
   "cell_type": "markdown",
   "metadata": {},
   "source": [
    "## Random Forest Clf."
   ]
  },
  {
   "cell_type": "code",
   "execution_count": null,
   "metadata": {},
   "outputs": [],
   "source": [
    "params={'n_estimators':100,'max_depth':300,'max_features':150,'random_state':100,'verbose':1,'n_jobs':-1}\n",
    "RFmodel=RandomForestClassifier(**params)"
   ]
  },
  {
   "cell_type": "code",
   "execution_count": null,
   "metadata": {},
   "outputs": [],
   "source": [
    "RFmodel.fit(x_train,y_train)"
   ]
  },
  {
   "cell_type": "code",
   "execution_count": null,
   "metadata": {},
   "outputs": [],
   "source": [
    "logs.model_name='random forest'\n",
    "logs.data_X_name='reviews_tv50k'\n",
    "logs.data_y_name='sentiment'\n",
    "logs.add_SKLmodel(RFmodel,x_train,x_test,y_train,y_test)"
   ]
  },
  {
   "cell_type": "code",
   "execution_count": null,
   "metadata": {},
   "outputs": [],
   "source": [
    "logs.save_data()"
   ]
  },
  {
   "cell_type": "markdown",
   "metadata": {},
   "source": [
    "### Statistical significance of test accuracy"
   ]
  },
  {
   "cell_type": "markdown",
   "metadata": {},
   "source": [
    "Loop over different train/test splits to build distribution of accuracies. The following model is the one performing the best so far. In order to infer about the statistical significance of the accuracy I perform different splits and then build distribution."
   ]
  },
  {
   "cell_type": "code",
   "execution_count": 10,
   "metadata": {},
   "outputs": [
    {
     "data": {
      "text/plain": [
       "'{\"n_estimators\": 20, \"max_depth\": 500, \"max_features\": \"auto\", \"random_state\": 100, \"verbose\": 1, \"n_jobs\": -1}'"
      ]
     },
     "execution_count": 10,
     "metadata": {},
     "output_type": "execute_result"
    }
   ],
   "source": [
    "# hyperparameters\n",
    "logs.log_data.loc[35]['params']"
   ]
  },
  {
   "cell_type": "code",
   "execution_count": 11,
   "metadata": {},
   "outputs": [
    {
     "data": {
      "text/plain": [
       "0.9092618711800659"
      ]
     },
     "execution_count": 11,
     "metadata": {},
     "output_type": "execute_result"
    }
   ],
   "source": [
    "# test accuracy\n",
    "logs.log_data.loc[35]['test acc']"
   ]
  },
  {
   "cell_type": "code",
   "execution_count": 20,
   "metadata": {},
   "outputs": [],
   "source": [
    "params={\"n_estimators\": 20, \"max_depth\": 500, \"max_features\": \"auto\", \"random_state\": 100, \"verbose\": 0, \"n_jobs\": -1}"
   ]
  },
  {
   "cell_type": "code",
   "execution_count": 57,
   "metadata": {},
   "outputs": [
    {
     "name": "stdout",
     "output_type": "stream",
     "text": [
      "Iteration:  0 , train acc:  0.9980253646610797 , test acc:  0.9106488011283498\n",
      "Iteration:  1 , train acc:  0.998219302060438 , test acc:  0.9081570286788905\n",
      "Iteration:  2 , train acc:  0.9981429024788726 , test acc:  0.9120357310766337\n",
      "Iteration:  3 , train acc:  0.9981429024788726 , test acc:  0.9111894687353079\n",
      "Iteration:  4 , train acc:  0.9979313344068454 , test acc:  0.9133051245886225\n",
      "Iteration:  5 , train acc:  0.9978960730615075 , test acc:  0.9086271744240715\n",
      "Iteration:  6 , train acc:  0.9979959802066315 , test acc:  0.9108838740009403\n",
      "Iteration:  7 , train acc:  0.9981311486970933 , test acc:  0.9124118476727786\n"
     ]
    }
   ],
   "source": [
    "try:\n",
    "    # if acc_train_list already exists, I do not lose previous data\n",
    "    #if these variables do not exist, empty lists are created\n",
    "    if len(acc_train_list)!=0 and len(acc_test_list)!=0:\n",
    "        pass\n",
    "except:\n",
    "    acc_train_list=[]\n",
    "    acc_test_list=[]\n",
    "\n",
    "for i in range(8):\n",
    "    state=np.random.randint(1,1000)\n",
    "    x_train,x_test,y_train,y_test=train_test_split(reviews_tv50k,data['sentiment'].values,test_size=0.2,random_state=state)\n",
    "    \n",
    "    params['random_state']=np.random.randint(1,1000)\n",
    "    RFmodel=RandomForestClassifier(**params)\n",
    "    RFmodel.fit(x_train,y_train)\n",
    "    \n",
    "    preds_train = RFmodel.predict(x_train)\n",
    "    acc_train = accuracy_score(preds_train, y_train)\n",
    "    acc_train_list.append(acc_train)\n",
    "    preds_test = RFmodel.predict(x_test)\n",
    "    acc_test = accuracy_score(preds_test, y_test)\n",
    "    acc_test_list.append(acc_test)\n",
    "    \n",
    "    print(\"Iteration: \",i,\", train acc: \",acc_train,\", test acc: \",acc_test)"
   ]
  },
  {
   "cell_type": "code",
   "execution_count": 63,
   "metadata": {},
   "outputs": [
    {
     "data": {
      "image/png": "[encoded data removed]",
      "text/plain": [
       "<Figure size 432x288 with 1 Axes>"
      ]
     },
     "metadata": {},
     "output_type": "display_data"
    }
   ],
   "source": [
    "plt.hist(acc_test_list,bins=10,density=True)\n",
    "plt.title('Test accuracy distribution')\n",
    "plt.xlabel('Accuracy')\n",
    "plt.savefig('test_acc_distrib.png')\n",
    "plt.show()"
   ]
  },
  {
   "cell_type": "code",
   "execution_count": 64,
   "metadata": {},
   "outputs": [
    {
     "data": {
      "text/plain": [
       "35"
      ]
     },
     "execution_count": 64,
     "metadata": {},
     "output_type": "execute_result"
    }
   ],
   "source": [
    "len(acc_test_list)"
   ]
  },
  {
   "cell_type": "code",
   "execution_count": 66,
   "metadata": {},
   "outputs": [
    {
     "name": "stdout",
     "output_type": "stream",
     "text": [
      "0.910623950567533\n"
     ]
    }
   ],
   "source": [
    "avg_test=sum(acc_test_list)/len(acc_test_list)\n",
    "print(avg_test)"
   ]
  },
  {
   "cell_type": "code",
   "execution_count": 74,
   "metadata": {},
   "outputs": [
    {
     "name": "stdout",
     "output_type": "stream",
     "text": [
      "0.0015031219105978782\n"
     ]
    }
   ],
   "source": [
    "# standard-deviation\n",
    "std_dev=[(x-avg_test)**2 for x in acc_test_list]\n",
    "std_dev=sum(std_dev)/len(acc_test_list)\n",
    "std_dev=np.sqrt(std_dev)\n",
    "print(std_dev)"
   ]
  },
  {
   "cell_type": "code",
   "execution_count": 69,
   "metadata": {},
   "outputs": [
    {
     "name": "stdout",
     "output_type": "stream",
     "text": [
      "0.9075928537846732 0.9133286318758815\n"
     ]
    }
   ],
   "source": [
    "# two-sided 2.5% pvalues \n",
    "print(sorted(acc_test_list)[0],sorted(acc_test_list)[-1])"
   ]
  },
  {
   "cell_type": "code",
   "execution_count": 75,
   "metadata": {},
   "outputs": [
    {
     "data": {
      "text/html": [
       "<div>\n",
       "<style scoped>\n",
       "    .dataframe tbody tr th:only-of-type {\n",
       "        vertical-align: middle;\n",
       "    }\n",
       "\n",
       "    .dataframe tbody tr th {\n",
       "        vertical-align: top;\n",
       "    }\n",
       "\n",
       "    .dataframe thead th {\n",
       "        text-align: right;\n",
       "    }\n",
       "</style>\n",
       "<table border=\"1\" class=\"dataframe\">\n",
       "  <thead>\n",
       "    <tr style=\"text-align: right;\">\n",
       "      <th></th>\n",
       "      <th>average</th>\n",
       "      <th>std_dev</th>\n",
       "      <th>median</th>\n",
       "      <th>2.5%</th>\n",
       "      <th>97.5%</th>\n",
       "    </tr>\n",
       "  </thead>\n",
       "  <tbody>\n",
       "    <tr>\n",
       "      <th>0</th>\n",
       "      <td>0.910624</td>\n",
       "      <td>0.001503</td>\n",
       "      <td>0.910719</td>\n",
       "      <td>0.907593</td>\n",
       "      <td>0.913329</td>\n",
       "    </tr>\n",
       "  </tbody>\n",
       "</table>\n",
       "</div>"
      ],
      "text/plain": [
       "    average   std_dev    median      2.5%     97.5%\n",
       "0  0.910624  0.001503  0.910719  0.907593  0.913329"
      ]
     },
     "execution_count": 75,
     "metadata": {},
     "output_type": "execute_result"
    }
   ],
   "source": [
    "pd.DataFrame.from_dict({'average':[avg_test],'std_dev':std_dev,'median':[sorted(acc_test_list)[17]],'2.5%':[sorted(acc_test_list)[0]],'97.5%':[sorted(acc_test_list)[-1]]})"
   ]
  },
  {
   "cell_type": "markdown",
   "metadata": {},
   "source": [
    "## FeedFowardNN Pytorch"
   ]
  },
  {
   "cell_type": "code",
   "execution_count": 18,
   "metadata": {},
   "outputs": [],
   "source": [
    "# This function was already defined before in section Condition=f(review)/NN section\n",
    "def csr_to_torch_float(csr):\n",
    "    coo=csr.tocoo()\n",
    "    values = coo.data\n",
    "    indices = np.vstack((coo.row, coo.col))\n",
    "    i = torch.LongTensor(indices)\n",
    "    v = torch.FloatTensor(values)\n",
    "    shape =coo.shape\n",
    "    tensor=torch.sparse.FloatTensor(i, v, torch.Size(shape))\n",
    "    \n",
    "    return tensor"
   ]
  },
  {
   "cell_type": "code",
   "execution_count": 32,
   "metadata": {},
   "outputs": [],
   "source": [
    "# This function was already defined before in section Condition=f(review)/NN section\n",
    "def y_torch(train_y):\n",
    "    classes=list(set(train_y))\n",
    "    classes=sorted(classes)\n",
    "    dic={target:i for i,target in enumerate(classes)}\n",
    "\n",
    "    y=np.array([dic[target] for target in train_y])\n",
    "\n",
    "    return torch.from_numpy(y).squeeze()"
   ]
  },
  {
   "cell_type": "markdown",
   "metadata": {},
   "source": [
    "1 and 2 layers Models"
   ]
  },
  {
   "cell_type": "code",
   "execution_count": 20,
   "metadata": {},
   "outputs": [],
   "source": [
    "class Classifier1L(nn.Module): #one hidden layer\n",
    "    \n",
    "    def __init__(self,vocab_size,hidden_dim,output_dim,drop_rate=0.3):\n",
    "        \n",
    "        super(Classifier1L, self).__init__()\n",
    "        \n",
    "        self.fc1=nn.Linear(vocab_size,hidden_dim)\n",
    "        self.fc2=nn.Linear(hidden_dim,output_dim)\n",
    "        self.drop=nn.Dropout(drop_rate)\n",
    "        #Use Cross-Entropy loss requires not calculating probability from the network directly. The output of the last layer is fed to the loss function directly\n",
    "        \n",
    "    def forward(self,x): \n",
    "        out=self.fc1(x)   \n",
    "        out=F.relu(out)\n",
    "        out=self.drop(out)\n",
    "        out=self.fc2(out)\n",
    "\n",
    "        return out"
   ]
  },
  {
   "cell_type": "code",
   "execution_count": 21,
   "metadata": {},
   "outputs": [],
   "source": [
    "class Classifier2L(nn.Module): #one hidden layer\n",
    "    \n",
    "    def __init__(self,vocab_size,hidden1_dim,hidden2_dim,output_dim,drop_rate=0.3):\n",
    "        \n",
    "        super(Classifier2L, self).__init__()\n",
    "        \n",
    "        self.fc1=nn.Linear(vocab_size,hidden1_dim)\n",
    "        self.fc2=nn.Linear(hidden1_dim,hidden2_dim)\n",
    "        self.fc3=nn.Linear(hidden2_dim,output_dim)\n",
    "        self.drop=nn.Dropout(drop_rate)\n",
    "        #Use Cross-Entropy loss requires not calculating probability from the network directly. The output of the last layer is fed to the loss function directly\n",
    "        \n",
    "    def forward(self,x): \n",
    "        out=self.fc1(x)   \n",
    "        out=F.relu(out)\n",
    "        out=self.drop(out)\n",
    "        out=self.fc2(out)\n",
    "        out=F.relu(out)\n",
    "        out=self.drop(out)\n",
    "        out=self.fc3(out)\n",
    "\n",
    "        return out"
   ]
  },
  {
   "cell_type": "markdown",
   "metadata": {},
   "source": [
    "Upload Data to S3"
   ]
  },
  {
   "cell_type": "code",
   "execution_count": 22,
   "metadata": {},
   "outputs": [],
   "source": [
    "prefix='sentiment-review-tv10k'\n",
    "data_dir='./data_s3/train'"
   ]
  },
  {
   "cell_type": "code",
   "execution_count": 23,
   "metadata": {},
   "outputs": [],
   "source": [
    "x_train,x_test,y_train,y_test=train_test_split(reviews_tv10k,data.sentiment.values,test_size=0.3,random_state=323)"
   ]
  },
  {
   "cell_type": "code",
   "execution_count": 24,
   "metadata": {},
   "outputs": [],
   "source": [
    "pickle.dump(x_train,open('data_s3/train/x_train.pkl','wb'))\n",
    "pickle.dump(y_train,open('data_s3/train/y_train.pkl','wb'))\n",
    "pickle.dump(x_test,open('data_s3/test/x_test.pkl','wb'))\n",
    "pickle.dump(y_test,open('data_s3/test/y_test.pkl','wb'))"
   ]
  },
  {
   "cell_type": "code",
   "execution_count": 25,
   "metadata": {},
   "outputs": [],
   "source": [
    "input_data = sagemaker_session.upload_data(path=data_dir, bucket=bucket, key_prefix=prefix)"
   ]
  },
  {
   "cell_type": "markdown",
   "metadata": {},
   "source": [
    "Send to train in remote instance"
   ]
  },
  {
   "cell_type": "code",
   "execution_count": 26,
   "metadata": {},
   "outputs": [
    {
     "name": "stdout",
     "output_type": "stream",
     "text": [
      "3\n"
     ]
    }
   ],
   "source": [
    "output_dim=len(set(y_train))\n",
    "print(output_dim)\n",
    "\n",
    "assert output_dim==len(set(y_test))"
   ]
  },
  {
   "cell_type": "code",
   "execution_count": 6,
   "metadata": {},
   "outputs": [
    {
     "name": "stdout",
     "output_type": "stream",
     "text": [
      "10000\n"
     ]
    }
   ],
   "source": [
    "vocab_size=vocab_file['reviews_tv10k.pkl']\n",
    "print(vocab_size)"
   ]
  },
  {
   "cell_type": "markdown",
   "metadata": {},
   "source": [
    "Train 2-layer model. Training script: ffn2layer_train.py"
   ]
  },
  {
   "cell_type": "code",
   "execution_count": 28,
   "metadata": {},
   "outputs": [],
   "source": [
    "from sagemaker.pytorch import PyTorch\n",
    "#2-LAYER TRAINING\n",
    "estimator = PyTorch(entry_point=\"ffn2layer_train.py\",\n",
    "                    source_dir=\"ffn_training/\",\n",
    "                    role=role,\n",
    "                    framework_version='1.0',\n",
    "                    train_instance_count=1,\n",
    "                    train_instance_type='ml.p2.xlarge',\n",
    "                    sagemaker_session=sagemaker_session,\n",
    "                    hyperparameters={\n",
    "                        'epochs': 30,\n",
    "                        'vocab_size':vocab_size,\n",
    "                        'hidden1_dim': 200,\n",
    "                        'hidden2_dim':200,\n",
    "                        'output_dim':output_dim,\n",
    "                        'drop_rate':0.3\n",
    "                    })"
   ]
  },
  {
   "cell_type": "code",
   "execution_count": null,
   "metadata": {},
   "outputs": [],
   "source": [
    "# 1-LAYER TRAINING\n",
    "estimator = PyTorch(entry_point=\"ffn_train.py\",\n",
    "                    source_dir=\"ffn_training/\",\n",
    "                    role=role,\n",
    "                    framework_version='1.0',\n",
    "                    train_instance_count=1,\n",
    "                    train_instance_type='ml.p2.xlarge',\n",
    "                    sagemaker_session=sagemaker_session,\n",
    "                    hyperparameters={\n",
    "                        'epochs': 30,\n",
    "                        'vocab_size':vocab_size,\n",
    "                        'hidden_dim': 200,\n",
    "                        'output_dim':output_dim,\n",
    "                        'drop_rate':0.3\n",
    "                    })"
   ]
  },
  {
   "cell_type": "code",
   "execution_count": 29,
   "metadata": {},
   "outputs": [
    {
     "data": {
      "text/plain": [
       "'s3://sagemaker-us-east-2-113516067754/sentiment-review-tv10k'"
      ]
     },
     "execution_count": 29,
     "metadata": {},
     "output_type": "execute_result"
    }
   ],
   "source": [
    "input_data"
   ]
  },
  {
   "cell_type": "code",
   "execution_count": 30,
   "metadata": {},
   "outputs": [
    {
     "name": "stderr",
     "output_type": "stream",
     "text": [
      "'create_image_uri' will be deprecated in favor of 'ImageURIProvider' class in SageMaker Python SDK v2.\n",
      "'s3_input' class will be renamed to 'TrainingInput' in SageMaker Python SDK v2.\n",
      "'create_image_uri' will be deprecated in favor of 'ImageURIProvider' class in SageMaker Python SDK v2.\n"
     ]
    },
    {
     "name": "stdout",
     "output_type": "stream",
     "text": [
      "2020-07-23 09:54:59 Starting - Starting the training job...\n",
      "2020-07-23 09:55:01 Starting - Launching requested ML instances......\n",
      "2020-07-23 09:56:05 Starting - Preparing the instances for training......\n",
      "2020-07-23 09:57:33 Downloading - Downloading input data...\n",
      "2020-07-23 09:57:54 Training - Downloading the training image......\n",
      "2020-07-23 09:58:56 Training - Training image download completed. Training in progress.\u001b[34mbash: cannot set terminal process group (-1): Inappropriate ioctl for device\u001b[0m\n",
      "\u001b[34mbash: no job control in this shell\u001b[0m\n",
      "\u001b[34m2020-07-23 09:58:57,542 sagemaker-containers INFO     Imported framework sagemaker_pytorch_container.training\u001b[0m\n",
      "\u001b[34m2020-07-23 09:58:57,571 sagemaker_pytorch_container.training INFO     Block until all host DNS lookups succeed.\u001b[0m\n",
      "\u001b[34m2020-07-23 09:59:00,594 sagemaker_pytorch_container.training INFO     Invoking user training script.\u001b[0m\n",
      "\u001b[34m2020-07-23 09:59:00,850 sagemaker-containers INFO     Module ffn2layer_train does not provide a setup.py. \u001b[0m\n",
      "\u001b[34mGenerating setup.py\u001b[0m\n",
      "\u001b[34m2020-07-23 09:59:00,851 sagemaker-containers INFO     Generating setup.cfg\u001b[0m\n",
      "\u001b[34m2020-07-23 09:59:00,851 sagemaker-containers INFO     Generating MANIFEST.in\u001b[0m\n",
      "\u001b[34m2020-07-23 09:59:00,851 sagemaker-containers INFO     Installing module with the following command:\u001b[0m\n",
      "\u001b[34m/usr/bin/python -m pip install -U . -r requirements.txt\u001b[0m\n",
      "\u001b[34mProcessing /opt/ml/code\u001b[0m\n",
      "\u001b[34mCollecting pandas (from -r requirements.txt (line 1))\u001b[0m\n",
      "\u001b[34m  Downloading https://files.pythonhosted.org/packages/c0/95/cb9820560a2713384ef49060b0087dfa2591c6db6f240215c2bce1f4211c/pandas-1.0.5-cp36-cp36m-manylinux1_x86_64.whl (10.1MB)\u001b[0m\n",
      "\u001b[34mCollecting numpy (from -r requirements.txt (line 2))\n",
      "  Downloading https://files.pythonhosted.org/packages/22/e7/4b2bdddb99f5f631d8c1de259897c2b7d65dcfcc1e0a6fd17a7f62923500/numpy-1.19.1-cp36-cp36m-manylinux1_x86_64.whl (13.4MB)\u001b[0m\n",
      "\u001b[34mCollecting nltk (from -r requirements.txt (line 3))\n",
      "  Downloading https://files.pythonhosted.org/packages/92/75/ce35194d8e3022203cca0d2f896dbb88689f9b3fce8e9f9cff942913519d/nltk-3.5.zip (1.4MB)\u001b[0m\n",
      "\u001b[34mRequirement already satisfied, skipping upgrade: python-dateutil>=2.6.1 in /usr/local/lib/python3.6/dist-packages (from pandas->-r requirements.txt (line 1)) (2.8.0)\u001b[0m\n",
      "\u001b[34mRequirement already satisfied, skipping upgrade: pytz>=2017.2 in /usr/local/lib/python3.6/dist-packages (from pandas->-r requirements.txt (line 1)) (2019.1)\u001b[0m\n",
      "\u001b[34mRequirement already satisfied, skipping upgrade: click in /usr/local/lib/python3.6/dist-packages (from nltk->-r requirements.txt (line 3)) (7.0)\u001b[0m\n",
      "\u001b[34mCollecting joblib (from nltk->-r requirements.txt (line 3))\u001b[0m\n",
      "\u001b[34m  Downloading https://files.pythonhosted.org/packages/51/dd/0e015051b4a27ec5a58b02ab774059f3289a94b0906f880a3f9507e74f38/joblib-0.16.0-py3-none-any.whl (300kB)\u001b[0m\n",
      "\u001b[34mCollecting regex (from nltk->-r requirements.txt (line 3))\n",
      "  Downloading https://files.pythonhosted.org/packages/3e/eb/85f375a102e95cde14a184ee985a35e1a20c4ceb3fe7f57fa128a9326283/regex-2020.7.14-cp36-cp36m-manylinux1_x86_64.whl (660kB)\u001b[0m\n",
      "\u001b[34mRequirement already satisfied, skipping upgrade: tqdm in /usr/local/lib/python3.6/dist-packages (from nltk->-r requirements.txt (line 3)) (4.32.1)\u001b[0m\n",
      "\u001b[34mRequirement already satisfied, skipping upgrade: six>=1.5 in /usr/local/lib/python3.6/dist-packages (from python-dateutil>=2.6.1->pandas->-r requirements.txt (line 1)) (1.12.0)\u001b[0m\n",
      "\u001b[34mBuilding wheels for collected packages: nltk, ffn2layer-train\n",
      "  Running setup.py bdist_wheel for nltk: started\u001b[0m\n",
      "\u001b[34m  Running setup.py bdist_wheel for nltk: finished with status 'done'\n",
      "  Stored in directory: /root/.cache/pip/wheels/ae/8c/3f/b1fe0ba04555b08b57ab52ab7f86023639a526d8bc8d384306\n",
      "  Running setup.py bdist_wheel for ffn2layer-train: started\u001b[0m\n",
      "\u001b[34m  Running setup.py bdist_wheel for ffn2layer-train: finished with status 'done'\n",
      "  Stored in directory: /tmp/pip-ephem-wheel-cache-zhwsvjum/wheels/35/24/16/37574d11bf9bde50616c67372a334f94fa8356bc7164af8ca3\u001b[0m\n",
      "\u001b[34mSuccessfully built nltk ffn2layer-train\u001b[0m\n",
      "\u001b[34mInstalling collected packages: numpy, pandas, joblib, regex, nltk, ffn2layer-train\n",
      "  Found existing installation: numpy 1.16.4\n",
      "    Uninstalling numpy-1.16.4:\u001b[0m\n",
      "\u001b[34m      Successfully uninstalled numpy-1.16.4\u001b[0m\n",
      "\u001b[34m  Found existing installation: pandas 0.24.2\u001b[0m\n",
      "\u001b[34m    Uninstalling pandas-0.24.2:\u001b[0m\n",
      "\u001b[34m      Successfully uninstalled pandas-0.24.2\u001b[0m\n",
      "\u001b[34mSuccessfully installed ffn2layer-train-1.0.0 joblib-0.16.0 nltk-3.5 numpy-1.19.1 pandas-1.0.5 regex-2020.7.14\u001b[0m\n",
      "\u001b[34mYou are using pip version 18.1, however version 20.2b1 is available.\u001b[0m\n",
      "\u001b[34mYou should consider upgrading via the 'pip install --upgrade pip' command.\u001b[0m\n",
      "\u001b[34m2020-07-23 09:59:17,139 sagemaker-containers INFO     Invoking user script\n",
      "\u001b[0m\n",
      "\u001b[34mTraining Env:\n",
      "\u001b[0m\n",
      "\u001b[34m{\n",
      "    \"additional_framework_parameters\": {},\n",
      "    \"channel_input_dirs\": {\n",
      "        \"training\": \"/opt/ml/input/data/training\"\n",
      "    },\n",
      "    \"current_host\": \"algo-1\",\n",
      "    \"framework_module\": \"sagemaker_pytorch_container.training:main\",\n",
      "    \"hosts\": [\n",
      "        \"algo-1\"\n",
      "    ],\n",
      "    \"hyperparameters\": {\n",
      "        \"hidden2_dim\": 200,\n",
      "        \"hidden1_dim\": 200,\n",
      "        \"drop_rate\": 0.3,\n",
      "        \"vocab_size\": 10000,\n",
      "        \"epochs\": 30,\n",
      "        \"output_dim\": 3\n",
      "    },\n",
      "    \"input_config_dir\": \"/opt/ml/input/config\",\n",
      "    \"input_data_config\": {\n",
      "        \"training\": {\n",
      "            \"TrainingInputMode\": \"File\",\n",
      "            \"S3DistributionType\": \"FullyReplicated\",\n",
      "            \"RecordWrapperType\": \"None\"\n",
      "        }\n",
      "    },\n",
      "    \"input_dir\": \"/opt/ml/input\",\n",
      "    \"is_master\": true,\n",
      "    \"job_name\": \"sagemaker-pytorch-2020-07-23-09-54-58-923\",\n",
      "    \"log_level\": 20,\n",
      "    \"master_hostname\": \"algo-1\",\n",
      "    \"model_dir\": \"/opt/ml/model\",\n",
      "    \"module_dir\": \"s3://sagemaker-us-east-2-113516067754/sagemaker-pytorch-2020-07-23-09-54-58-923/source/sourcedir.tar.gz\",\n",
      "    \"module_name\": \"ffn2layer_train\",\n",
      "    \"network_interface_name\": \"eth0\",\n",
      "    \"num_cpus\": 4,\n",
      "    \"num_gpus\": 1,\n",
      "    \"output_data_dir\": \"/opt/ml/output/data\",\n",
      "    \"output_dir\": \"/opt/ml/output\",\n",
      "    \"output_intermediate_dir\": \"/opt/ml/output/intermediate\",\n",
      "    \"resource_config\": {\n",
      "        \"current_host\": \"algo-1\",\n",
      "        \"hosts\": [\n",
      "            \"algo-1\"\n",
      "        ],\n",
      "        \"network_interface_name\": \"eth0\"\n",
      "    },\n",
      "    \"user_entry_point\": \"ffn2layer_train.py\"\u001b[0m\n",
      "\u001b[34m}\n",
      "\u001b[0m\n",
      "\u001b[34mEnvironment variables:\n",
      "\u001b[0m\n",
      "\u001b[34mSM_HOSTS=[\"algo-1\"]\u001b[0m\n",
      "\u001b[34mSM_NETWORK_INTERFACE_NAME=eth0\u001b[0m\n",
      "\u001b[34mSM_HPS={\"drop_rate\":0.3,\"epochs\":30,\"hidden1_dim\":200,\"hidden2_dim\":200,\"output_dim\":3,\"vocab_size\":10000}\u001b[0m\n",
      "\u001b[34mSM_USER_ENTRY_POINT=ffn2layer_train.py\u001b[0m\n",
      "\u001b[34mSM_FRAMEWORK_PARAMS={}\u001b[0m\n",
      "\u001b[34mSM_RESOURCE_CONFIG={\"current_host\":\"algo-1\",\"hosts\":[\"algo-1\"],\"network_interface_name\":\"eth0\"}\u001b[0m\n",
      "\u001b[34mSM_INPUT_DATA_CONFIG={\"training\":{\"RecordWrapperType\":\"None\",\"S3DistributionType\":\"FullyReplicated\",\"TrainingInputMode\":\"File\"}}\u001b[0m\n",
      "\u001b[34mSM_OUTPUT_DATA_DIR=/opt/ml/output/data\u001b[0m\n",
      "\u001b[34mSM_CHANNELS=[\"training\"]\u001b[0m\n",
      "\u001b[34mSM_CURRENT_HOST=algo-1\u001b[0m\n",
      "\u001b[34mSM_MODULE_NAME=ffn2layer_train\u001b[0m\n",
      "\u001b[34mSM_LOG_LEVEL=20\u001b[0m\n",
      "\u001b[34mSM_FRAMEWORK_MODULE=sagemaker_pytorch_container.training:main\u001b[0m\n",
      "\u001b[34mSM_INPUT_DIR=/opt/ml/input\u001b[0m\n",
      "\u001b[34mSM_INPUT_CONFIG_DIR=/opt/ml/input/config\u001b[0m\n",
      "\u001b[34mSM_OUTPUT_DIR=/opt/ml/output\u001b[0m\n",
      "\u001b[34mSM_NUM_CPUS=4\u001b[0m\n",
      "\u001b[34mSM_NUM_GPUS=1\u001b[0m\n",
      "\u001b[34mSM_MODEL_DIR=/opt/ml/model\u001b[0m\n",
      "\u001b[34mSM_MODULE_DIR=s3://sagemaker-us-east-2-113516067754/sagemaker-pytorch-2020-07-23-09-54-58-923/source/sourcedir.tar.gz\u001b[0m\n",
      "\u001b[34mSM_TRAINING_ENV={\"additional_framework_parameters\":{},\"channel_input_dirs\":{\"training\":\"/opt/ml/input/data/training\"},\"current_host\":\"algo-1\",\"framework_module\":\"sagemaker_pytorch_container.training:main\",\"hosts\":[\"algo-1\"],\"hyperparameters\":{\"drop_rate\":0.3,\"epochs\":30,\"hidden1_dim\":200,\"hidden2_dim\":200,\"output_dim\":3,\"vocab_size\":10000},\"input_config_dir\":\"/opt/ml/input/config\",\"input_data_config\":{\"training\":{\"RecordWrapperType\":\"None\",\"S3DistributionType\":\"FullyReplicated\",\"TrainingInputMode\":\"File\"}},\"input_dir\":\"/opt/ml/input\",\"is_master\":true,\"job_name\":\"sagemaker-pytorch-2020-07-23-09-54-58-923\",\"log_level\":20,\"master_hostname\":\"algo-1\",\"model_dir\":\"/opt/ml/model\",\"module_dir\":\"s3://sagemaker-us-east-2-113516067754/sagemaker-pytorch-2020-07-23-09-54-58-923/source/sourcedir.tar.gz\",\"module_name\":\"ffn2layer_train\",\"network_interface_name\":\"eth0\",\"num_cpus\":4,\"num_gpus\":1,\"output_data_dir\":\"/opt/ml/output/data\",\"output_dir\":\"/opt/ml/output\",\"output_intermediate_dir\":\"/opt/ml/output/intermediate\",\"resource_config\":{\"current_host\":\"algo-1\",\"hosts\":[\"algo-1\"],\"network_interface_name\":\"eth0\"},\"user_entry_point\":\"ffn2layer_train.py\"}\u001b[0m\n",
      "\u001b[34mSM_USER_ARGS=[\"--drop_rate\",\"0.3\",\"--epochs\",\"30\",\"--hidden1_dim\",\"200\",\"--hidden2_dim\",\"200\",\"--output_dim\",\"3\",\"--vocab_size\",\"10000\"]\u001b[0m\n",
      "\u001b[34mSM_OUTPUT_INTERMEDIATE_DIR=/opt/ml/output/intermediate\u001b[0m\n",
      "\u001b[34mSM_CHANNEL_TRAINING=/opt/ml/input/data/training\u001b[0m\n",
      "\u001b[34mSM_HP_HIDDEN2_DIM=200\u001b[0m\n",
      "\u001b[34mSM_HP_HIDDEN1_DIM=200\u001b[0m\n",
      "\u001b[34mSM_HP_DROP_RATE=0.3\u001b[0m\n",
      "\u001b[34mSM_HP_VOCAB_SIZE=10000\u001b[0m\n",
      "\u001b[34mSM_HP_EPOCHS=30\u001b[0m\n",
      "\u001b[34mSM_HP_OUTPUT_DIM=3\u001b[0m\n",
      "\u001b[34mPYTHONPATH=/usr/local/bin:/usr/lib/python36.zip:/usr/lib/python3.6:/usr/lib/python3.6/lib-dynload:/usr/local/lib/python3.6/dist-packages:/usr/lib/python3/dist-packages\n",
      "\u001b[0m\n",
      "\u001b[34mInvoking script with the following command:\n",
      "\u001b[0m\n",
      "\u001b[34m/usr/bin/python -m ffn2layer_train --drop_rate 0.3 --epochs 30 --hidden1_dim 200 --hidden2_dim 200 --output_dim 3 --vocab_size 10000\n",
      "\n",
      "\u001b[0m\n",
      "\u001b[34mUsing device cuda.\u001b[0m\n",
      "\u001b[34mGet train data loader.\u001b[0m\n",
      "\u001b[34mTrain data loaded.\u001b[0m\n",
      "\u001b[34mModel loaded with hidden1_dim 200,hidden2_dim 200, vocab_size 10000, output_dim 3, dropout rate 0.3\u001b[0m\n",
      "\u001b[34mEpoch: 1, CELoss: 0.5866107154138309\u001b[0m\n",
      "\u001b[34mEpoch: 2, CELoss: 0.4559498991548401\u001b[0m\n",
      "\u001b[34mEpoch: 3, CELoss: 0.3894540559999722\u001b[0m\n",
      "\u001b[34mEpoch: 4, CELoss: 0.301469721540143\u001b[0m\n",
      "\u001b[34mEpoch: 5, CELoss: 0.21728068818034174\u001b[0m\n",
      "\u001b[34mEpoch: 6, CELoss: 0.1514058827944228\u001b[0m\n",
      "\u001b[34mEpoch: 7, CELoss: 0.10499833270753782\u001b[0m\n",
      "\u001b[34mEpoch: 8, CELoss: 0.0741998261717689\u001b[0m\n",
      "\u001b[34mEpoch: 9, CELoss: 0.05592658235675486\u001b[0m\n",
      "\u001b[34mEpoch: 10, CELoss: 0.0453170013143537\u001b[0m\n",
      "\u001b[34mEpoch: 11, CELoss: 0.03833987889971418\u001b[0m\n",
      "\u001b[34mEpoch: 12, CELoss: 0.033633869973449776\u001b[0m\n",
      "\u001b[34mEpoch: 13, CELoss: 0.027862554267240863\u001b[0m\n",
      "\u001b[34mEpoch: 14, CELoss: 0.02572139667161449\u001b[0m\n",
      "\u001b[34mEpoch: 15, CELoss: 0.024034592127779506\u001b[0m\n",
      "\u001b[34mEpoch: 16, CELoss: 0.021388682770411584\u001b[0m\n",
      "\u001b[34mEpoch: 17, CELoss: 0.021130880430545593\u001b[0m\n",
      "\u001b[34mEpoch: 18, CELoss: 0.0204717675591995\u001b[0m\n",
      "\u001b[34mEpoch: 19, CELoss: 0.019521324984934117\u001b[0m\n",
      "\u001b[34mEpoch: 20, CELoss: 0.018014113236333906\u001b[0m\n",
      "\u001b[34mEpoch: 21, CELoss: 0.016923248217380334\u001b[0m\n",
      "\u001b[34mEpoch: 22, CELoss: 0.015540804455530449\u001b[0m\n",
      "\u001b[34mEpoch: 23, CELoss: 0.01571776768707917\u001b[0m\n",
      "\u001b[34mEpoch: 24, CELoss: 0.015419971246649976\u001b[0m\n",
      "\u001b[34mEpoch: 25, CELoss: 0.014640067537600027\u001b[0m\n",
      "\u001b[34mEpoch: 26, CELoss: 0.014341563934498687\u001b[0m\n",
      "\u001b[34mEpoch: 27, CELoss: 0.013866940379635626\u001b[0m\n",
      "\u001b[34mEpoch: 28, CELoss: 0.012809334550840185\u001b[0m\n",
      "\u001b[34mEpoch: 29, CELoss: 0.012753171597837865\u001b[0m\n",
      "\n",
      "2020-07-23 10:02:26 Uploading - Uploading generated training model\n",
      "2020-07-23 10:02:26 Completed - Training job completed\n",
      "\u001b[34mEpoch: 30, CELoss: 0.011903835382133313\u001b[0m\n",
      "\u001b[34m2020-07-23 10:02:18,332 sagemaker-containers INFO     Reporting training SUCCESS\u001b[0m\n",
      "Training seconds: 293\n",
      "Billable seconds: 293\n"
     ]
    }
   ],
   "source": [
    "# 2-layer training\n",
    "estimator.fit({'training': input_data})"
   ]
  },
  {
   "cell_type": "markdown",
   "metadata": {},
   "source": [
    "**Validation**"
   ]
  },
  {
   "cell_type": "code",
   "execution_count": null,
   "metadata": {},
   "outputs": [],
   "source": [
    "s3 = boto3.client('s3')\n",
    "s3.download_file(bucket,'sagemaker-pytorch-2020-07-19-20-57-52-787/output/model.tar.gz','model.tar.gz')"
   ]
  },
  {
   "cell_type": "code",
   "execution_count": 31,
   "metadata": {},
   "outputs": [
    {
     "data": {
      "text/plain": [
       "{'epochs': 30,\n",
       " 'hidden1_dim': 200,\n",
       " 'hidden2_dim': 200,\n",
       " 'vocab_size': 10000,\n",
       " 'output_dim': 3,\n",
       " 'drop_rate': 0.3}"
      ]
     },
     "execution_count": 31,
     "metadata": {},
     "output_type": "execute_result"
    }
   ],
   "source": [
    "with open('ffn2layer_model_artifacts/model_info.pth','rb') as f:\n",
    "    model_info=torch.load(f)\n",
    "model_info"
   ]
  },
  {
   "cell_type": "code",
   "execution_count": 32,
   "metadata": {},
   "outputs": [],
   "source": [
    "device = torch.device(\"cuda\" if torch.cuda.is_available() else \"cpu\")\n",
    "model=Classifier2L(model_info['vocab_size'],model_info['hidden1_dim'],model_info['hidden2_dim'], model_info['output_dim'],model_info['drop_rate'])\n",
    "\n",
    "with open('ffn2layer_model_artifacts/model.pth','rb') as f:\n",
    "    model.load_state_dict(torch.load(f))"
   ]
  },
  {
   "cell_type": "code",
   "execution_count": 33,
   "metadata": {},
   "outputs": [],
   "source": [
    "# Prepare validation set\n",
    "x_test_torch=csr_to_torch_float(x_test)\n",
    "y_test_torch=y_torch(y_test)\n",
    "\n",
    "val_ds = torch.utils.data.TensorDataset(x_test_torch.to_dense(), y_test_torch)\n",
    "val_dl=torch.utils.data.DataLoader(val_ds, batch_size=100)"
   ]
  },
  {
   "cell_type": "code",
   "execution_count": 37,
   "metadata": {},
   "outputs": [],
   "source": [
    "# Prepare train set\n",
    "x_train_torch=csr_to_torch_float(x_train)\n",
    "y_train_torch=y_torch(y_train)\n",
    "\n",
    "train_ds = torch.utils.data.TensorDataset(x_train_torch.to_dense(), y_train_torch)\n",
    "train_dl=torch.utils.data.DataLoader(train_ds, batch_size=100)"
   ]
  },
  {
   "cell_type": "code",
   "execution_count": 35,
   "metadata": {},
   "outputs": [
    {
     "data": {
      "text/plain": [
       "90.77887478451655"
      ]
     },
     "execution_count": 35,
     "metadata": {},
     "output_type": "execute_result"
    }
   ],
   "source": [
    "try:\n",
    "    acc_pytorch(model,val_dl)\n",
    "except:\n",
    "    print('Define function acc_pytorch() in section \"FeedFoward-NN Pytorch\"' )"
   ]
  },
  {
   "cell_type": "code",
   "execution_count": 38,
   "metadata": {},
   "outputs": [
    {
     "data": {
      "text/plain": [
       "99.91604427489119"
      ]
     },
     "execution_count": 38,
     "metadata": {},
     "output_type": "execute_result"
    }
   ],
   "source": [
    "try:\n",
    "    acc_pytorch(model,train_dl)\n",
    "except:\n",
    "    print('Define function acc_pytorch() in section \"FeedFoward-NN Pytorch\"' )"
   ]
  },
  {
   "cell_type": "markdown",
   "metadata": {},
   "source": [
    "Save model log data"
   ]
  },
  {
   "cell_type": "code",
   "execution_count": 39,
   "metadata": {},
   "outputs": [],
   "source": [
    "logs.add_row('FFN Pytorch/reviews_tv10k/sentiment/{}/0.9991604427489119/0.9077887478451655'.format(json.dumps(model_info)))"
   ]
  },
  {
   "cell_type": "markdown",
   "metadata": {},
   "source": [
    "## LSTM Pytorch"
   ]
  },
  {
   "cell_type": "markdown",
   "metadata": {},
   "source": [
    "LSTM model class"
   ]
  },
  {
   "cell_type": "code",
   "execution_count": 7,
   "metadata": {},
   "outputs": [],
   "source": [
    "class LSTMClassifier(nn.Module):\n",
    "    \"\"\"\n",
    "    This is the simple RNN model we will be using to perform Sentiment Analysis.\n",
    "    \"\"\"\n",
    "\n",
    "    def __init__(self, vocab_size,embedding_dim, hidden_dim,output_dim):\n",
    "        \"\"\"\n",
    "        Initialize the model by settingg up the various layers.\n",
    "        \"\"\"\n",
    "        super(LSTMClassifier, self).__init__()\n",
    "\n",
    "        self.embedding = nn.Embedding(vocab_size, embedding_dim, padding_idx=0)\n",
    "        self.lstm = nn.LSTM(embedding_dim, hidden_dim)\n",
    "        self.dense = nn.Linear(in_features=hidden_dim, out_features=output_dim)\n",
    "        \n",
    "    def forward(self, x):\n",
    "        \"\"\"\n",
    "        Perform a forward pass of our model on some input.\n",
    "        \"\"\"\n",
    "        x = x.t()\n",
    "        lengths = x[0,:]\n",
    "        reviews = x[1:,:]\n",
    "        embeds = self.embedding(reviews)\n",
    "        lstm_out, _ = self.lstm(embeds)\n",
    "        out = self.dense(lstm_out)\n",
    "        out = out[lengths - 1, range(len(lengths))]\n",
    "        return out"
   ]
  },
  {
   "cell_type": "markdown",
   "metadata": {},
   "source": [
    "Train function"
   ]
  },
  {
   "cell_type": "code",
   "execution_count": null,
   "metadata": {},
   "outputs": [],
   "source": [
    "def train(model, train_loader, epochs, optimizer, loss_fn, device):\n",
    "    \"\"\"\n",
    "    This is the training method that is called by the PyTorch training script. The parameters\n",
    "    passed are as follows:\n",
    "    model        - The PyTorch model that we wish to train.\n",
    "    train_loader - The PyTorch DataLoader that should be used during training.\n",
    "    epochs       - The total number of epochs to train for.\n",
    "    optimizer    - The optimizer to use during training.\n",
    "    loss_fn      - The loss function used for training.\n",
    "    device       - Where the model and data should be loaded (gpu or cpu).\n",
    "    \"\"\"\n",
    "\n",
    "    # TODO: Paste the train() method developed in the notebook here.\n",
    "    for epoch in range(1, epochs + 1):\n",
    "            model.train()\n",
    "            total_loss = 0\n",
    "            for batch in train_loader:\n",
    "                batch_X, batch_y = batch\n",
    "\n",
    "                batch_X = batch_X.to(device)\n",
    "                batch_y = batch_y.to(device)\n",
    "\n",
    "                # TODO: Complete this train method to train the model provided.\n",
    "                optimizer.zero_grad()\n",
    "                predictions=model(batch_X)\n",
    "\n",
    "                loss=loss_fn(predictions,batch_y)\n",
    "\n",
    "                total_loss += loss.data.item()\n",
    "                loss.backward()\n",
    "                optimizer.step()\n",
    "\n",
    "            print(\"Epoch: {}, BCELoss: {}\".format(epoch, total_loss / len(train_loader)))"
   ]
  },
  {
   "cell_type": "markdown",
   "metadata": {},
   "source": [
    "### Train and test data"
   ]
  },
  {
   "cell_type": "code",
   "execution_count": 9,
   "metadata": {},
   "outputs": [],
   "source": [
    "x_train,x_test,y_train,y_test=train_test_split(reviews_seq_csr50k,data['sentiment'].values,test_size=0.3,random_state=540)"
   ]
  },
  {
   "cell_type": "code",
   "execution_count": 10,
   "metadata": {},
   "outputs": [
    {
     "data": {
      "text/plain": [
       "(148888,)"
      ]
     },
     "execution_count": 10,
     "metadata": {},
     "output_type": "execute_result"
    }
   ],
   "source": [
    "y_train.shape"
   ]
  },
  {
   "cell_type": "code",
   "execution_count": 11,
   "metadata": {},
   "outputs": [],
   "source": [
    "# Converts csr_matrix to Torch Long tensor\n",
    "def csr_to_torch_long(csr):\n",
    "    coo=csr.tocoo()\n",
    "    values = coo.data\n",
    "    indices = np.vstack((coo.row, coo.col))\n",
    "    i = torch.LongTensor(indices)\n",
    "    v = torch.LongTensor(values)\n",
    "    shape =coo.shape\n",
    "    tensor=torch.sparse.LongTensor(i, v, torch.Size(shape))\n",
    "    \n",
    "    return tensor"
   ]
  },
  {
   "cell_type": "markdown",
   "metadata": {},
   "source": [
    "Use small bacth to check that the code is working correctly"
   ]
  },
  {
   "cell_type": "code",
   "execution_count": null,
   "metadata": {},
   "outputs": [],
   "source": [
    "x_train_torch=csr_to_torch_long(x_train[:1000])\n",
    "y_train_torch=y_torch(y_train[:1000])\n",
    "\n",
    "val_ds = torch.utils.data.TensorDataset(x_train_torch.to_dense(), y_train_torch)\n",
    "val_dl=torch.utils.data.DataLoader(val_ds, batch_size=50)"
   ]
  },
  {
   "cell_type": "code",
   "execution_count": null,
   "metadata": {},
   "outputs": [],
   "source": [
    "model=LSTMClassifier(vocab_size,100,100,3)"
   ]
  },
  {
   "cell_type": "code",
   "execution_count": null,
   "metadata": {},
   "outputs": [],
   "source": [
    "device = torch.device(\"cuda\" if torch.cuda.is_available() else \"cpu\")"
   ]
  },
  {
   "cell_type": "code",
   "execution_count": null,
   "metadata": {},
   "outputs": [],
   "source": [
    "optimizer = optim.Adam(model.parameters())\n",
    "loss_fn = torch.nn.CrossEntropyLoss()"
   ]
  },
  {
   "cell_type": "code",
   "execution_count": null,
   "metadata": {},
   "outputs": [],
   "source": [
    "train(model, val_dl, 5, optimizer,loss_fn, device)"
   ]
  },
  {
   "cell_type": "markdown",
   "metadata": {},
   "source": [
    "### Sagemaker training"
   ]
  },
  {
   "cell_type": "code",
   "execution_count": 12,
   "metadata": {},
   "outputs": [],
   "source": [
    "prefix='drugs-rev-LSTM'\n",
    "data_dir='./lstm_s3/train'"
   ]
  },
  {
   "cell_type": "code",
   "execution_count": 13,
   "metadata": {},
   "outputs": [],
   "source": [
    "pickle.dump(x_train,open('lstm_s3/train/x_train.pkl','wb'))\n",
    "pickle.dump(y_train,open('lstm_s3/train/y_train.pkl','wb'))\n",
    "pickle.dump(x_test,open('lstm_s3/test/x_test.pkl','wb'))\n",
    "pickle.dump(y_test,open('lstm_s3/test/y_test.pkl','wb'))"
   ]
  },
  {
   "cell_type": "code",
   "execution_count": 19,
   "metadata": {},
   "outputs": [],
   "source": [
    "input_data = sagemaker_session.upload_data(path=data_dir, bucket='lstm-drugs-dataset', key_prefix=prefix)"
   ]
  },
  {
   "cell_type": "code",
   "execution_count": 25,
   "metadata": {},
   "outputs": [
    {
     "name": "stdout",
     "output_type": "stream",
     "text": [
      "48319\n"
     ]
    }
   ],
   "source": [
    "vocab_size=vocab_file['reviews_seq_csr50k.pkl']\n",
    "print(vocab_size)"
   ]
  },
  {
   "cell_type": "code",
   "execution_count": 28,
   "metadata": {},
   "outputs": [],
   "source": [
    "from sagemaker.pytorch import PyTorch\n",
    "\n",
    "estimator = PyTorch(entry_point=\"lstm_train.py\", #training script\n",
    "                    source_dir=\"lstm_training/\",\n",
    "                    role=role,\n",
    "                    framework_version='1.0',\n",
    "                    train_instance_count=1,\n",
    "                    train_instance_type='ml.p2.xlarge',\n",
    "                    sagemaker_session=sagemaker_session,\n",
    "                    hyperparameters={\n",
    "                        'epochs': 20,\n",
    "                        'vocab_size':vocab_size+1,#note the +1!\n",
    "                        'embedding_dim':100,\n",
    "                        'hidden_dim': 100,\n",
    "                        'output_dim':3\n",
    "                    })"
   ]
  },
  {
   "cell_type": "code",
   "execution_count": 29,
   "metadata": {},
   "outputs": [
    {
     "data": {
      "text/plain": [
       "'s3://lstm-drugs-dataset/drugs-rev-LSTM'"
      ]
     },
     "execution_count": 29,
     "metadata": {},
     "output_type": "execute_result"
    }
   ],
   "source": [
    "input_data"
   ]
  },
  {
   "cell_type": "code",
   "execution_count": 30,
   "metadata": {},
   "outputs": [
    {
     "name": "stderr",
     "output_type": "stream",
     "text": [
      "'create_image_uri' will be deprecated in favor of 'ImageURIProvider' class in SageMaker Python SDK v2.\n",
      "'s3_input' class will be renamed to 'TrainingInput' in SageMaker Python SDK v2.\n",
      "'create_image_uri' will be deprecated in favor of 'ImageURIProvider' class in SageMaker Python SDK v2.\n"
     ]
    },
    {
     "name": "stdout",
     "output_type": "stream",
     "text": [
      "2020-07-24 12:06:52 Starting - Starting the training job...\n",
      "2020-07-24 12:06:54 Starting - Launching requested ML instances......\n",
      "2020-07-24 12:07:59 Starting - Preparing the instances for training......\n",
      "2020-07-24 12:09:25 Downloading - Downloading input data\n",
      "2020-07-24 12:09:25 Training - Downloading the training image......\n",
      "2020-07-24 12:10:23 Training - Training image download completed. Training in progress.\u001b[34mbash: cannot set terminal process group (-1): Inappropriate ioctl for device\u001b[0m\n",
      "\u001b[34mbash: no job control in this shell\u001b[0m\n",
      "\u001b[34m2020-07-24 12:10:25,040 sagemaker-containers INFO     Imported framework sagemaker_pytorch_container.training\u001b[0m\n",
      "\u001b[34m2020-07-24 12:10:25,070 sagemaker_pytorch_container.training INFO     Block until all host DNS lookups succeed.\u001b[0m\n",
      "\u001b[34m2020-07-24 12:10:25,289 sagemaker_pytorch_container.training INFO     Invoking user training script.\u001b[0m\n",
      "\u001b[34m2020-07-24 12:10:25,528 sagemaker-containers INFO     Module lstm_train does not provide a setup.py. \u001b[0m\n",
      "\u001b[34mGenerating setup.py\u001b[0m\n",
      "\u001b[34m2020-07-24 12:10:25,528 sagemaker-containers INFO     Generating setup.cfg\u001b[0m\n",
      "\u001b[34m2020-07-24 12:10:25,528 sagemaker-containers INFO     Generating MANIFEST.in\u001b[0m\n",
      "\u001b[34m2020-07-24 12:10:25,528 sagemaker-containers INFO     Installing module with the following command:\u001b[0m\n",
      "\u001b[34m/usr/bin/python -m pip install -U . \u001b[0m\n",
      "\u001b[34mProcessing /opt/ml/code\u001b[0m\n",
      "\u001b[34mBuilding wheels for collected packages: lstm-train\n",
      "  Running setup.py bdist_wheel for lstm-train: started\n",
      "  Running setup.py bdist_wheel for lstm-train: finished with status 'done'\n",
      "  Stored in directory: /tmp/pip-ephem-wheel-cache-b51836qn/wheels/35/24/16/37574d11bf9bde50616c67372a334f94fa8356bc7164af8ca3\u001b[0m\n",
      "\u001b[34mSuccessfully built lstm-train\u001b[0m\n",
      "\u001b[34mInstalling collected packages: lstm-train\u001b[0m\n",
      "\u001b[34mSuccessfully installed lstm-train-1.0.0\u001b[0m\n",
      "\u001b[34mYou are using pip version 18.1, however version 20.2b1 is available.\u001b[0m\n",
      "\u001b[34mYou should consider upgrading via the 'pip install --upgrade pip' command.\u001b[0m\n",
      "\u001b[34m2020-07-24 12:10:27,661 sagemaker-containers INFO     Invoking user script\n",
      "\u001b[0m\n",
      "\u001b[34mTraining Env:\n",
      "\u001b[0m\n",
      "\u001b[34m{\n",
      "    \"additional_framework_parameters\": {},\n",
      "    \"channel_input_dirs\": {\n",
      "        \"training\": \"/opt/ml/input/data/training\"\n",
      "    },\n",
      "    \"current_host\": \"algo-1\",\n",
      "    \"framework_module\": \"sagemaker_pytorch_container.training:main\",\n",
      "    \"hosts\": [\n",
      "        \"algo-1\"\n",
      "    ],\n",
      "    \"hyperparameters\": {\n",
      "        \"hidden_dim\": 100,\n",
      "        \"embedding_dim\": 100,\n",
      "        \"vocab_size\": 48320,\n",
      "        \"epochs\": 20,\n",
      "        \"output_dim\": 3\n",
      "    },\n",
      "    \"input_config_dir\": \"/opt/ml/input/config\",\n",
      "    \"input_data_config\": {\n",
      "        \"training\": {\n",
      "            \"TrainingInputMode\": \"File\",\n",
      "            \"S3DistributionType\": \"FullyReplicated\",\n",
      "            \"RecordWrapperType\": \"None\"\n",
      "        }\n",
      "    },\n",
      "    \"input_dir\": \"/opt/ml/input\",\n",
      "    \"is_master\": true,\n",
      "    \"job_name\": \"sagemaker-pytorch-2020-07-24-12-06-51-688\",\n",
      "    \"log_level\": 20,\n",
      "    \"master_hostname\": \"algo-1\",\n",
      "    \"model_dir\": \"/opt/ml/model\",\n",
      "    \"module_dir\": \"s3://sagemaker-us-east-2-113516067754/sagemaker-pytorch-2020-07-24-12-06-51-688/source/sourcedir.tar.gz\",\n",
      "    \"module_name\": \"lstm_train\",\n",
      "    \"network_interface_name\": \"eth0\",\n",
      "    \"num_cpus\": 4,\n",
      "    \"num_gpus\": 1,\n",
      "    \"output_data_dir\": \"/opt/ml/output/data\",\n",
      "    \"output_dir\": \"/opt/ml/output\",\n",
      "    \"output_intermediate_dir\": \"/opt/ml/output/intermediate\",\n",
      "    \"resource_config\": {\n",
      "        \"current_host\": \"algo-1\",\n",
      "        \"hosts\": [\n",
      "            \"algo-1\"\n",
      "        ],\n",
      "        \"network_interface_name\": \"eth0\"\n",
      "    },\n",
      "    \"user_entry_point\": \"lstm_train.py\"\u001b[0m\n",
      "\u001b[34m}\n",
      "\u001b[0m\n",
      "\u001b[34mEnvironment variables:\n",
      "\u001b[0m\n",
      "\u001b[34mSM_HOSTS=[\"algo-1\"]\u001b[0m\n",
      "\u001b[34mSM_NETWORK_INTERFACE_NAME=eth0\u001b[0m\n",
      "\u001b[34mSM_HPS={\"embedding_dim\":100,\"epochs\":20,\"hidden_dim\":100,\"output_dim\":3,\"vocab_size\":48320}\u001b[0m\n",
      "\u001b[34mSM_USER_ENTRY_POINT=lstm_train.py\u001b[0m\n",
      "\u001b[34mSM_FRAMEWORK_PARAMS={}\u001b[0m\n",
      "\u001b[34mSM_RESOURCE_CONFIG={\"current_host\":\"algo-1\",\"hosts\":[\"algo-1\"],\"network_interface_name\":\"eth0\"}\u001b[0m\n",
      "\u001b[34mSM_INPUT_DATA_CONFIG={\"training\":{\"RecordWrapperType\":\"None\",\"S3DistributionType\":\"FullyReplicated\",\"TrainingInputMode\":\"File\"}}\u001b[0m\n",
      "\u001b[34mSM_OUTPUT_DATA_DIR=/opt/ml/output/data\u001b[0m\n",
      "\u001b[34mSM_CHANNELS=[\"training\"]\u001b[0m\n",
      "\u001b[34mSM_CURRENT_HOST=algo-1\u001b[0m\n",
      "\u001b[34mSM_MODULE_NAME=lstm_train\u001b[0m\n",
      "\u001b[34mSM_LOG_LEVEL=20\u001b[0m\n",
      "\u001b[34mSM_FRAMEWORK_MODULE=sagemaker_pytorch_container.training:main\u001b[0m\n",
      "\u001b[34mSM_INPUT_DIR=/opt/ml/input\u001b[0m\n",
      "\u001b[34mSM_INPUT_CONFIG_DIR=/opt/ml/input/config\u001b[0m\n",
      "\u001b[34mSM_OUTPUT_DIR=/opt/ml/output\u001b[0m\n",
      "\u001b[34mSM_NUM_CPUS=4\u001b[0m\n",
      "\u001b[34mSM_NUM_GPUS=1\u001b[0m\n",
      "\u001b[34mSM_MODEL_DIR=/opt/ml/model\u001b[0m\n",
      "\u001b[34mSM_MODULE_DIR=s3://sagemaker-us-east-2-113516067754/sagemaker-pytorch-2020-07-24-12-06-51-688/source/sourcedir.tar.gz\u001b[0m\n",
      "\u001b[34mSM_TRAINING_ENV={\"additional_framework_parameters\":{},\"channel_input_dirs\":{\"training\":\"/opt/ml/input/data/training\"},\"current_host\":\"algo-1\",\"framework_module\":\"sagemaker_pytorch_container.training:main\",\"hosts\":[\"algo-1\"],\"hyperparameters\":{\"embedding_dim\":100,\"epochs\":20,\"hidden_dim\":100,\"output_dim\":3,\"vocab_size\":48320},\"input_config_dir\":\"/opt/ml/input/config\",\"input_data_config\":{\"training\":{\"RecordWrapperType\":\"None\",\"S3DistributionType\":\"FullyReplicated\",\"TrainingInputMode\":\"File\"}},\"input_dir\":\"/opt/ml/input\",\"is_master\":true,\"job_name\":\"sagemaker-pytorch-2020-07-24-12-06-51-688\",\"log_level\":20,\"master_hostname\":\"algo-1\",\"model_dir\":\"/opt/ml/model\",\"module_dir\":\"s3://sagemaker-us-east-2-113516067754/sagemaker-pytorch-2020-07-24-12-06-51-688/source/sourcedir.tar.gz\",\"module_name\":\"lstm_train\",\"network_interface_name\":\"eth0\",\"num_cpus\":4,\"num_gpus\":1,\"output_data_dir\":\"/opt/ml/output/data\",\"output_dir\":\"/opt/ml/output\",\"output_intermediate_dir\":\"/opt/ml/output/intermediate\",\"resource_config\":{\"current_host\":\"algo-1\",\"hosts\":[\"algo-1\"],\"network_interface_name\":\"eth0\"},\"user_entry_point\":\"lstm_train.py\"}\u001b[0m\n",
      "\u001b[34mSM_USER_ARGS=[\"--embedding_dim\",\"100\",\"--epochs\",\"20\",\"--hidden_dim\",\"100\",\"--output_dim\",\"3\",\"--vocab_size\",\"48320\"]\u001b[0m\n",
      "\u001b[34mSM_OUTPUT_INTERMEDIATE_DIR=/opt/ml/output/intermediate\u001b[0m\n",
      "\u001b[34mSM_CHANNEL_TRAINING=/opt/ml/input/data/training\u001b[0m\n",
      "\u001b[34mSM_HP_HIDDEN_DIM=100\u001b[0m\n",
      "\u001b[34mSM_HP_EMBEDDING_DIM=100\u001b[0m\n",
      "\u001b[34mSM_HP_VOCAB_SIZE=48320\u001b[0m\n",
      "\u001b[34mSM_HP_EPOCHS=20\u001b[0m\n",
      "\u001b[34mSM_HP_OUTPUT_DIM=3\u001b[0m\n",
      "\u001b[34mPYTHONPATH=/usr/local/bin:/usr/lib/python36.zip:/usr/lib/python3.6:/usr/lib/python3.6/lib-dynload:/usr/local/lib/python3.6/dist-packages:/usr/lib/python3/dist-packages\n",
      "\u001b[0m\n",
      "\u001b[34mInvoking script with the following command:\n",
      "\u001b[0m\n",
      "\u001b[34m/usr/bin/python -m lstm_train --embedding_dim 100 --epochs 20 --hidden_dim 100 --output_dim 3 --vocab_size 48320\n",
      "\n",
      "\u001b[0m\n",
      "\u001b[34mUsing device cuda.\u001b[0m\n",
      "\u001b[34mGet train data loader.\u001b[0m\n",
      "\u001b[34mModel loaded with embedding_dim 100, hidden_dim 100, vocab_size 48320, output_dim 3\u001b[0m\n",
      "\u001b[34mEpoch: 1, CELoss: 0.6508255702318605\u001b[0m\n",
      "\u001b[34mEpoch: 2, CELoss: 0.5164597388804983\u001b[0m\n",
      "\u001b[34mEpoch: 3, CELoss: 0.47069957975259763\u001b[0m\n",
      "\u001b[34mEpoch: 4, CELoss: 0.4317355981397465\u001b[0m\n",
      "\u001b[34mEpoch: 5, CELoss: 0.39690563369452747\u001b[0m\n",
      "\u001b[34mEpoch: 6, CELoss: 0.3592677548578924\u001b[0m\n",
      "\u001b[34mEpoch: 7, CELoss: 0.3322194421926315\u001b[0m\n",
      "\u001b[34mEpoch: 8, CELoss: 0.291391426754981\u001b[0m\n",
      "\u001b[34mEpoch: 9, CELoss: 0.25722347046296623\u001b[0m\n",
      "\u001b[34mEpoch: 10, CELoss: 0.22803823204384638\u001b[0m\n",
      "\u001b[34mEpoch: 11, CELoss: 0.2073069284974095\u001b[0m\n",
      "\u001b[34mEpoch: 12, CELoss: 0.18342724255577394\u001b[0m\n",
      "\u001b[34mEpoch: 13, CELoss: 0.16321495426274657\u001b[0m\n",
      "\u001b[34mEpoch: 14, CELoss: 0.13569524681957318\u001b[0m\n",
      "\u001b[34mEpoch: 15, CELoss: 0.1131914278229897\u001b[0m\n",
      "\u001b[34mEpoch: 16, CELoss: 0.09912323187460605\u001b[0m\n",
      "\u001b[34mEpoch: 17, CELoss: 0.08359635744205456\u001b[0m\n",
      "\u001b[34mEpoch: 18, CELoss: 0.07116799260716873\u001b[0m\n",
      "\u001b[34mEpoch: 19, CELoss: 0.0612789122419771\u001b[0m\n",
      "\u001b[34mEpoch: 20, CELoss: 0.052845180495498106\u001b[0m\n",
      "\u001b[34m2020-07-24 12:45:30,030 sagemaker-containers INFO     Reporting training SUCCESS\u001b[0m\n",
      "\n",
      "2020-07-24 12:45:53 Uploading - Uploading generated training model\n",
      "2020-07-24 12:45:53 Completed - Training job completed\n",
      "Training seconds: 2208\n",
      "Billable seconds: 2208\n"
     ]
    }
   ],
   "source": [
    "estimator.fit({'training': input_data})"
   ]
  },
  {
   "cell_type": "markdown",
   "metadata": {},
   "source": [
    "### Validation"
   ]
  },
  {
   "cell_type": "markdown",
   "metadata": {},
   "source": [
    "Download model artifacts using AWS CLI, or directly from the notebook."
   ]
  },
  {
   "cell_type": "code",
   "execution_count": null,
   "metadata": {},
   "outputs": [],
   "source": [
    "!aws s3 cp s3://sagemaker-us-east-2-113516067754/sagemaker-pytorch-2020-07-21-08-49-07-784/output/model.tar.gz model.tar.gz"
   ]
  },
  {
   "cell_type": "code",
   "execution_count": null,
   "metadata": {},
   "outputs": [],
   "source": [
    "# or download files directly on the notebook\n",
    "s3 = boto3.client('s3')\n",
    "s3.download_file(bucket,'s3://sagemaker-us-east-2-113516067754/sagemaker-pytorch-2020-07-21-08-49-07-784/output/model.tar.gz','model_lstm.tar.gz')"
   ]
  },
  {
   "cell_type": "markdown",
   "metadata": {},
   "source": [
    "**Validation data**"
   ]
  },
  {
   "cell_type": "code",
   "execution_count": 33,
   "metadata": {},
   "outputs": [],
   "source": [
    "x_test_torch=csr_to_torch_long(x_test)\n",
    "y_test_torch=y_torch(y_test)\n",
    "\n",
    "val_ds = torch.utils.data.TensorDataset(x_test_torch.to_dense(), y_test_torch)\n",
    "val_dl=torch.utils.data.DataLoader(val_ds, batch_size=100)"
   ]
  },
  {
   "cell_type": "code",
   "execution_count": 35,
   "metadata": {},
   "outputs": [
    {
     "data": {
      "text/plain": [
       "{'epochs': 20,\n",
       " 'embedding_dim': 100,\n",
       " 'hidden_dim': 100,\n",
       " 'vocab_size': 48320,\n",
       " 'output_dim': 3}"
      ]
     },
     "execution_count": 35,
     "metadata": {},
     "output_type": "execute_result"
    }
   ],
   "source": [
    "with open('lstm_model_artifacts/output/model_info.pth','rb') as f:\n",
    "    model_info=torch.load(f)\n",
    "\n",
    "model_info"
   ]
  },
  {
   "cell_type": "code",
   "execution_count": 36,
   "metadata": {},
   "outputs": [],
   "source": [
    "device = torch.device(\"cuda\" if torch.cuda.is_available() else \"cpu\")\n",
    "model=LSTMClassifier(model_info['vocab_size'],model_info['embedding_dim'],model_info['hidden_dim'],model_info['output_dim']).to(device)\n",
    "\n",
    "with open('lstm_model_artifacts/output/model.pth','rb') as f:\n",
    "    model.load_state_dict(torch.load(f))"
   ]
  },
  {
   "cell_type": "code",
   "execution_count": 37,
   "metadata": {},
   "outputs": [
    {
     "data": {
      "text/plain": [
       "89.01426108760381"
      ]
     },
     "execution_count": 37,
     "metadata": {},
     "output_type": "execute_result"
    }
   ],
   "source": [
    "#it takes a few minutes...\n",
    "try:\n",
    "    acc_pytorch(model,val_dl)\n",
    "except:\n",
    "    print('Define function acc_pytorch() in section \"FeedFoward-NN Pytorch\"' )"
   ]
  },
  {
   "cell_type": "markdown",
   "metadata": {},
   "source": [
    "Save model log data"
   ]
  },
  {
   "cell_type": "code",
   "execution_count": 41,
   "metadata": {},
   "outputs": [],
   "source": [
    "log_data='LSTM Pytorch/reviews_csr50k/sentiment/{}//0.8901426108760381'.format(json.dumps(model_info))"
   ]
  },
  {
   "cell_type": "code",
   "execution_count": 42,
   "metadata": {},
   "outputs": [],
   "source": [
    "logs.add_row(log_data)"
   ]
  },
  {
   "cell_type": "code",
   "execution_count": 104,
   "metadata": {},
   "outputs": [
    {
     "data": {
      "text/html": [
       "<div>\n",
       "<style scoped>\n",
       "    .dataframe tbody tr th:only-of-type {\n",
       "        vertical-align: middle;\n",
       "    }\n",
       "\n",
       "    .dataframe tbody tr th {\n",
       "        vertical-align: top;\n",
       "    }\n",
       "\n",
       "    .dataframe thead th {\n",
       "        text-align: right;\n",
       "    }\n",
       "</style>\n",
       "<table border=\"1\" class=\"dataframe\">\n",
       "  <thead>\n",
       "    <tr style=\"text-align: right;\">\n",
       "      <th></th>\n",
       "      <th>name</th>\n",
       "      <th>data_X</th>\n",
       "      <th>data_y</th>\n",
       "      <th>params</th>\n",
       "      <th>train acc</th>\n",
       "      <th>test acc</th>\n",
       "    </tr>\n",
       "  </thead>\n",
       "  <tbody>\n",
       "    <tr>\n",
       "      <th>0</th>\n",
       "      <td>random forest</td>\n",
       "      <td>reviews_cv5k</td>\n",
       "      <td>condition-0.05</td>\n",
       "      <td>{\"n_estimators\": 20, \"max_depth\": 500, \"max_fe...</td>\n",
       "      <td>0.992542</td>\n",
       "      <td>0.811025</td>\n",
       "    </tr>\n",
       "    <tr>\n",
       "      <th>1</th>\n",
       "      <td>random forest</td>\n",
       "      <td>reviews_cv5k</td>\n",
       "      <td>condition-0.05</td>\n",
       "      <td>{\"n_estimators\": 20, \"max_depth\": 700, \"max_fe...</td>\n",
       "      <td>0.993212</td>\n",
       "      <td>0.809121</td>\n",
       "    </tr>\n",
       "    <tr>\n",
       "      <th>2</th>\n",
       "      <td>random forest</td>\n",
       "      <td>reviews_cv5k</td>\n",
       "      <td>condition-0.05</td>\n",
       "      <td>{\"n_estimators\": 20, \"max_depth\": 300, \"max_fe...</td>\n",
       "      <td>0.978444</td>\n",
       "      <td>0.800259</td>\n",
       "    </tr>\n",
       "    <tr>\n",
       "      <th>3</th>\n",
       "      <td>random forest</td>\n",
       "      <td>reviews_cv5k</td>\n",
       "      <td>condition-0.05</td>\n",
       "      <td>{\"n_estimators\": 30, \"max_depth\": 300, \"max_fe...</td>\n",
       "      <td>0.981065</td>\n",
       "      <td>0.807029</td>\n",
       "    </tr>\n",
       "    <tr>\n",
       "      <th>4</th>\n",
       "      <td>NB</td>\n",
       "      <td>drugnames</td>\n",
       "      <td>condition-0.01</td>\n",
       "      <td>{\"alpha\": 1.0}</td>\n",
       "      <td>0.679175</td>\n",
       "      <td>0.67433</td>\n",
       "    </tr>\n",
       "    <tr>\n",
       "      <th>5</th>\n",
       "      <td>NB</td>\n",
       "      <td>drugnames</td>\n",
       "      <td>condition-0.01</td>\n",
       "      <td>{\"alpha\": 0.5}</td>\n",
       "      <td>0.697117</td>\n",
       "      <td>0.691114</td>\n",
       "    </tr>\n",
       "    <tr>\n",
       "      <th>6</th>\n",
       "      <td>NB</td>\n",
       "      <td>drugnames</td>\n",
       "      <td>condition-0.01</td>\n",
       "      <td>{\"alpha\": 0.01}</td>\n",
       "      <td>0.723874</td>\n",
       "      <td>0.713235</td>\n",
       "    </tr>\n",
       "    <tr>\n",
       "      <th>7</th>\n",
       "      <td>NB</td>\n",
       "      <td>drugnames</td>\n",
       "      <td>condition-0.01</td>\n",
       "      <td>{\"alpha\": 0.001}</td>\n",
       "      <td>0.724339</td>\n",
       "      <td>0.713893</td>\n",
       "    </tr>\n",
       "    <tr>\n",
       "      <th>8</th>\n",
       "      <td>Decision tree</td>\n",
       "      <td>drugnames</td>\n",
       "      <td>condition-0.01</td>\n",
       "      <td>{\"criterion\": \"gini\", \"max_depth\": 6000, \"max_...</td>\n",
       "      <td>0.724344</td>\n",
       "      <td>0.714504</td>\n",
       "    </tr>\n",
       "    <tr>\n",
       "      <th>9</th>\n",
       "      <td>random forest</td>\n",
       "      <td>drugnames</td>\n",
       "      <td>condition-0.01</td>\n",
       "      <td>{\"n_estimators\": 50, \"criterion\": \"entropy\", \"...</td>\n",
       "      <td>0.724297</td>\n",
       "      <td>0.714386</td>\n",
       "    </tr>\n",
       "    <tr>\n",
       "      <th>10</th>\n",
       "      <td>LSVC</td>\n",
       "      <td>drugnames</td>\n",
       "      <td>condition-0.01</td>\n",
       "      <td>{\"tol\":0.001}</td>\n",
       "      <td>0.724344</td>\n",
       "      <td>0.714622</td>\n",
       "    </tr>\n",
       "    <tr>\n",
       "      <th>11</th>\n",
       "      <td>NB</td>\n",
       "      <td>reviews_cv5k</td>\n",
       "      <td>condition-0.01</td>\n",
       "      <td>{\"alpha\": 1.0}</td>\n",
       "      <td>0.721859</td>\n",
       "      <td>0.665115</td>\n",
       "    </tr>\n",
       "    <tr>\n",
       "      <th>12</th>\n",
       "      <td>NB</td>\n",
       "      <td>reviews_cv5k</td>\n",
       "      <td>condition-0.01</td>\n",
       "      <td>{\"alpha\": 0.1}</td>\n",
       "      <td>0.784189</td>\n",
       "      <td>0.70402</td>\n",
       "    </tr>\n",
       "    <tr>\n",
       "      <th>13</th>\n",
       "      <td>NB</td>\n",
       "      <td>reviews_cv5k</td>\n",
       "      <td>condition-0.01</td>\n",
       "      <td>{\"alpha\": 0.01}</td>\n",
       "      <td>0.801126</td>\n",
       "      <td>0.709191</td>\n",
       "    </tr>\n",
       "    <tr>\n",
       "      <th>14</th>\n",
       "      <td>NB</td>\n",
       "      <td>reviews_cv5k</td>\n",
       "      <td>condition-0.01</td>\n",
       "      <td>{\"alpha\": 0.001}</td>\n",
       "      <td>0.808067</td>\n",
       "      <td>0.707616</td>\n",
       "    </tr>\n",
       "    <tr>\n",
       "      <th>15</th>\n",
       "      <td>random forest</td>\n",
       "      <td>reviews_cv5k</td>\n",
       "      <td>condition-0.01</td>\n",
       "      <td>{\"n_estimators\": 30, \"max_depth\": 500, \"max_fe...</td>\n",
       "      <td>0.99293</td>\n",
       "      <td>0.813141</td>\n",
       "    </tr>\n",
       "    <tr>\n",
       "      <th>16</th>\n",
       "      <td>NB</td>\n",
       "      <td>reviews_cv5k</td>\n",
       "      <td>sentiment</td>\n",
       "      <td>{\"alpha\": 0.001}</td>\n",
       "      <td>0.741887</td>\n",
       "      <td>0.734861</td>\n",
       "    </tr>\n",
       "    <tr>\n",
       "      <th>17</th>\n",
       "      <td>NB</td>\n",
       "      <td>reviews_cv5k</td>\n",
       "      <td>sentiment</td>\n",
       "      <td>{\"alpha\": 0.01}</td>\n",
       "      <td>0.74191</td>\n",
       "      <td>0.734838</td>\n",
       "    </tr>\n",
       "    <tr>\n",
       "      <th>18</th>\n",
       "      <td>LSVC</td>\n",
       "      <td>reviews_cv5k</td>\n",
       "      <td>sentiment</td>\n",
       "      <td>{\"tol\": 0.001}</td>\n",
       "      <td>0.81821</td>\n",
       "      <td>0.804607</td>\n",
       "    </tr>\n",
       "    <tr>\n",
       "      <th>19</th>\n",
       "      <td>LSVC</td>\n",
       "      <td>reviews_cv5k</td>\n",
       "      <td>sentiment</td>\n",
       "      <td>{\"tol\": 0.001, \"dual\": false}</td>\n",
       "      <td>0.818216</td>\n",
       "      <td>0.804631</td>\n",
       "    </tr>\n",
       "    <tr>\n",
       "      <th>20</th>\n",
       "      <td>LSVC</td>\n",
       "      <td>reviews_cv5k</td>\n",
       "      <td>sentiment</td>\n",
       "      <td>{\"C\": 10, \"tol\": 0.001, \"dual\": false}</td>\n",
       "      <td>0.818187</td>\n",
       "      <td>0.804466</td>\n",
       "    </tr>\n",
       "    <tr>\n",
       "      <th>21</th>\n",
       "      <td>NB</td>\n",
       "      <td>reviews_cv20k</td>\n",
       "      <td>sentiment</td>\n",
       "      <td>{\"alpha\": 0.01}</td>\n",
       "      <td>0.772288</td>\n",
       "      <td>0.75047</td>\n",
       "    </tr>\n",
       "    <tr>\n",
       "      <th>22</th>\n",
       "      <td>NB</td>\n",
       "      <td>reviews_cv20k</td>\n",
       "      <td>sentiment</td>\n",
       "      <td>{\"alpha\": 0.001}</td>\n",
       "      <td>0.774709</td>\n",
       "      <td>0.751316</td>\n",
       "    </tr>\n",
       "    <tr>\n",
       "      <th>23</th>\n",
       "      <td>LSVC</td>\n",
       "      <td>reviews_cv20k</td>\n",
       "      <td>sentiment</td>\n",
       "      <td>{\"C\": 1.0, \"tol\": 0.001, \"dual\": false}</td>\n",
       "      <td>0.865437</td>\n",
       "      <td>0.819746</td>\n",
       "    </tr>\n",
       "    <tr>\n",
       "      <th>24</th>\n",
       "      <td>NB</td>\n",
       "      <td>reviews_tv5k</td>\n",
       "      <td>sentiment</td>\n",
       "      <td>{\"alpha\": 0.001}</td>\n",
       "      <td>0.761463</td>\n",
       "      <td>0.757804</td>\n",
       "    </tr>\n",
       "    <tr>\n",
       "      <th>25</th>\n",
       "      <td>LSVC</td>\n",
       "      <td>reviews_tv5k</td>\n",
       "      <td>sentiment</td>\n",
       "      <td>{\"C\": 1.0, \"tol\": 0.001, \"dual\": false}</td>\n",
       "      <td>0.823881</td>\n",
       "      <td>0.810461</td>\n",
       "    </tr>\n",
       "    <tr>\n",
       "      <th>26</th>\n",
       "      <td>NB</td>\n",
       "      <td>reviews_tv20k</td>\n",
       "      <td>sentiment</td>\n",
       "      <td>{\"alpha\": 0.001}</td>\n",
       "      <td>0.783601</td>\n",
       "      <td>0.76763</td>\n",
       "    </tr>\n",
       "    <tr>\n",
       "      <th>27</th>\n",
       "      <td>LSVC</td>\n",
       "      <td>reviews_tv20k</td>\n",
       "      <td>sentiment</td>\n",
       "      <td>{\"C\": 1.0, \"tol\": 0.001, \"dual\": false}</td>\n",
       "      <td>0.848658</td>\n",
       "      <td>0.819629</td>\n",
       "    </tr>\n",
       "    <tr>\n",
       "      <th>28</th>\n",
       "      <td>LSVC</td>\n",
       "      <td>reviews_tv20k</td>\n",
       "      <td>sentiment</td>\n",
       "      <td>{\"C\": 100.0, \"tol\": 0.001, \"dual\": false}</td>\n",
       "      <td>0.870379</td>\n",
       "      <td>0.818077</td>\n",
       "    </tr>\n",
       "    <tr>\n",
       "      <th>29</th>\n",
       "      <td>NB</td>\n",
       "      <td>reviews_tv50k</td>\n",
       "      <td>sentiment</td>\n",
       "      <td>{\"alpha\": 0.001}</td>\n",
       "      <td>0.81342</td>\n",
       "      <td>0.78472</td>\n",
       "    </tr>\n",
       "    <tr>\n",
       "      <th>30</th>\n",
       "      <td>LSVC</td>\n",
       "      <td>reviews_tv50k</td>\n",
       "      <td>sentiment</td>\n",
       "      <td>{\"C\": 100.0, \"tol\": 0.001, \"dual\": false}</td>\n",
       "      <td>0.894398</td>\n",
       "      <td>0.832887</td>\n",
       "    </tr>\n",
       "    <tr>\n",
       "      <th>31</th>\n",
       "      <td>LSVC</td>\n",
       "      <td>reviews_tv50k</td>\n",
       "      <td>sentiment</td>\n",
       "      <td>{\"C\": 1.0, \"tol\": 0.001, \"dual\": false}</td>\n",
       "      <td>0.861488</td>\n",
       "      <td>0.82574</td>\n",
       "    </tr>\n",
       "    <tr>\n",
       "      <th>32</th>\n",
       "      <td>LSVC</td>\n",
       "      <td>reviews_tv50k</td>\n",
       "      <td>sentiment</td>\n",
       "      <td>{\"C\": 1.0, \"tol\": 0.0001, \"dual\": false}</td>\n",
       "      <td>0.861687</td>\n",
       "      <td>0.825693</td>\n",
       "    </tr>\n",
       "    <tr>\n",
       "      <th>33</th>\n",
       "      <td>LSVC</td>\n",
       "      <td>reviews_tv50k</td>\n",
       "      <td>sentiment</td>\n",
       "      <td>{\"C\": 1000.0, \"tol\": 0.0001, \"dual\": false}</td>\n",
       "      <td>0.895885</td>\n",
       "      <td>0.831124</td>\n",
       "    </tr>\n",
       "    <tr>\n",
       "      <th>34</th>\n",
       "      <td>random forest</td>\n",
       "      <td>reviews_tv50k</td>\n",
       "      <td>sentiment</td>\n",
       "      <td>{\"n_estimators\": 10, \"max_depth\": 500, \"max_fe...</td>\n",
       "      <td>0.995645</td>\n",
       "      <td>0.902609</td>\n",
       "    </tr>\n",
       "    <tr>\n",
       "      <th>35</th>\n",
       "      <td>random forest</td>\n",
       "      <td>reviews_tv50k</td>\n",
       "      <td>sentiment</td>\n",
       "      <td>{\"n_estimators\": 20, \"max_depth\": 500, \"max_fe...</td>\n",
       "      <td>0.998114</td>\n",
       "      <td>0.909262</td>\n",
       "    </tr>\n",
       "    <tr>\n",
       "      <th>36</th>\n",
       "      <td>random forest</td>\n",
       "      <td>reviews_tv50k</td>\n",
       "      <td>sentiment</td>\n",
       "      <td>{\"n_estimators\": 20, \"max_depth\": 300, \"max_fe...</td>\n",
       "      <td>0.995675</td>\n",
       "      <td>0.906841</td>\n",
       "    </tr>\n",
       "    <tr>\n",
       "      <th>37</th>\n",
       "      <td>random forest</td>\n",
       "      <td>reviews_tv50k</td>\n",
       "      <td>sentiment</td>\n",
       "      <td>{\"n_estimators\": 20, \"max_depth\": 300, \"max_fe...</td>\n",
       "      <td>0.992666</td>\n",
       "      <td>0.9</td>\n",
       "    </tr>\n",
       "    <tr>\n",
       "      <th>38</th>\n",
       "      <td>random forest</td>\n",
       "      <td>reviews_tv50k</td>\n",
       "      <td>sentiment</td>\n",
       "      <td>{\"n_estimators\": 30, \"max_depth\": 300, \"max_fe...</td>\n",
       "      <td>0.993577</td>\n",
       "      <td>0.900917</td>\n",
       "    </tr>\n",
       "    <tr>\n",
       "      <th>39</th>\n",
       "      <td>random forest</td>\n",
       "      <td>reviews_tv50k</td>\n",
       "      <td>sentiment</td>\n",
       "      <td>{\"n_estimators\": 30, \"max_depth\": 500, \"max_fe...</td>\n",
       "      <td>0.998519</td>\n",
       "      <td>0.908674</td>\n",
       "    </tr>\n",
       "    <tr>\n",
       "      <th>40</th>\n",
       "      <td>random forest</td>\n",
       "      <td>reviews_tv50k</td>\n",
       "      <td>sentiment</td>\n",
       "      <td>{\"bootstrap\": true, \"ccp_alpha\": 0.0, \"class_w...</td>\n",
       "      <td>0.988752</td>\n",
       "      <td>0.897062</td>\n",
       "    </tr>\n",
       "    <tr>\n",
       "      <th>41</th>\n",
       "      <td>random forest</td>\n",
       "      <td>reviews_tv50k</td>\n",
       "      <td>sentiment</td>\n",
       "      <td>{\"bootstrap\": true, \"ccp_alpha\": 0.0, \"class_w...</td>\n",
       "      <td>0.990039</td>\n",
       "      <td>0.89906</td>\n",
       "    </tr>\n",
       "    <tr>\n",
       "      <th>42</th>\n",
       "      <td>random forest</td>\n",
       "      <td>reviews_tv50k</td>\n",
       "      <td>sentiment</td>\n",
       "      <td>{\"bootstrap\": true, \"ccp_alpha\": 0.0, \"class_w...</td>\n",
       "      <td>0.996562</td>\n",
       "      <td>0.905383</td>\n",
       "    </tr>\n",
       "    <tr>\n",
       "      <th>43</th>\n",
       "      <td>LSTM Pytorch</td>\n",
       "      <td>review 50k sequence</td>\n",
       "      <td>sentiment</td>\n",
       "      <td>{\"epochs\": 10, \"embedding_dim\": 100, \"hidden_d...</td>\n",
       "      <td>NaN</td>\n",
       "      <td>0.853816</td>\n",
       "    </tr>\n",
       "    <tr>\n",
       "      <th>44</th>\n",
       "      <td>LSTM Pytorch</td>\n",
       "      <td>reviews_csr10k</td>\n",
       "      <td>sentiment</td>\n",
       "      <td>{\"epochs\":10, \"embedding_dim\": 100, \"hidden_di...</td>\n",
       "      <td>NaN</td>\n",
       "      <td>0.851967</td>\n",
       "    </tr>\n",
       "    <tr>\n",
       "      <th>45</th>\n",
       "      <td>FFN Pytorch</td>\n",
       "      <td>reviews_tv50k</td>\n",
       "      <td>sentiment</td>\n",
       "      <td>{\"epochs\":20, hidden_dim\": 200, \"vocab_size\": ...</td>\n",
       "      <td>NaN</td>\n",
       "      <td>0.90058</td>\n",
       "    </tr>\n",
       "    <tr>\n",
       "      <th>46</th>\n",
       "      <td>FFN Pytorch</td>\n",
       "      <td>reviews_tv50k</td>\n",
       "      <td>condition-0.05</td>\n",
       "      <td>{\"epochs\": 20, \"hidden_dim\": 200, \"vocab_size\"...</td>\n",
       "      <td>NaN</td>\n",
       "      <td>0.826869</td>\n",
       "    </tr>\n",
       "    <tr>\n",
       "      <th>47</th>\n",
       "      <td>FFN Pytorch</td>\n",
       "      <td>reviews_tv5k</td>\n",
       "      <td>condition-0.05</td>\n",
       "      <td>{\"epochs\": 20, \"hidden_dim\": 200, \"vocab_size\"...</td>\n",
       "      <td>NaN</td>\n",
       "      <td>0.777551</td>\n",
       "    </tr>\n",
       "    <tr>\n",
       "      <th>48</th>\n",
       "      <td>FFN Pytorch</td>\n",
       "      <td>reviews_tv50k</td>\n",
       "      <td>condition-0.05</td>\n",
       "      <td>{\"epochs\": 20, \"hidden1_dim\": 200, \"hidden2_di...</td>\n",
       "      <td>NaN</td>\n",
       "      <td>0.831218</td>\n",
       "    </tr>\n",
       "    <tr>\n",
       "      <th>49</th>\n",
       "      <td>LSTM Pytorch</td>\n",
       "      <td>reviews_csr50k</td>\n",
       "      <td>sentiment</td>\n",
       "      <td>{\"epochs\": 20, \"embedding_dim\": 100, \"hidden_d...</td>\n",
       "      <td>NaN</td>\n",
       "      <td>0.890143</td>\n",
       "    </tr>\n",
       "    <tr>\n",
       "      <th>50</th>\n",
       "      <td>FFN Pytorch</td>\n",
       "      <td>reviews_tv10k</td>\n",
       "      <td>sentiment</td>\n",
       "      <td>{\"epochs\": 30, \"hidden1_dim\": 200, \"hidden2_di...</td>\n",
       "      <td>0.9991604427489119</td>\n",
       "      <td>0.9077887478451655</td>\n",
       "    </tr>\n",
       "  </tbody>\n",
       "</table>\n",
       "</div>"
      ],
      "text/plain": [
       "             name               data_X          data_y  \\\n",
       "0   random forest         reviews_cv5k  condition-0.05   \n",
       "1   random forest         reviews_cv5k  condition-0.05   \n",
       "2   random forest         reviews_cv5k  condition-0.05   \n",
       "3   random forest         reviews_cv5k  condition-0.05   \n",
       "4              NB            drugnames  condition-0.01   \n",
       "5              NB            drugnames  condition-0.01   \n",
       "6              NB            drugnames  condition-0.01   \n",
       "7              NB            drugnames  condition-0.01   \n",
       "8   Decision tree            drugnames  condition-0.01   \n",
       "9   random forest            drugnames  condition-0.01   \n",
       "10           LSVC            drugnames  condition-0.01   \n",
       "11             NB         reviews_cv5k  condition-0.01   \n",
       "12             NB         reviews_cv5k  condition-0.01   \n",
       "13             NB         reviews_cv5k  condition-0.01   \n",
       "14             NB         reviews_cv5k  condition-0.01   \n",
       "15  random forest         reviews_cv5k  condition-0.01   \n",
       "16             NB         reviews_cv5k       sentiment   \n",
       "17             NB         reviews_cv5k       sentiment   \n",
       "18           LSVC         reviews_cv5k       sentiment   \n",
       "19           LSVC         reviews_cv5k       sentiment   \n",
       "20           LSVC         reviews_cv5k       sentiment   \n",
       "21             NB        reviews_cv20k       sentiment   \n",
       "22             NB        reviews_cv20k       sentiment   \n",
       "23           LSVC        reviews_cv20k       sentiment   \n",
       "24             NB         reviews_tv5k       sentiment   \n",
       "25           LSVC         reviews_tv5k       sentiment   \n",
       "26             NB        reviews_tv20k       sentiment   \n",
       "27           LSVC        reviews_tv20k       sentiment   \n",
       "28           LSVC        reviews_tv20k       sentiment   \n",
       "29             NB        reviews_tv50k       sentiment   \n",
       "30           LSVC        reviews_tv50k       sentiment   \n",
       "31           LSVC        reviews_tv50k       sentiment   \n",
       "32           LSVC        reviews_tv50k       sentiment   \n",
       "33           LSVC        reviews_tv50k       sentiment   \n",
       "34  random forest        reviews_tv50k       sentiment   \n",
       "35  random forest        reviews_tv50k       sentiment   \n",
       "36  random forest        reviews_tv50k       sentiment   \n",
       "37  random forest        reviews_tv50k       sentiment   \n",
       "38  random forest        reviews_tv50k       sentiment   \n",
       "39  random forest        reviews_tv50k       sentiment   \n",
       "40  random forest        reviews_tv50k       sentiment   \n",
       "41  random forest        reviews_tv50k       sentiment   \n",
       "42  random forest        reviews_tv50k       sentiment   \n",
       "43   LSTM Pytorch  review 50k sequence       sentiment   \n",
       "44   LSTM Pytorch       reviews_csr10k       sentiment   \n",
       "45    FFN Pytorch        reviews_tv50k       sentiment   \n",
       "46    FFN Pytorch        reviews_tv50k  condition-0.05   \n",
       "47    FFN Pytorch         reviews_tv5k  condition-0.05   \n",
       "48    FFN Pytorch        reviews_tv50k  condition-0.05   \n",
       "49   LSTM Pytorch       reviews_csr50k       sentiment   \n",
       "50    FFN Pytorch        reviews_tv10k       sentiment   \n",
       "\n",
       "                                               params           train acc  \\\n",
       "0   {\"n_estimators\": 20, \"max_depth\": 500, \"max_fe...            0.992542   \n",
       "1   {\"n_estimators\": 20, \"max_depth\": 700, \"max_fe...            0.993212   \n",
       "2   {\"n_estimators\": 20, \"max_depth\": 300, \"max_fe...            0.978444   \n",
       "3   {\"n_estimators\": 30, \"max_depth\": 300, \"max_fe...            0.981065   \n",
       "4                                      {\"alpha\": 1.0}            0.679175   \n",
       "5                                      {\"alpha\": 0.5}            0.697117   \n",
       "6                                     {\"alpha\": 0.01}            0.723874   \n",
       "7                                    {\"alpha\": 0.001}            0.724339   \n",
       "8   {\"criterion\": \"gini\", \"max_depth\": 6000, \"max_...            0.724344   \n",
       "9   {\"n_estimators\": 50, \"criterion\": \"entropy\", \"...            0.724297   \n",
       "10                                      {\"tol\":0.001}            0.724344   \n",
       "11                                     {\"alpha\": 1.0}            0.721859   \n",
       "12                                     {\"alpha\": 0.1}            0.784189   \n",
       "13                                    {\"alpha\": 0.01}            0.801126   \n",
       "14                                   {\"alpha\": 0.001}            0.808067   \n",
       "15  {\"n_estimators\": 30, \"max_depth\": 500, \"max_fe...             0.99293   \n",
       "16                                   {\"alpha\": 0.001}            0.741887   \n",
       "17                                    {\"alpha\": 0.01}             0.74191   \n",
       "18                                     {\"tol\": 0.001}             0.81821   \n",
       "19                      {\"tol\": 0.001, \"dual\": false}            0.818216   \n",
       "20             {\"C\": 10, \"tol\": 0.001, \"dual\": false}            0.818187   \n",
       "21                                    {\"alpha\": 0.01}            0.772288   \n",
       "22                                   {\"alpha\": 0.001}            0.774709   \n",
       "23            {\"C\": 1.0, \"tol\": 0.001, \"dual\": false}            0.865437   \n",
       "24                                   {\"alpha\": 0.001}            0.761463   \n",
       "25            {\"C\": 1.0, \"tol\": 0.001, \"dual\": false}            0.823881   \n",
       "26                                   {\"alpha\": 0.001}            0.783601   \n",
       "27            {\"C\": 1.0, \"tol\": 0.001, \"dual\": false}            0.848658   \n",
       "28          {\"C\": 100.0, \"tol\": 0.001, \"dual\": false}            0.870379   \n",
       "29                                   {\"alpha\": 0.001}             0.81342   \n",
       "30          {\"C\": 100.0, \"tol\": 0.001, \"dual\": false}            0.894398   \n",
       "31            {\"C\": 1.0, \"tol\": 0.001, \"dual\": false}            0.861488   \n",
       "32           {\"C\": 1.0, \"tol\": 0.0001, \"dual\": false}            0.861687   \n",
       "33        {\"C\": 1000.0, \"tol\": 0.0001, \"dual\": false}            0.895885   \n",
       "34  {\"n_estimators\": 10, \"max_depth\": 500, \"max_fe...            0.995645   \n",
       "35  {\"n_estimators\": 20, \"max_depth\": 500, \"max_fe...            0.998114   \n",
       "36  {\"n_estimators\": 20, \"max_depth\": 300, \"max_fe...            0.995675   \n",
       "37  {\"n_estimators\": 20, \"max_depth\": 300, \"max_fe...            0.992666   \n",
       "38  {\"n_estimators\": 30, \"max_depth\": 300, \"max_fe...            0.993577   \n",
       "39  {\"n_estimators\": 30, \"max_depth\": 500, \"max_fe...            0.998519   \n",
       "40  {\"bootstrap\": true, \"ccp_alpha\": 0.0, \"class_w...            0.988752   \n",
       "41  {\"bootstrap\": true, \"ccp_alpha\": 0.0, \"class_w...            0.990039   \n",
       "42  {\"bootstrap\": true, \"ccp_alpha\": 0.0, \"class_w...            0.996562   \n",
       "43  {\"epochs\": 10, \"embedding_dim\": 100, \"hidden_d...                 NaN   \n",
       "44  {\"epochs\":10, \"embedding_dim\": 100, \"hidden_di...                 NaN   \n",
       "45  {\"epochs\":20, hidden_dim\": 200, \"vocab_size\": ...                 NaN   \n",
       "46  {\"epochs\": 20, \"hidden_dim\": 200, \"vocab_size\"...                 NaN   \n",
       "47  {\"epochs\": 20, \"hidden_dim\": 200, \"vocab_size\"...                 NaN   \n",
       "48  {\"epochs\": 20, \"hidden1_dim\": 200, \"hidden2_di...                 NaN   \n",
       "49  {\"epochs\": 20, \"embedding_dim\": 100, \"hidden_d...                 NaN   \n",
       "50  {\"epochs\": 30, \"hidden1_dim\": 200, \"hidden2_di...  0.9991604427489119   \n",
       "\n",
       "              test acc  \n",
       "0             0.811025  \n",
       "1             0.809121  \n",
       "2             0.800259  \n",
       "3             0.807029  \n",
       "4              0.67433  \n",
       "5             0.691114  \n",
       "6             0.713235  \n",
       "7             0.713893  \n",
       "8             0.714504  \n",
       "9             0.714386  \n",
       "10            0.714622  \n",
       "11            0.665115  \n",
       "12             0.70402  \n",
       "13            0.709191  \n",
       "14            0.707616  \n",
       "15            0.813141  \n",
       "16            0.734861  \n",
       "17            0.734838  \n",
       "18            0.804607  \n",
       "19            0.804631  \n",
       "20            0.804466  \n",
       "21             0.75047  \n",
       "22            0.751316  \n",
       "23            0.819746  \n",
       "24            0.757804  \n",
       "25            0.810461  \n",
       "26             0.76763  \n",
       "27            0.819629  \n",
       "28            0.818077  \n",
       "29             0.78472  \n",
       "30            0.832887  \n",
       "31             0.82574  \n",
       "32            0.825693  \n",
       "33            0.831124  \n",
       "34            0.902609  \n",
       "35            0.909262  \n",
       "36            0.906841  \n",
       "37                 0.9  \n",
       "38            0.900917  \n",
       "39            0.908674  \n",
       "40            0.897062  \n",
       "41             0.89906  \n",
       "42            0.905383  \n",
       "43            0.853816  \n",
       "44            0.851967  \n",
       "45             0.90058  \n",
       "46            0.826869  \n",
       "47            0.777551  \n",
       "48            0.831218  \n",
       "49            0.890143  \n",
       "50  0.9077887478451655  "
      ]
     },
     "execution_count": 104,
     "metadata": {},
     "output_type": "execute_result"
    }
   ],
   "source": [
    "logs.log_data"
   ]
  },
  {
   "cell_type": "code",
   "execution_count": 105,
   "metadata": {},
   "outputs": [],
   "source": [
    "logs.save_data()"
   ]
  },
  {
   "cell_type": "code",
   "execution_count": null,
   "metadata": {},
   "outputs": [],
   "source": []
  }
 ],
 "metadata": {
  "kernelspec": {
   "display_name": "Python 3",
   "language": "python",
   "name": "python3"
  },
  "language_info": {
   "codemirror_mode": {
    "name": "ipython",
    "version": 3
   },
   "file_extension": ".py",
   "mimetype": "text/x-python",
   "name": "python",
   "nbconvert_exporter": "python",
   "pygments_lexer": "ipython3",
   "version": "3.7.6"
  },
  "toc-autonumbering": true,
  "toc-showcode": false,
  "toc-showmarkdowntxt": true,
  "toc-showtags": true
 },
 "nbformat": 4,
 "nbformat_minor": 4
}
